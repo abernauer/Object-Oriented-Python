{
  "nbformat": 4,
  "nbformat_minor": 0,
  "metadata": {
    "colab": {
      "name": "ObjectOrientedPython.ipynb",
      "provenance": [],
      "authorship_tag": "ABX9TyO/SCL90NWyOyXBwRlrmqXI"
    },
    "kernelspec": {
      "name": "python3",
      "display_name": "Python 3"
    }
  },
  "cells": [
    {
      "cell_type": "markdown",
      "metadata": {
        "id": "YJkFQmvZsNVS",
        "colab_type": "text"
      },
      "source": [
        "# What is object oriented progamming?"
      ]
    },
    {
      "cell_type": "markdown",
      "metadata": {
        "id": "vsOYq3IwsUyF",
        "colab_type": "text"
      },
      "source": [
        "Background info:\n",
        "* In the late 1970s software became difficult to mantain and read. \n",
        "* Alan Kay a researcher at Xerox part came up with the idea of modeling programs after physical objects or complex systems.\n",
        "* Analogy of the body havinn different cells each having their own functions, but are still able to work together.\n",
        "* Many different objects with different functions that talk together. \n",
        "* Kay came up with the small talk language which was the first object oriented language. \n",
        "* Structured system where the whole system is consistent. \n",
        "* The messages were methods and the types of objects were called classes. \n",
        "* Ruby is inspired by small talk and the contemporary version of the language. \n",
        "* Python's object system is also influenced by small talk. \n",
        "* The design of object oriented programming was to think differently. \n",
        "* Java claims to be a purely object oriented program which is not technically true. \n",
        "* In python everything except the keywords in the language are objects.\n",
        "* Allows us to create new objects that behave in a certain way.\n",
        "\n"
      ]
    },
    {
      "cell_type": "markdown",
      "metadata": {
        "id": "ngLzuI75vvVu",
        "colab_type": "text"
      },
      "source": [
        "## What are Python objects?"
      ]
    },
    {
      "cell_type": "code",
      "metadata": {
        "id": "swbymEd4vz4i",
        "colab_type": "code",
        "colab": {}
      },
      "source": [
        "# everything is an object means:\n",
        "# (1) everything has a type/class\n",
        "# (2) everything has attributes\n",
        "\n"
      ],
      "execution_count": null,
      "outputs": []
    },
    {
      "cell_type": "markdown",
      "metadata": {
        "id": "UgXXzDUrw4-c",
        "colab_type": "text"
      },
      "source": [
        "* Everything behaves in a similar fashion.\n",
        "* Branding, Starbucks, you have an expectation of the taste of their coffee.\n",
        "* Type an Class are mostly interchangably in speech in Python.\n",
        "* Type is a function and Class is a keyword."
      ]
    },
    {
      "cell_type": "code",
      "metadata": {
        "id": "JSs32nnAwND5",
        "colab_type": "code",
        "colab": {
          "base_uri": "https://localhost:8080/",
          "height": 35
        },
        "outputId": "4bd0f633-86f0-49e4-e9d7-e336843e442e"
      },
      "source": [
        "x = 100\n",
        "type(x)"
      ],
      "execution_count": 1,
      "outputs": [
        {
          "output_type": "execute_result",
          "data": {
            "text/plain": [
              "int"
            ]
          },
          "metadata": {
            "tags": []
          },
          "execution_count": 1
        }
      ]
    },
    {
      "cell_type": "code",
      "metadata": {
        "id": "AqLy8l9KxsFk",
        "colab_type": "code",
        "colab": {
          "base_uri": "https://localhost:8080/",
          "height": 35
        },
        "outputId": "caf6c282-460a-45b9-e126-05d4deed293b"
      },
      "source": [
        "x = 'abcd'\n",
        "type(x)"
      ],
      "execution_count": 2,
      "outputs": [
        {
          "output_type": "execute_result",
          "data": {
            "text/plain": [
              "str"
            ]
          },
          "metadata": {
            "tags": []
          },
          "execution_count": 2
        }
      ]
    },
    {
      "cell_type": "code",
      "metadata": {
        "id": "_6PNDwlkxw7D",
        "colab_type": "code",
        "colab": {
          "base_uri": "https://localhost:8080/",
          "height": 35
        },
        "outputId": "c82f6a17-3aef-4c96-c48e-9428ec757cd4"
      },
      "source": [
        "x = [10, 20, 30]\n",
        "type(x)"
      ],
      "execution_count": 4,
      "outputs": [
        {
          "output_type": "execute_result",
          "data": {
            "text/plain": [
              "list"
            ]
          },
          "metadata": {
            "tags": []
          },
          "execution_count": 4
        }
      ]
    },
    {
      "cell_type": "markdown",
      "metadata": {
        "id": "4rkNSdefx8Y5",
        "colab_type": "text"
      },
      "source": [
        "* In each case we are saying x points to some certain kind of object of x and type.\n",
        "* In staticly typed languages your type is defined at the definition.\n",
        "* In Python when you get the class back it allows you to create new objects.\n",
        "* Constructor or function class creates an object of that type."
      ]
    },
    {
      "cell_type": "markdown",
      "metadata": {
        "id": "yRM0KTSfyxNA",
        "colab_type": "text"
      },
      "source": [
        "Revisit later for better notes."
      ]
    },
    {
      "cell_type": "code",
      "metadata": {
        "id": "T1_lGi1sx5eN",
        "colab_type": "code",
        "colab": {
          "base_uri": "https://localhost:8080/",
          "height": 35
        },
        "outputId": "593dc2bb-5dd8-4361-bd09-5fac69da658f"
      },
      "source": [
        "int('123')"
      ],
      "execution_count": 5,
      "outputs": [
        {
          "output_type": "execute_result",
          "data": {
            "text/plain": [
              "123"
            ]
          },
          "metadata": {
            "tags": []
          },
          "execution_count": 5
        }
      ]
    },
    {
      "cell_type": "code",
      "metadata": {
        "id": "C1EUPfoFy7fV",
        "colab_type": "code",
        "colab": {
          "base_uri": "https://localhost:8080/",
          "height": 35
        },
        "outputId": "7f9d3ed3-1a7c-48b4-9a2f-f9318ce973f7"
      },
      "source": [
        "str(123)"
      ],
      "execution_count": 6,
      "outputs": [
        {
          "output_type": "execute_result",
          "data": {
            "application/vnd.google.colaboratory.intrinsic+json": {
              "type": "string"
            },
            "text/plain": [
              "'123'"
            ]
          },
          "metadata": {
            "tags": []
          },
          "execution_count": 6
        }
      ]
    },
    {
      "cell_type": "code",
      "metadata": {
        "id": "2_9zq1nkzNar",
        "colab_type": "code",
        "colab": {
          "base_uri": "https://localhost:8080/",
          "height": 35
        },
        "outputId": "b4144345-4894-4de5-f7c7-a97991eb20c6"
      },
      "source": [
        "list('abcd')"
      ],
      "execution_count": 7,
      "outputs": [
        {
          "output_type": "execute_result",
          "data": {
            "text/plain": [
              "['a', 'b', 'c', 'd']"
            ]
          },
          "metadata": {
            "tags": []
          },
          "execution_count": 7
        }
      ]
    },
    {
      "cell_type": "markdown",
      "metadata": {
        "id": "lFFV6DHVzSHM",
        "colab_type": "text"
      },
      "source": [
        "* In many languages these classes are not objects themselves.\n",
        "* In Python this is not the case.\n",
        "* Classes are objects.\n"
      ]
    },
    {
      "cell_type": "code",
      "metadata": {
        "id": "aMLdunv0zsRo",
        "colab_type": "code",
        "colab": {
          "base_uri": "https://localhost:8080/",
          "height": 35
        },
        "outputId": "68b1b5c7-ff6e-4aa9-807a-5a8c999f5907"
      },
      "source": [
        "type(int)"
      ],
      "execution_count": 8,
      "outputs": [
        {
          "output_type": "execute_result",
          "data": {
            "text/plain": [
              "type"
            ]
          },
          "metadata": {
            "tags": []
          },
          "execution_count": 8
        }
      ]
    },
    {
      "cell_type": "code",
      "metadata": {
        "id": "ycILOBVizx3M",
        "colab_type": "code",
        "colab": {
          "base_uri": "https://localhost:8080/",
          "height": 35
        },
        "outputId": "2b684b52-d2d7-4013-b621-d5d3d20ff5de"
      },
      "source": [
        "type(str)"
      ],
      "execution_count": 9,
      "outputs": [
        {
          "output_type": "execute_result",
          "data": {
            "text/plain": [
              "type"
            ]
          },
          "metadata": {
            "tags": []
          },
          "execution_count": 9
        }
      ]
    },
    {
      "cell_type": "code",
      "metadata": {
        "id": "9yuCulgxz6vE",
        "colab_type": "code",
        "colab": {
          "base_uri": "https://localhost:8080/",
          "height": 35
        },
        "outputId": "f3e93a29-a1b0-495e-c58c-d53e28a33af4"
      },
      "source": [
        "type(list)"
      ],
      "execution_count": 10,
      "outputs": [
        {
          "output_type": "execute_result",
          "data": {
            "text/plain": [
              "type"
            ]
          },
          "metadata": {
            "tags": []
          },
          "execution_count": 10
        }
      ]
    },
    {
      "cell_type": "markdown",
      "metadata": {
        "id": "GbqEoiBB1AF2",
        "colab_type": "text"
      },
      "source": [
        "* Types are themselves instances of object type.\n"
      ]
    },
    {
      "cell_type": "code",
      "metadata": {
        "id": "fZeqcvIP1J2O",
        "colab_type": "code",
        "colab": {}
      },
      "source": [
        "# factory's factory = type -- every class's type is \"type\""
      ],
      "execution_count": null,
      "outputs": []
    },
    {
      "cell_type": "code",
      "metadata": {
        "id": "9F_I8vpq1cg6",
        "colab_type": "code",
        "colab": {
          "base_uri": "https://localhost:8080/",
          "height": 35
        },
        "outputId": "779edaef-809c-40f7-c609-4a9b2d219722"
      },
      "source": [
        "type(type)"
      ],
      "execution_count": 11,
      "outputs": [
        {
          "output_type": "execute_result",
          "data": {
            "text/plain": [
              "type"
            ]
          },
          "metadata": {
            "tags": []
          },
          "execution_count": 11
        }
      ]
    },
    {
      "cell_type": "markdown",
      "metadata": {
        "id": "Hk77AdYw1p6t",
        "colab_type": "text"
      },
      "source": [
        "* Attributes are essential to understanding objects in Python.\n",
        "* Attributes are objects.\n",
        "* Many objects in Python are shared in memory\n",
        "* The dir() function tells us what the attributes or methods of an object are.\n",
        "* dir() returns a list"
      ]
    },
    {
      "cell_type": "code",
      "metadata": {
        "id": "DjwQB3Mk1q2m",
        "colab_type": "code",
        "colab": {
          "base_uri": "https://localhost:8080/",
          "height": 1000
        },
        "outputId": "3f5a1f6e-4be8-495f-d10a-eed71c1e305a"
      },
      "source": [
        "#a # identifier = name = variable or function.. an object of some sort\n",
        "  # search is LEGB Local, Enclosing, Global, Built-in\n",
        "# a.b # .b means: Look for the name (\"attribute\") b inside of the object a\n",
        "\n",
        "a = 'abcd'\n",
        "dir(a) # \"dunders\" -- double underscore"
      ],
      "execution_count": 14,
      "outputs": [
        {
          "output_type": "execute_result",
          "data": {
            "text/plain": [
              "['__add__',\n",
              " '__class__',\n",
              " '__contains__',\n",
              " '__delattr__',\n",
              " '__dir__',\n",
              " '__doc__',\n",
              " '__eq__',\n",
              " '__format__',\n",
              " '__ge__',\n",
              " '__getattribute__',\n",
              " '__getitem__',\n",
              " '__getnewargs__',\n",
              " '__gt__',\n",
              " '__hash__',\n",
              " '__init__',\n",
              " '__init_subclass__',\n",
              " '__iter__',\n",
              " '__le__',\n",
              " '__len__',\n",
              " '__lt__',\n",
              " '__mod__',\n",
              " '__mul__',\n",
              " '__ne__',\n",
              " '__new__',\n",
              " '__reduce__',\n",
              " '__reduce_ex__',\n",
              " '__repr__',\n",
              " '__rmod__',\n",
              " '__rmul__',\n",
              " '__setattr__',\n",
              " '__sizeof__',\n",
              " '__str__',\n",
              " '__subclasshook__',\n",
              " 'capitalize',\n",
              " 'casefold',\n",
              " 'center',\n",
              " 'count',\n",
              " 'encode',\n",
              " 'endswith',\n",
              " 'expandtabs',\n",
              " 'find',\n",
              " 'format',\n",
              " 'format_map',\n",
              " 'index',\n",
              " 'isalnum',\n",
              " 'isalpha',\n",
              " 'isdecimal',\n",
              " 'isdigit',\n",
              " 'isidentifier',\n",
              " 'islower',\n",
              " 'isnumeric',\n",
              " 'isprintable',\n",
              " 'isspace',\n",
              " 'istitle',\n",
              " 'isupper',\n",
              " 'join',\n",
              " 'ljust',\n",
              " 'lower',\n",
              " 'lstrip',\n",
              " 'maketrans',\n",
              " 'partition',\n",
              " 'replace',\n",
              " 'rfind',\n",
              " 'rindex',\n",
              " 'rjust',\n",
              " 'rpartition',\n",
              " 'rsplit',\n",
              " 'rstrip',\n",
              " 'split',\n",
              " 'splitlines',\n",
              " 'startswith',\n",
              " 'strip',\n",
              " 'swapcase',\n",
              " 'title',\n",
              " 'translate',\n",
              " 'upper',\n",
              " 'zfill']"
            ]
          },
          "metadata": {
            "tags": []
          },
          "execution_count": 14
        }
      ]
    },
    {
      "cell_type": "markdown",
      "metadata": {
        "id": "IJifAJCm4HmE",
        "colab_type": "text"
      },
      "source": [
        "* a.upper() asking does a have the method upper and we invoke it with the closing parenthesis\n",
        "* . signals we're looking for an attribute."
      ]
    },
    {
      "cell_type": "code",
      "metadata": {
        "id": "OMp8ZG32343s",
        "colab_type": "code",
        "colab": {
          "base_uri": "https://localhost:8080/",
          "height": 35
        },
        "outputId": "0b52a46b-3558-47c8-89ea-0a3b09f8ae33"
      },
      "source": [
        "a.upper()"
      ],
      "execution_count": 15,
      "outputs": [
        {
          "output_type": "execute_result",
          "data": {
            "application/vnd.google.colaboratory.intrinsic+json": {
              "type": "string"
            },
            "text/plain": [
              "'ABCD'"
            ]
          },
          "metadata": {
            "tags": []
          },
          "execution_count": 15
        }
      ]
    },
    {
      "cell_type": "code",
      "metadata": {
        "id": "N8mzEFZn4eOl",
        "colab_type": "code",
        "colab": {}
      },
      "source": [
        "import os"
      ],
      "execution_count": 16,
      "outputs": []
    },
    {
      "cell_type": "code",
      "metadata": {
        "id": "j4Wup9z64xJo",
        "colab_type": "code",
        "colab": {
          "base_uri": "https://localhost:8080/",
          "height": 35
        },
        "outputId": "190028ee-3ff5-4ef2-f2cf-831689589a9a"
      },
      "source": [
        "os.sep"
      ],
      "execution_count": 17,
      "outputs": [
        {
          "output_type": "execute_result",
          "data": {
            "application/vnd.google.colaboratory.intrinsic+json": {
              "type": "string"
            },
            "text/plain": [
              "'/'"
            ]
          },
          "metadata": {
            "tags": []
          },
          "execution_count": 17
        }
      ]
    },
    {
      "cell_type": "code",
      "metadata": {
        "id": "rSMkmcAQ42u6",
        "colab_type": "code",
        "colab": {}
      },
      "source": [
        "os.sep = 'hahaha'"
      ],
      "execution_count": 18,
      "outputs": []
    },
    {
      "cell_type": "code",
      "metadata": {
        "id": "KIIRUFwy47Wy",
        "colab_type": "code",
        "colab": {
          "base_uri": "https://localhost:8080/",
          "height": 35
        },
        "outputId": "2eb2ba48-8f83-4561-8c51-47d6fd01688a"
      },
      "source": [
        "os.sep"
      ],
      "execution_count": 19,
      "outputs": [
        {
          "output_type": "execute_result",
          "data": {
            "application/vnd.google.colaboratory.intrinsic+json": {
              "type": "string"
            },
            "text/plain": [
              "'hahaha'"
            ]
          },
          "metadata": {
            "tags": []
          },
          "execution_count": 19
        }
      ]
    },
    {
      "cell_type": "markdown",
      "metadata": {
        "id": "YMzsfa3B490V",
        "colab_type": "text"
      },
      "source": [
        "* You can set the value of an attribute in memory.\n",
        "* The exception is things written in C. "
      ]
    },
    {
      "cell_type": "code",
      "metadata": {
        "id": "yklp-sFP5Exd",
        "colab_type": "code",
        "colab": {}
      },
      "source": [
        "os.my_course_name = 'Python objects'"
      ],
      "execution_count": 20,
      "outputs": []
    },
    {
      "cell_type": "code",
      "metadata": {
        "id": "HlZL031Y5O-v",
        "colab_type": "code",
        "colab": {
          "base_uri": "https://localhost:8080/",
          "height": 35
        },
        "outputId": "0c1436d0-56b4-4d8d-8b71-081a0daeff5e"
      },
      "source": [
        "os.my_course_name"
      ],
      "execution_count": 21,
      "outputs": [
        {
          "output_type": "execute_result",
          "data": {
            "application/vnd.google.colaboratory.intrinsic+json": {
              "type": "string"
            },
            "text/plain": [
              "'Python objects'"
            ]
          },
          "metadata": {
            "tags": []
          },
          "execution_count": 21
        }
      ]
    },
    {
      "cell_type": "code",
      "metadata": {
        "id": "Rnd8RYuO5XGg",
        "colab_type": "code",
        "colab": {}
      },
      "source": [
        ""
      ],
      "execution_count": null,
      "outputs": []
    }
  ]
}