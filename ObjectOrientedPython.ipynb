{
  "nbformat": 4,
  "nbformat_minor": 0,
  "metadata": {
    "colab": {
      "name": "ObjectOrientedPython.ipynb",
      "provenance": [],
      "authorship_tag": "ABX9TyM/TH9H1oktD4KZdecfaTDT",
      "include_colab_link": true
    },
    "kernelspec": {
      "name": "python3",
      "display_name": "Python 3"
    }
  },
  "cells": [
    {
      "cell_type": "markdown",
      "metadata": {
        "id": "view-in-github",
        "colab_type": "text"
      },
      "source": [
        "<a href=\"https://colab.research.google.com/github/abernauer/Object-Oriented-Python/blob/master/ObjectOrientedPython.ipynb\" target=\"_parent\"><img src=\"https://colab.research.google.com/assets/colab-badge.svg\" alt=\"Open In Colab\"/></a>"
      ]
    },
    {
      "cell_type": "markdown",
      "metadata": {
        "id": "YJkFQmvZsNVS",
        "colab_type": "text"
      },
      "source": [
        "# What is object oriented progamming?"
      ]
    },
    {
      "cell_type": "markdown",
      "metadata": {
        "id": "vsOYq3IwsUyF",
        "colab_type": "text"
      },
      "source": [
        "Background info:\n",
        "* In the late 1970s software became difficult to mantain and read. \n",
        "* Alan Kay a researcher at Xerox part came up with the idea of modeling programs after physical objects or complex systems.\n",
        "* Analogy of the body havinn different cells each having their own functions, but are still able to work together.\n",
        "* Many different objects with different functions that talk together. \n",
        "* Kay came up with the small talk language which was the first object oriented language. \n",
        "* Structured system where the whole system is consistent. \n",
        "* The messages were methods and the types of objects were called classes. \n",
        "* Ruby is inspired by small talk and the contemporary version of the language. \n",
        "* Python's object system is also influenced by small talk. \n",
        "* The design of object oriented programming was to think differently. \n",
        "* Java claims to be a purely object oriented program which is not technically true. \n",
        "* In python everything except the keywords in the language are objects.\n",
        "* Allows us to create new objects that behave in a certain way.\n",
        "\n"
      ]
    },
    {
      "cell_type": "markdown",
      "metadata": {
        "id": "ngLzuI75vvVu",
        "colab_type": "text"
      },
      "source": [
        "## What are Python objects?"
      ]
    },
    {
      "cell_type": "code",
      "metadata": {
        "id": "swbymEd4vz4i",
        "colab_type": "code",
        "colab": {}
      },
      "source": [
        "# everything is an object means:\n",
        "# (1) everything has a type/class\n",
        "# (2) everything has attributes\n",
        "\n"
      ],
      "execution_count": null,
      "outputs": []
    },
    {
      "cell_type": "markdown",
      "metadata": {
        "id": "UgXXzDUrw4-c",
        "colab_type": "text"
      },
      "source": [
        "* Everything behaves in a similar fashion.\n",
        "* Branding, Starbucks, you have an expectation of the taste of their coffee.\n",
        "* Type an Class are mostly interchangably in speech in Python.\n",
        "* Type is a function and Class is a keyword."
      ]
    },
    {
      "cell_type": "code",
      "metadata": {
        "id": "JSs32nnAwND5",
        "colab_type": "code",
        "colab": {
          "base_uri": "https://localhost:8080/",
          "height": 35
        },
        "outputId": "4bd0f633-86f0-49e4-e9d7-e336843e442e"
      },
      "source": [
        "x = 100\n",
        "type(x)"
      ],
      "execution_count": null,
      "outputs": [
        {
          "output_type": "execute_result",
          "data": {
            "text/plain": [
              "int"
            ]
          },
          "metadata": {
            "tags": []
          },
          "execution_count": 1
        }
      ]
    },
    {
      "cell_type": "code",
      "metadata": {
        "id": "AqLy8l9KxsFk",
        "colab_type": "code",
        "colab": {
          "base_uri": "https://localhost:8080/",
          "height": 35
        },
        "outputId": "caf6c282-460a-45b9-e126-05d4deed293b"
      },
      "source": [
        "x = 'abcd'\n",
        "type(x)"
      ],
      "execution_count": null,
      "outputs": [
        {
          "output_type": "execute_result",
          "data": {
            "text/plain": [
              "str"
            ]
          },
          "metadata": {
            "tags": []
          },
          "execution_count": 2
        }
      ]
    },
    {
      "cell_type": "code",
      "metadata": {
        "id": "_6PNDwlkxw7D",
        "colab_type": "code",
        "colab": {
          "base_uri": "https://localhost:8080/",
          "height": 35
        },
        "outputId": "c82f6a17-3aef-4c96-c48e-9428ec757cd4"
      },
      "source": [
        "x = [10, 20, 30]\n",
        "type(x)"
      ],
      "execution_count": null,
      "outputs": [
        {
          "output_type": "execute_result",
          "data": {
            "text/plain": [
              "list"
            ]
          },
          "metadata": {
            "tags": []
          },
          "execution_count": 4
        }
      ]
    },
    {
      "cell_type": "markdown",
      "metadata": {
        "id": "4rkNSdefx8Y5",
        "colab_type": "text"
      },
      "source": [
        "* In each case we are saying x points to some certain kind of object of x and type.\n",
        "* In staticly typed languages your type is defined at the definition.\n",
        "* In Python when you get the class back it allows you to create new objects.\n",
        "* Constructor or function class creates an object of that type."
      ]
    },
    {
      "cell_type": "markdown",
      "metadata": {
        "id": "yRM0KTSfyxNA",
        "colab_type": "text"
      },
      "source": [
        "Revisit later for better notes."
      ]
    },
    {
      "cell_type": "code",
      "metadata": {
        "id": "T1_lGi1sx5eN",
        "colab_type": "code",
        "colab": {
          "base_uri": "https://localhost:8080/",
          "height": 35
        },
        "outputId": "593dc2bb-5dd8-4361-bd09-5fac69da658f"
      },
      "source": [
        "int('123')"
      ],
      "execution_count": null,
      "outputs": [
        {
          "output_type": "execute_result",
          "data": {
            "text/plain": [
              "123"
            ]
          },
          "metadata": {
            "tags": []
          },
          "execution_count": 5
        }
      ]
    },
    {
      "cell_type": "code",
      "metadata": {
        "id": "C1EUPfoFy7fV",
        "colab_type": "code",
        "colab": {
          "base_uri": "https://localhost:8080/",
          "height": 35
        },
        "outputId": "7f9d3ed3-1a7c-48b4-9a2f-f9318ce973f7"
      },
      "source": [
        "str(123)"
      ],
      "execution_count": null,
      "outputs": [
        {
          "output_type": "execute_result",
          "data": {
            "application/vnd.google.colaboratory.intrinsic+json": {
              "type": "string"
            },
            "text/plain": [
              "'123'"
            ]
          },
          "metadata": {
            "tags": []
          },
          "execution_count": 6
        }
      ]
    },
    {
      "cell_type": "code",
      "metadata": {
        "id": "2_9zq1nkzNar",
        "colab_type": "code",
        "colab": {
          "base_uri": "https://localhost:8080/",
          "height": 35
        },
        "outputId": "b4144345-4894-4de5-f7c7-a97991eb20c6"
      },
      "source": [
        "list('abcd')"
      ],
      "execution_count": null,
      "outputs": [
        {
          "output_type": "execute_result",
          "data": {
            "text/plain": [
              "['a', 'b', 'c', 'd']"
            ]
          },
          "metadata": {
            "tags": []
          },
          "execution_count": 7
        }
      ]
    },
    {
      "cell_type": "markdown",
      "metadata": {
        "id": "lFFV6DHVzSHM",
        "colab_type": "text"
      },
      "source": [
        "* In many languages these classes are not objects themselves.\n",
        "* In Python this is not the case.\n",
        "* Classes are objects.\n"
      ]
    },
    {
      "cell_type": "code",
      "metadata": {
        "id": "aMLdunv0zsRo",
        "colab_type": "code",
        "colab": {
          "base_uri": "https://localhost:8080/",
          "height": 35
        },
        "outputId": "68b1b5c7-ff6e-4aa9-807a-5a8c999f5907"
      },
      "source": [
        "type(int)"
      ],
      "execution_count": null,
      "outputs": [
        {
          "output_type": "execute_result",
          "data": {
            "text/plain": [
              "type"
            ]
          },
          "metadata": {
            "tags": []
          },
          "execution_count": 8
        }
      ]
    },
    {
      "cell_type": "code",
      "metadata": {
        "id": "ycILOBVizx3M",
        "colab_type": "code",
        "colab": {
          "base_uri": "https://localhost:8080/",
          "height": 35
        },
        "outputId": "2b684b52-d2d7-4013-b621-d5d3d20ff5de"
      },
      "source": [
        "type(str)"
      ],
      "execution_count": null,
      "outputs": [
        {
          "output_type": "execute_result",
          "data": {
            "text/plain": [
              "type"
            ]
          },
          "metadata": {
            "tags": []
          },
          "execution_count": 9
        }
      ]
    },
    {
      "cell_type": "code",
      "metadata": {
        "id": "9yuCulgxz6vE",
        "colab_type": "code",
        "colab": {
          "base_uri": "https://localhost:8080/",
          "height": 35
        },
        "outputId": "f3e93a29-a1b0-495e-c58c-d53e28a33af4"
      },
      "source": [
        "type(list)"
      ],
      "execution_count": null,
      "outputs": [
        {
          "output_type": "execute_result",
          "data": {
            "text/plain": [
              "type"
            ]
          },
          "metadata": {
            "tags": []
          },
          "execution_count": 10
        }
      ]
    },
    {
      "cell_type": "markdown",
      "metadata": {
        "id": "GbqEoiBB1AF2",
        "colab_type": "text"
      },
      "source": [
        "* Types are themselves instances of object type.\n"
      ]
    },
    {
      "cell_type": "code",
      "metadata": {
        "id": "fZeqcvIP1J2O",
        "colab_type": "code",
        "colab": {}
      },
      "source": [
        "# factory's factory = type -- every class's type is \"type\""
      ],
      "execution_count": null,
      "outputs": []
    },
    {
      "cell_type": "code",
      "metadata": {
        "id": "9F_I8vpq1cg6",
        "colab_type": "code",
        "colab": {
          "base_uri": "https://localhost:8080/",
          "height": 35
        },
        "outputId": "779edaef-809c-40f7-c609-4a9b2d219722"
      },
      "source": [
        "type(type)"
      ],
      "execution_count": null,
      "outputs": [
        {
          "output_type": "execute_result",
          "data": {
            "text/plain": [
              "type"
            ]
          },
          "metadata": {
            "tags": []
          },
          "execution_count": 11
        }
      ]
    },
    {
      "cell_type": "markdown",
      "metadata": {
        "id": "Hk77AdYw1p6t",
        "colab_type": "text"
      },
      "source": [
        "* Attributes are essential to understanding objects in Python.\n",
        "* Attributes are objects.\n",
        "* Many objects in Python are shared in memory\n",
        "* The dir() function tells us what the attributes or methods of an object are.\n",
        "* dir() returns a list"
      ]
    },
    {
      "cell_type": "code",
      "metadata": {
        "id": "DjwQB3Mk1q2m",
        "colab_type": "code",
        "colab": {
          "base_uri": "https://localhost:8080/",
          "height": 1000
        },
        "outputId": "3f5a1f6e-4be8-495f-d10a-eed71c1e305a"
      },
      "source": [
        "#a # identifier = name = variable or function.. an object of some sort\n",
        "  # search is LEGB Local, Enclosing, Global, Built-in\n",
        "# a.b # .b means: Look for the name (\"attribute\") b inside of the object a\n",
        "\n",
        "a = 'abcd'\n",
        "dir(a) # \"dunders\" -- double underscore"
      ],
      "execution_count": null,
      "outputs": [
        {
          "output_type": "execute_result",
          "data": {
            "text/plain": [
              "['__add__',\n",
              " '__class__',\n",
              " '__contains__',\n",
              " '__delattr__',\n",
              " '__dir__',\n",
              " '__doc__',\n",
              " '__eq__',\n",
              " '__format__',\n",
              " '__ge__',\n",
              " '__getattribute__',\n",
              " '__getitem__',\n",
              " '__getnewargs__',\n",
              " '__gt__',\n",
              " '__hash__',\n",
              " '__init__',\n",
              " '__init_subclass__',\n",
              " '__iter__',\n",
              " '__le__',\n",
              " '__len__',\n",
              " '__lt__',\n",
              " '__mod__',\n",
              " '__mul__',\n",
              " '__ne__',\n",
              " '__new__',\n",
              " '__reduce__',\n",
              " '__reduce_ex__',\n",
              " '__repr__',\n",
              " '__rmod__',\n",
              " '__rmul__',\n",
              " '__setattr__',\n",
              " '__sizeof__',\n",
              " '__str__',\n",
              " '__subclasshook__',\n",
              " 'capitalize',\n",
              " 'casefold',\n",
              " 'center',\n",
              " 'count',\n",
              " 'encode',\n",
              " 'endswith',\n",
              " 'expandtabs',\n",
              " 'find',\n",
              " 'format',\n",
              " 'format_map',\n",
              " 'index',\n",
              " 'isalnum',\n",
              " 'isalpha',\n",
              " 'isdecimal',\n",
              " 'isdigit',\n",
              " 'isidentifier',\n",
              " 'islower',\n",
              " 'isnumeric',\n",
              " 'isprintable',\n",
              " 'isspace',\n",
              " 'istitle',\n",
              " 'isupper',\n",
              " 'join',\n",
              " 'ljust',\n",
              " 'lower',\n",
              " 'lstrip',\n",
              " 'maketrans',\n",
              " 'partition',\n",
              " 'replace',\n",
              " 'rfind',\n",
              " 'rindex',\n",
              " 'rjust',\n",
              " 'rpartition',\n",
              " 'rsplit',\n",
              " 'rstrip',\n",
              " 'split',\n",
              " 'splitlines',\n",
              " 'startswith',\n",
              " 'strip',\n",
              " 'swapcase',\n",
              " 'title',\n",
              " 'translate',\n",
              " 'upper',\n",
              " 'zfill']"
            ]
          },
          "metadata": {
            "tags": []
          },
          "execution_count": 14
        }
      ]
    },
    {
      "cell_type": "markdown",
      "metadata": {
        "id": "IJifAJCm4HmE",
        "colab_type": "text"
      },
      "source": [
        "* a.upper() asking does a have the method upper and we invoke it with the closing parenthesis\n",
        "* . signals we're looking for an attribute."
      ]
    },
    {
      "cell_type": "code",
      "metadata": {
        "id": "OMp8ZG32343s",
        "colab_type": "code",
        "colab": {
          "base_uri": "https://localhost:8080/",
          "height": 35
        },
        "outputId": "0b52a46b-3558-47c8-89ea-0a3b09f8ae33"
      },
      "source": [
        "a.upper()"
      ],
      "execution_count": null,
      "outputs": [
        {
          "output_type": "execute_result",
          "data": {
            "application/vnd.google.colaboratory.intrinsic+json": {
              "type": "string"
            },
            "text/plain": [
              "'ABCD'"
            ]
          },
          "metadata": {
            "tags": []
          },
          "execution_count": 15
        }
      ]
    },
    {
      "cell_type": "code",
      "metadata": {
        "id": "N8mzEFZn4eOl",
        "colab_type": "code",
        "colab": {}
      },
      "source": [
        "import os"
      ],
      "execution_count": null,
      "outputs": []
    },
    {
      "cell_type": "code",
      "metadata": {
        "id": "j4Wup9z64xJo",
        "colab_type": "code",
        "colab": {
          "base_uri": "https://localhost:8080/",
          "height": 35
        },
        "outputId": "190028ee-3ff5-4ef2-f2cf-831689589a9a"
      },
      "source": [
        "os.sep"
      ],
      "execution_count": null,
      "outputs": [
        {
          "output_type": "execute_result",
          "data": {
            "application/vnd.google.colaboratory.intrinsic+json": {
              "type": "string"
            },
            "text/plain": [
              "'/'"
            ]
          },
          "metadata": {
            "tags": []
          },
          "execution_count": 17
        }
      ]
    },
    {
      "cell_type": "code",
      "metadata": {
        "id": "rSMkmcAQ42u6",
        "colab_type": "code",
        "colab": {}
      },
      "source": [
        "os.sep = 'hahaha'"
      ],
      "execution_count": null,
      "outputs": []
    },
    {
      "cell_type": "code",
      "metadata": {
        "id": "KIIRUFwy47Wy",
        "colab_type": "code",
        "colab": {
          "base_uri": "https://localhost:8080/",
          "height": 35
        },
        "outputId": "2eb2ba48-8f83-4561-8c51-47d6fd01688a"
      },
      "source": [
        "os.sep"
      ],
      "execution_count": null,
      "outputs": [
        {
          "output_type": "execute_result",
          "data": {
            "application/vnd.google.colaboratory.intrinsic+json": {
              "type": "string"
            },
            "text/plain": [
              "'hahaha'"
            ]
          },
          "metadata": {
            "tags": []
          },
          "execution_count": 19
        }
      ]
    },
    {
      "cell_type": "markdown",
      "metadata": {
        "id": "YMzsfa3B490V",
        "colab_type": "text"
      },
      "source": [
        "* You can set the value of an attribute in memory.\n",
        "* The exception is things written in C. "
      ]
    },
    {
      "cell_type": "code",
      "metadata": {
        "id": "yklp-sFP5Exd",
        "colab_type": "code",
        "colab": {}
      },
      "source": [
        "os.my_course_name = 'Python objects'"
      ],
      "execution_count": null,
      "outputs": []
    },
    {
      "cell_type": "code",
      "metadata": {
        "id": "HlZL031Y5O-v",
        "colab_type": "code",
        "colab": {
          "base_uri": "https://localhost:8080/",
          "height": 35
        },
        "outputId": "0c1436d0-56b4-4d8d-8b71-081a0daeff5e"
      },
      "source": [
        "os.my_course_name"
      ],
      "execution_count": null,
      "outputs": [
        {
          "output_type": "execute_result",
          "data": {
            "application/vnd.google.colaboratory.intrinsic+json": {
              "type": "string"
            },
            "text/plain": [
              "'Python objects'"
            ]
          },
          "metadata": {
            "tags": []
          },
          "execution_count": 21
        }
      ]
    },
    {
      "cell_type": "code",
      "metadata": {
        "id": "Rnd8RYuO5XGg",
        "colab_type": "code",
        "colab": {}
      },
      "source": [
        ""
      ],
      "execution_count": null,
      "outputs": []
    },
    {
      "cell_type": "markdown",
      "metadata": {
        "id": "BRVMlclX5zlj",
        "colab_type": "text"
      },
      "source": [
        "### Methods vs. functions"
      ]
    },
    {
      "cell_type": "code",
      "metadata": {
        "id": "si16nOs654lm",
        "colab_type": "code",
        "colab": {
          "base_uri": "https://localhost:8080/",
          "height": 35
        },
        "outputId": "2c3de81d-b747-4ab2-83e0-d4790acd6b1d"
      },
      "source": [
        "mylist = [10, 20, 30]\n",
        "sum(mylist)  # \"sum\" is a function, takes a list as an argument or iterable"
      ],
      "execution_count": null,
      "outputs": [
        {
          "output_type": "execute_result",
          "data": {
            "text/plain": [
              "60"
            ]
          },
          "metadata": {
            "tags": []
          },
          "execution_count": 22
        }
      ]
    },
    {
      "cell_type": "code",
      "metadata": {
        "id": "KjscYj_k6Q41",
        "colab_type": "code",
        "colab": {}
      },
      "source": [
        "# function syntax\n",
        "# f(x)"
      ],
      "execution_count": null,
      "outputs": []
    },
    {
      "cell_type": "markdown",
      "metadata": {
        "id": "TgVw55kf6Ymm",
        "colab_type": "text"
      },
      "source": [
        "* A function just exists as a variable or name. "
      ]
    },
    {
      "cell_type": "code",
      "metadata": {
        "id": "xoW7h78H6VgM",
        "colab_type": "code",
        "colab": {
          "base_uri": "https://localhost:8080/",
          "height": 172
        },
        "outputId": "7a2d090f-05a2-43cd-8f6b-09cfdf8f74c2"
      },
      "source": [
        "mylist.sum() # this will not work!"
      ],
      "execution_count": null,
      "outputs": [
        {
          "output_type": "error",
          "ename": "AttributeError",
          "evalue": "ignored",
          "traceback": [
            "\u001b[0;31m---------------------------------------------------------------------------\u001b[0m",
            "\u001b[0;31mAttributeError\u001b[0m                            Traceback (most recent call last)",
            "\u001b[0;32m<ipython-input-23-14f7a001c4fd>\u001b[0m in \u001b[0;36m<module>\u001b[0;34m()\u001b[0m\n\u001b[0;32m----> 1\u001b[0;31m \u001b[0mmylist\u001b[0m\u001b[0;34m.\u001b[0m\u001b[0msum\u001b[0m\u001b[0;34m(\u001b[0m\u001b[0;34m)\u001b[0m \u001b[0;31m# this will not work!\u001b[0m\u001b[0;34m\u001b[0m\u001b[0;34m\u001b[0m\u001b[0m\n\u001b[0m",
            "\u001b[0;31mAttributeError\u001b[0m: 'list' object has no attribute 'sum'"
          ]
        }
      ]
    },
    {
      "cell_type": "code",
      "metadata": {
        "id": "5a0H6oV464Rx",
        "colab_type": "code",
        "colab": {
          "base_uri": "https://localhost:8080/",
          "height": 35
        },
        "outputId": "2e592cce-36a8-4962-f182-0cc233e03b6a"
      },
      "source": [
        "mylist.pop()"
      ],
      "execution_count": null,
      "outputs": [
        {
          "output_type": "execute_result",
          "data": {
            "text/plain": [
              "30"
            ]
          },
          "metadata": {
            "tags": []
          },
          "execution_count": 24
        }
      ]
    },
    {
      "cell_type": "code",
      "metadata": {
        "id": "AV8e85UD6-UL",
        "colab_type": "code",
        "colab": {
          "base_uri": "https://localhost:8080/",
          "height": 35
        },
        "outputId": "83cea2f3-433b-4abe-ca99-1dba474fe5c7"
      },
      "source": [
        "mylist"
      ],
      "execution_count": null,
      "outputs": [
        {
          "output_type": "execute_result",
          "data": {
            "text/plain": [
              "[10, 20]"
            ]
          },
          "metadata": {
            "tags": []
          },
          "execution_count": 25
        }
      ]
    },
    {
      "cell_type": "code",
      "metadata": {
        "id": "ctdunBPH7BEp",
        "colab_type": "code",
        "colab": {}
      },
      "source": [
        "# syntax of a method\n",
        "# o.m(x)"
      ],
      "execution_count": null,
      "outputs": []
    },
    {
      "cell_type": "markdown",
      "metadata": {
        "id": "5gyByMog7Wwe",
        "colab_type": "text"
      },
      "source": [
        "* Almost everything is a method in Python.\n",
        "* A single function was implemented to work across different objects.\n",
        "* Always look for methods.\n",
        "* Help is a good way to look for methods."
      ]
    },
    {
      "cell_type": "code",
      "metadata": {
        "id": "jjRdGVLg7MK3",
        "colab_type": "code",
        "colab": {
          "base_uri": "https://localhost:8080/",
          "height": 35
        },
        "outputId": "a59cf8d4-7043-4589-94a8-ebdf94cdac6e"
      },
      "source": [
        "len(mylist)"
      ],
      "execution_count": null,
      "outputs": [
        {
          "output_type": "execute_result",
          "data": {
            "text/plain": [
              "2"
            ]
          },
          "metadata": {
            "tags": []
          },
          "execution_count": 27
        }
      ]
    },
    {
      "cell_type": "code",
      "metadata": {
        "id": "q5I20JUf7nby",
        "colab_type": "code",
        "colab": {}
      },
      "source": [
        "dir(mylist)"
      ],
      "execution_count": null,
      "outputs": []
    },
    {
      "cell_type": "code",
      "metadata": {
        "id": "iLBWaD4P7rga",
        "colab_type": "code",
        "colab": {
          "base_uri": "https://localhost:8080/",
          "height": 1000
        },
        "outputId": "86d7a22c-3a32-4a46-d74f-83d26fec597e"
      },
      "source": [
        "help(list)"
      ],
      "execution_count": null,
      "outputs": [
        {
          "output_type": "stream",
          "text": [
            "Help on class list in module builtins:\n",
            "\n",
            "class list(object)\n",
            " |  list() -> new empty list\n",
            " |  list(iterable) -> new list initialized from iterable's items\n",
            " |  \n",
            " |  Methods defined here:\n",
            " |  \n",
            " |  __add__(self, value, /)\n",
            " |      Return self+value.\n",
            " |  \n",
            " |  __contains__(self, key, /)\n",
            " |      Return key in self.\n",
            " |  \n",
            " |  __delitem__(self, key, /)\n",
            " |      Delete self[key].\n",
            " |  \n",
            " |  __eq__(self, value, /)\n",
            " |      Return self==value.\n",
            " |  \n",
            " |  __ge__(self, value, /)\n",
            " |      Return self>=value.\n",
            " |  \n",
            " |  __getattribute__(self, name, /)\n",
            " |      Return getattr(self, name).\n",
            " |  \n",
            " |  __getitem__(...)\n",
            " |      x.__getitem__(y) <==> x[y]\n",
            " |  \n",
            " |  __gt__(self, value, /)\n",
            " |      Return self>value.\n",
            " |  \n",
            " |  __iadd__(self, value, /)\n",
            " |      Implement self+=value.\n",
            " |  \n",
            " |  __imul__(self, value, /)\n",
            " |      Implement self*=value.\n",
            " |  \n",
            " |  __init__(self, /, *args, **kwargs)\n",
            " |      Initialize self.  See help(type(self)) for accurate signature.\n",
            " |  \n",
            " |  __iter__(self, /)\n",
            " |      Implement iter(self).\n",
            " |  \n",
            " |  __le__(self, value, /)\n",
            " |      Return self<=value.\n",
            " |  \n",
            " |  __len__(self, /)\n",
            " |      Return len(self).\n",
            " |  \n",
            " |  __lt__(self, value, /)\n",
            " |      Return self<value.\n",
            " |  \n",
            " |  __mul__(self, value, /)\n",
            " |      Return self*value.\n",
            " |  \n",
            " |  __ne__(self, value, /)\n",
            " |      Return self!=value.\n",
            " |  \n",
            " |  __new__(*args, **kwargs) from builtins.type\n",
            " |      Create and return a new object.  See help(type) for accurate signature.\n",
            " |  \n",
            " |  __repr__(self, /)\n",
            " |      Return repr(self).\n",
            " |  \n",
            " |  __reversed__(...)\n",
            " |      L.__reversed__() -- return a reverse iterator over the list\n",
            " |  \n",
            " |  __rmul__(self, value, /)\n",
            " |      Return value*self.\n",
            " |  \n",
            " |  __setitem__(self, key, value, /)\n",
            " |      Set self[key] to value.\n",
            " |  \n",
            " |  __sizeof__(...)\n",
            " |      L.__sizeof__() -- size of L in memory, in bytes\n",
            " |  \n",
            " |  append(...)\n",
            " |      L.append(object) -> None -- append object to end\n",
            " |  \n",
            " |  clear(...)\n",
            " |      L.clear() -> None -- remove all items from L\n",
            " |  \n",
            " |  copy(...)\n",
            " |      L.copy() -> list -- a shallow copy of L\n",
            " |  \n",
            " |  count(...)\n",
            " |      L.count(value) -> integer -- return number of occurrences of value\n",
            " |  \n",
            " |  extend(...)\n",
            " |      L.extend(iterable) -> None -- extend list by appending elements from the iterable\n",
            " |  \n",
            " |  index(...)\n",
            " |      L.index(value, [start, [stop]]) -> integer -- return first index of value.\n",
            " |      Raises ValueError if the value is not present.\n",
            " |  \n",
            " |  insert(...)\n",
            " |      L.insert(index, object) -- insert object before index\n",
            " |  \n",
            " |  pop(...)\n",
            " |      L.pop([index]) -> item -- remove and return item at index (default last).\n",
            " |      Raises IndexError if list is empty or index is out of range.\n",
            " |  \n",
            " |  remove(...)\n",
            " |      L.remove(value) -> None -- remove first occurrence of value.\n",
            " |      Raises ValueError if the value is not present.\n",
            " |  \n",
            " |  reverse(...)\n",
            " |      L.reverse() -- reverse *IN PLACE*\n",
            " |  \n",
            " |  sort(...)\n",
            " |      L.sort(key=None, reverse=False) -> None -- stable sort *IN PLACE*\n",
            " |  \n",
            " |  ----------------------------------------------------------------------\n",
            " |  Data and other attributes defined here:\n",
            " |  \n",
            " |  __hash__ = None\n",
            "\n"
          ],
          "name": "stdout"
        }
      ]
    },
    {
      "cell_type": "markdown",
      "metadata": {
        "id": "2oRx4yQ78Mid",
        "colab_type": "text"
      },
      "source": [
        "### The simplest Python class"
      ]
    },
    {
      "cell_type": "markdown",
      "metadata": {
        "id": "0LB55Riq8WAf",
        "colab_type": "text"
      },
      "source": [
        "* It's not necessary to write classes in Python.\n",
        "* Higher level abstractions are a benefit of writing classes.\n",
        "* Functionality that depends on the data structures.\n",
        "* To create a new type of data you can use the class keyword.\n",
        "* In python three object is optional in a class definition.\n"
      ]
    },
    {
      "cell_type": "code",
      "metadata": {
        "id": "P43fpRp08Szv",
        "colab_type": "code",
        "colab": {}
      },
      "source": [
        "class Foo(object):\n",
        "    pass"
      ],
      "execution_count": null,
      "outputs": []
    },
    {
      "cell_type": "code",
      "metadata": {
        "id": "qzLUGkcb9udt",
        "colab_type": "code",
        "colab": {
          "base_uri": "https://localhost:8080/",
          "height": 35
        },
        "outputId": "9f02bc82-705f-4c65-a0f1-89e5d1df8b41"
      },
      "source": [
        "type(Foo)"
      ],
      "execution_count": null,
      "outputs": [
        {
          "output_type": "execute_result",
          "data": {
            "text/plain": [
              "type"
            ]
          },
          "metadata": {
            "tags": []
          },
          "execution_count": 30
        }
      ]
    },
    {
      "cell_type": "code",
      "metadata": {
        "id": "f3Eh3Qqt9yhW",
        "colab_type": "code",
        "colab": {
          "base_uri": "https://localhost:8080/",
          "height": 35
        },
        "outputId": "72aacaf7-0e67-4196-f1fb-0b1c8d99ccd7"
      },
      "source": [
        "int('123')"
      ],
      "execution_count": null,
      "outputs": [
        {
          "output_type": "execute_result",
          "data": {
            "text/plain": [
              "123"
            ]
          },
          "metadata": {
            "tags": []
          },
          "execution_count": 31
        }
      ]
    },
    {
      "cell_type": "code",
      "metadata": {
        "id": "Fu_ehTsF91pR",
        "colab_type": "code",
        "colab": {
          "base_uri": "https://localhost:8080/",
          "height": 35
        },
        "outputId": "b556dde4-9f15-4fe0-db82-794db2f141eb"
      },
      "source": [
        "int()"
      ],
      "execution_count": null,
      "outputs": [
        {
          "output_type": "execute_result",
          "data": {
            "text/plain": [
              "0"
            ]
          },
          "metadata": {
            "tags": []
          },
          "execution_count": 32
        }
      ]
    },
    {
      "cell_type": "code",
      "metadata": {
        "id": "6QMy43Gj95BC",
        "colab_type": "code",
        "colab": {
          "base_uri": "https://localhost:8080/",
          "height": 35
        },
        "outputId": "5027d6cb-6295-4543-9303-f9d6d2912964"
      },
      "source": [
        "str(123)"
      ],
      "execution_count": null,
      "outputs": [
        {
          "output_type": "execute_result",
          "data": {
            "application/vnd.google.colaboratory.intrinsic+json": {
              "type": "string"
            },
            "text/plain": [
              "'123'"
            ]
          },
          "metadata": {
            "tags": []
          },
          "execution_count": 33
        }
      ]
    },
    {
      "cell_type": "code",
      "metadata": {
        "id": "s-1UBW9E971a",
        "colab_type": "code",
        "colab": {
          "base_uri": "https://localhost:8080/",
          "height": 35
        },
        "outputId": "0531504c-c937-4020-98f9-46cfa897f2bc"
      },
      "source": [
        "str()"
      ],
      "execution_count": null,
      "outputs": [
        {
          "output_type": "execute_result",
          "data": {
            "application/vnd.google.colaboratory.intrinsic+json": {
              "type": "string"
            },
            "text/plain": [
              "''"
            ]
          },
          "metadata": {
            "tags": []
          },
          "execution_count": 34
        }
      ]
    },
    {
      "cell_type": "code",
      "metadata": {
        "id": "s9mTp9zZ99pP",
        "colab_type": "code",
        "colab": {
          "base_uri": "https://localhost:8080/",
          "height": 35
        },
        "outputId": "c129fc8e-6781-4c10-c9c8-80d99a857e29"
      },
      "source": [
        "Foo()"
      ],
      "execution_count": null,
      "outputs": [
        {
          "output_type": "execute_result",
          "data": {
            "text/plain": [
              "<__main__.Foo at 0x7fed5d21e940>"
            ]
          },
          "metadata": {
            "tags": []
          },
          "execution_count": 35
        }
      ]
    },
    {
      "cell_type": "code",
      "metadata": {
        "id": "EIwxsgcH9_ub",
        "colab_type": "code",
        "colab": {}
      },
      "source": [
        "f = Foo()"
      ],
      "execution_count": null,
      "outputs": []
    },
    {
      "cell_type": "markdown",
      "metadata": {
        "id": "AbPgImhm-Gfo",
        "colab_type": "text"
      },
      "source": [
        "* f is an object of type Foo"
      ]
    },
    {
      "cell_type": "code",
      "metadata": {
        "id": "aWAQPOZS-EAx",
        "colab_type": "code",
        "colab": {
          "base_uri": "https://localhost:8080/",
          "height": 35
        },
        "outputId": "463d837a-ea2a-470a-be6b-4312996886a0"
      },
      "source": [
        "type(f)"
      ],
      "execution_count": null,
      "outputs": [
        {
          "output_type": "execute_result",
          "data": {
            "text/plain": [
              "__main__.Foo"
            ]
          },
          "metadata": {
            "tags": []
          },
          "execution_count": 37
        }
      ]
    },
    {
      "cell_type": "code",
      "metadata": {
        "id": "u21zRY0k-WcE",
        "colab_type": "code",
        "colab": {
          "base_uri": "https://localhost:8080/",
          "height": 485
        },
        "outputId": "4a31cb42-a4be-480d-9be0-c08e0ee11397"
      },
      "source": [
        "dir(Foo)"
      ],
      "execution_count": null,
      "outputs": [
        {
          "output_type": "execute_result",
          "data": {
            "text/plain": [
              "['__class__',\n",
              " '__delattr__',\n",
              " '__dict__',\n",
              " '__dir__',\n",
              " '__doc__',\n",
              " '__eq__',\n",
              " '__format__',\n",
              " '__ge__',\n",
              " '__getattribute__',\n",
              " '__gt__',\n",
              " '__hash__',\n",
              " '__init__',\n",
              " '__init_subclass__',\n",
              " '__le__',\n",
              " '__lt__',\n",
              " '__module__',\n",
              " '__ne__',\n",
              " '__new__',\n",
              " '__reduce__',\n",
              " '__reduce_ex__',\n",
              " '__repr__',\n",
              " '__setattr__',\n",
              " '__sizeof__',\n",
              " '__str__',\n",
              " '__subclasshook__',\n",
              " '__weakref__']"
            ]
          },
          "metadata": {
            "tags": []
          },
          "execution_count": 38
        }
      ]
    },
    {
      "cell_type": "code",
      "metadata": {
        "id": "YKjHsLb9-dqh",
        "colab_type": "code",
        "colab": {
          "base_uri": "https://localhost:8080/",
          "height": 485
        },
        "outputId": "2bbe4ca0-10b2-479f-f023-4d3a0c775753"
      },
      "source": [
        "dir(f)"
      ],
      "execution_count": null,
      "outputs": [
        {
          "output_type": "execute_result",
          "data": {
            "text/plain": [
              "['__class__',\n",
              " '__delattr__',\n",
              " '__dict__',\n",
              " '__dir__',\n",
              " '__doc__',\n",
              " '__eq__',\n",
              " '__format__',\n",
              " '__ge__',\n",
              " '__getattribute__',\n",
              " '__gt__',\n",
              " '__hash__',\n",
              " '__init__',\n",
              " '__init_subclass__',\n",
              " '__le__',\n",
              " '__lt__',\n",
              " '__module__',\n",
              " '__ne__',\n",
              " '__new__',\n",
              " '__reduce__',\n",
              " '__reduce_ex__',\n",
              " '__repr__',\n",
              " '__setattr__',\n",
              " '__sizeof__',\n",
              " '__str__',\n",
              " '__subclasshook__',\n",
              " '__weakref__']"
            ]
          },
          "metadata": {
            "tags": []
          },
          "execution_count": 39
        }
      ]
    },
    {
      "cell_type": "markdown",
      "metadata": {
        "id": "f1MTtmMG-1pw",
        "colab_type": "text"
      },
      "source": [
        "## Adding attributes"
      ]
    },
    {
      "cell_type": "code",
      "metadata": {
        "id": "Mizo-1Sh-9R5",
        "colab_type": "code",
        "colab": {}
      },
      "source": [
        "f = Foo()"
      ],
      "execution_count": null,
      "outputs": []
    },
    {
      "cell_type": "code",
      "metadata": {
        "id": "T7DKyGqg_H6a",
        "colab_type": "code",
        "colab": {
          "base_uri": "https://localhost:8080/",
          "height": 1000
        },
        "outputId": "13479bae-b345-4732-e1db-c42eda648ab8"
      },
      "source": [
        "vars() # globals()  returns dict of global variables\n",
        "def bar():\n",
        "    vars() # locals() returns dict of local variables"
      ],
      "execution_count": null,
      "outputs": [
        {
          "output_type": "execute_result",
          "data": {
            "text/plain": [
              "{'Foo': __main__.Foo,\n",
              " 'In': ['',\n",
              "  'x = 100\\ntype(x)',\n",
              "  \"x = 'abcd'\\ntype(x)\",\n",
              "  'x = [10, 20, 30]',\n",
              "  'x = [10, 20, 30]\\ntype(x)',\n",
              "  \"int('123')\",\n",
              "  'str(123)',\n",
              "  \"list('abcd')\",\n",
              "  'type(int)',\n",
              "  'type(str)',\n",
              "  'type(list)',\n",
              "  'type(type)',\n",
              "  'a # identifier = name = variable or function.. an object of some sort\\n  # search is LEGB Local, Enclosing, Global, Built-in\\na.b # .b means: Look for the name ()',\n",
              "  'a # identifier = name = variable or function.. an object of some sort\\n  # search is LEGB Local, Enclosing, Global, Built-in\\na.b # .b means: Look for the name ()',\n",
              "  '#a # identifier = name = variable or function.. an object of some sort\\n  # search is LEGB Local, Enclosing, Global, Built-in\\n# a.b # .b means: Look for the name (\"attribute\") b inside of the object a\\n\\na = \\'abcd\\'\\ndir(a)',\n",
              "  'a.upper()',\n",
              "  'import os',\n",
              "  'os.sep',\n",
              "  \"os.sep = 'hahaha'\",\n",
              "  'os.sep',\n",
              "  \"os.my_course_name = 'Python objects'\",\n",
              "  'os.my_course_name',\n",
              "  'mylist = [10, 20, 30]\\nsum(mylist)  # \"sum\" is a function, takes a list as an argument or iterable',\n",
              "  'mylist.sum() # this will not work!',\n",
              "  'mylist.pop()',\n",
              "  'mylist',\n",
              "  '# syntax of a method\\n# o.m(x)',\n",
              "  'len(mylist)',\n",
              "  'help(list)',\n",
              "  'class Foo(object):\\n    pass',\n",
              "  'type(Foo)',\n",
              "  \"int('123')\",\n",
              "  'int()',\n",
              "  'str(123)',\n",
              "  'str()',\n",
              "  'Foo()',\n",
              "  'f = Foo()',\n",
              "  'type(f)',\n",
              "  'dir(Foo)',\n",
              "  'dir(f)',\n",
              "  'f = Foo()',\n",
              "  'vars()'],\n",
              " 'Out': {1: int,\n",
              "  2: str,\n",
              "  4: list,\n",
              "  5: 123,\n",
              "  6: '123',\n",
              "  7: ['a', 'b', 'c', 'd'],\n",
              "  8: type,\n",
              "  9: type,\n",
              "  10: type,\n",
              "  11: type,\n",
              "  14: ['__add__',\n",
              "   '__class__',\n",
              "   '__contains__',\n",
              "   '__delattr__',\n",
              "   '__dir__',\n",
              "   '__doc__',\n",
              "   '__eq__',\n",
              "   '__format__',\n",
              "   '__ge__',\n",
              "   '__getattribute__',\n",
              "   '__getitem__',\n",
              "   '__getnewargs__',\n",
              "   '__gt__',\n",
              "   '__hash__',\n",
              "   '__init__',\n",
              "   '__init_subclass__',\n",
              "   '__iter__',\n",
              "   '__le__',\n",
              "   '__len__',\n",
              "   '__lt__',\n",
              "   '__mod__',\n",
              "   '__mul__',\n",
              "   '__ne__',\n",
              "   '__new__',\n",
              "   '__reduce__',\n",
              "   '__reduce_ex__',\n",
              "   '__repr__',\n",
              "   '__rmod__',\n",
              "   '__rmul__',\n",
              "   '__setattr__',\n",
              "   '__sizeof__',\n",
              "   '__str__',\n",
              "   '__subclasshook__',\n",
              "   'capitalize',\n",
              "   'casefold',\n",
              "   'center',\n",
              "   'count',\n",
              "   'encode',\n",
              "   'endswith',\n",
              "   'expandtabs',\n",
              "   'find',\n",
              "   'format',\n",
              "   'format_map',\n",
              "   'index',\n",
              "   'isalnum',\n",
              "   'isalpha',\n",
              "   'isdecimal',\n",
              "   'isdigit',\n",
              "   'isidentifier',\n",
              "   'islower',\n",
              "   'isnumeric',\n",
              "   'isprintable',\n",
              "   'isspace',\n",
              "   'istitle',\n",
              "   'isupper',\n",
              "   'join',\n",
              "   'ljust',\n",
              "   'lower',\n",
              "   'lstrip',\n",
              "   'maketrans',\n",
              "   'partition',\n",
              "   'replace',\n",
              "   'rfind',\n",
              "   'rindex',\n",
              "   'rjust',\n",
              "   'rpartition',\n",
              "   'rsplit',\n",
              "   'rstrip',\n",
              "   'split',\n",
              "   'splitlines',\n",
              "   'startswith',\n",
              "   'strip',\n",
              "   'swapcase',\n",
              "   'title',\n",
              "   'translate',\n",
              "   'upper',\n",
              "   'zfill'],\n",
              "  15: 'ABCD',\n",
              "  17: '/',\n",
              "  19: 'hahaha',\n",
              "  21: 'Python objects',\n",
              "  22: 60,\n",
              "  24: 30,\n",
              "  25: [10, 20],\n",
              "  27: 2,\n",
              "  30: type,\n",
              "  31: 123,\n",
              "  32: 0,\n",
              "  33: '123',\n",
              "  34: '',\n",
              "  35: <__main__.Foo at 0x7fed5d21e940>,\n",
              "  37: __main__.Foo,\n",
              "  38: ['__class__',\n",
              "   '__delattr__',\n",
              "   '__dict__',\n",
              "   '__dir__',\n",
              "   '__doc__',\n",
              "   '__eq__',\n",
              "   '__format__',\n",
              "   '__ge__',\n",
              "   '__getattribute__',\n",
              "   '__gt__',\n",
              "   '__hash__',\n",
              "   '__init__',\n",
              "   '__init_subclass__',\n",
              "   '__le__',\n",
              "   '__lt__',\n",
              "   '__module__',\n",
              "   '__ne__',\n",
              "   '__new__',\n",
              "   '__reduce__',\n",
              "   '__reduce_ex__',\n",
              "   '__repr__',\n",
              "   '__setattr__',\n",
              "   '__sizeof__',\n",
              "   '__str__',\n",
              "   '__subclasshook__',\n",
              "   '__weakref__'],\n",
              "  39: ['__class__',\n",
              "   '__delattr__',\n",
              "   '__dict__',\n",
              "   '__dir__',\n",
              "   '__doc__',\n",
              "   '__eq__',\n",
              "   '__format__',\n",
              "   '__ge__',\n",
              "   '__getattribute__',\n",
              "   '__gt__',\n",
              "   '__hash__',\n",
              "   '__init__',\n",
              "   '__init_subclass__',\n",
              "   '__le__',\n",
              "   '__lt__',\n",
              "   '__module__',\n",
              "   '__ne__',\n",
              "   '__new__',\n",
              "   '__reduce__',\n",
              "   '__reduce_ex__',\n",
              "   '__repr__',\n",
              "   '__setattr__',\n",
              "   '__sizeof__',\n",
              "   '__str__',\n",
              "   '__subclasshook__',\n",
              "   '__weakref__']},\n",
              " '_': ['__class__',\n",
              "  '__delattr__',\n",
              "  '__dict__',\n",
              "  '__dir__',\n",
              "  '__doc__',\n",
              "  '__eq__',\n",
              "  '__format__',\n",
              "  '__ge__',\n",
              "  '__getattribute__',\n",
              "  '__gt__',\n",
              "  '__hash__',\n",
              "  '__init__',\n",
              "  '__init_subclass__',\n",
              "  '__le__',\n",
              "  '__lt__',\n",
              "  '__module__',\n",
              "  '__ne__',\n",
              "  '__new__',\n",
              "  '__reduce__',\n",
              "  '__reduce_ex__',\n",
              "  '__repr__',\n",
              "  '__setattr__',\n",
              "  '__sizeof__',\n",
              "  '__str__',\n",
              "  '__subclasshook__',\n",
              "  '__weakref__'],\n",
              " '_1': int,\n",
              " '_10': type,\n",
              " '_11': type,\n",
              " '_14': ['__add__',\n",
              "  '__class__',\n",
              "  '__contains__',\n",
              "  '__delattr__',\n",
              "  '__dir__',\n",
              "  '__doc__',\n",
              "  '__eq__',\n",
              "  '__format__',\n",
              "  '__ge__',\n",
              "  '__getattribute__',\n",
              "  '__getitem__',\n",
              "  '__getnewargs__',\n",
              "  '__gt__',\n",
              "  '__hash__',\n",
              "  '__init__',\n",
              "  '__init_subclass__',\n",
              "  '__iter__',\n",
              "  '__le__',\n",
              "  '__len__',\n",
              "  '__lt__',\n",
              "  '__mod__',\n",
              "  '__mul__',\n",
              "  '__ne__',\n",
              "  '__new__',\n",
              "  '__reduce__',\n",
              "  '__reduce_ex__',\n",
              "  '__repr__',\n",
              "  '__rmod__',\n",
              "  '__rmul__',\n",
              "  '__setattr__',\n",
              "  '__sizeof__',\n",
              "  '__str__',\n",
              "  '__subclasshook__',\n",
              "  'capitalize',\n",
              "  'casefold',\n",
              "  'center',\n",
              "  'count',\n",
              "  'encode',\n",
              "  'endswith',\n",
              "  'expandtabs',\n",
              "  'find',\n",
              "  'format',\n",
              "  'format_map',\n",
              "  'index',\n",
              "  'isalnum',\n",
              "  'isalpha',\n",
              "  'isdecimal',\n",
              "  'isdigit',\n",
              "  'isidentifier',\n",
              "  'islower',\n",
              "  'isnumeric',\n",
              "  'isprintable',\n",
              "  'isspace',\n",
              "  'istitle',\n",
              "  'isupper',\n",
              "  'join',\n",
              "  'ljust',\n",
              "  'lower',\n",
              "  'lstrip',\n",
              "  'maketrans',\n",
              "  'partition',\n",
              "  'replace',\n",
              "  'rfind',\n",
              "  'rindex',\n",
              "  'rjust',\n",
              "  'rpartition',\n",
              "  'rsplit',\n",
              "  'rstrip',\n",
              "  'split',\n",
              "  'splitlines',\n",
              "  'startswith',\n",
              "  'strip',\n",
              "  'swapcase',\n",
              "  'title',\n",
              "  'translate',\n",
              "  'upper',\n",
              "  'zfill'],\n",
              " '_15': 'ABCD',\n",
              " '_17': '/',\n",
              " '_19': 'hahaha',\n",
              " '_2': str,\n",
              " '_21': 'Python objects',\n",
              " '_22': 60,\n",
              " '_24': 30,\n",
              " '_25': [10, 20],\n",
              " '_27': 2,\n",
              " '_30': type,\n",
              " '_31': 123,\n",
              " '_32': 0,\n",
              " '_33': '123',\n",
              " '_34': '',\n",
              " '_35': <__main__.Foo at 0x7fed5d21e940>,\n",
              " '_37': __main__.Foo,\n",
              " '_38': ['__class__',\n",
              "  '__delattr__',\n",
              "  '__dict__',\n",
              "  '__dir__',\n",
              "  '__doc__',\n",
              "  '__eq__',\n",
              "  '__format__',\n",
              "  '__ge__',\n",
              "  '__getattribute__',\n",
              "  '__gt__',\n",
              "  '__hash__',\n",
              "  '__init__',\n",
              "  '__init_subclass__',\n",
              "  '__le__',\n",
              "  '__lt__',\n",
              "  '__module__',\n",
              "  '__ne__',\n",
              "  '__new__',\n",
              "  '__reduce__',\n",
              "  '__reduce_ex__',\n",
              "  '__repr__',\n",
              "  '__setattr__',\n",
              "  '__sizeof__',\n",
              "  '__str__',\n",
              "  '__subclasshook__',\n",
              "  '__weakref__'],\n",
              " '_39': ['__class__',\n",
              "  '__delattr__',\n",
              "  '__dict__',\n",
              "  '__dir__',\n",
              "  '__doc__',\n",
              "  '__eq__',\n",
              "  '__format__',\n",
              "  '__ge__',\n",
              "  '__getattribute__',\n",
              "  '__gt__',\n",
              "  '__hash__',\n",
              "  '__init__',\n",
              "  '__init_subclass__',\n",
              "  '__le__',\n",
              "  '__lt__',\n",
              "  '__module__',\n",
              "  '__ne__',\n",
              "  '__new__',\n",
              "  '__reduce__',\n",
              "  '__reduce_ex__',\n",
              "  '__repr__',\n",
              "  '__setattr__',\n",
              "  '__sizeof__',\n",
              "  '__str__',\n",
              "  '__subclasshook__',\n",
              "  '__weakref__'],\n",
              " '_4': list,\n",
              " '_5': 123,\n",
              " '_6': '123',\n",
              " '_7': ['a', 'b', 'c', 'd'],\n",
              " '_8': type,\n",
              " '_9': type,\n",
              " '__': ['__class__',\n",
              "  '__delattr__',\n",
              "  '__dict__',\n",
              "  '__dir__',\n",
              "  '__doc__',\n",
              "  '__eq__',\n",
              "  '__format__',\n",
              "  '__ge__',\n",
              "  '__getattribute__',\n",
              "  '__gt__',\n",
              "  '__hash__',\n",
              "  '__init__',\n",
              "  '__init_subclass__',\n",
              "  '__le__',\n",
              "  '__lt__',\n",
              "  '__module__',\n",
              "  '__ne__',\n",
              "  '__new__',\n",
              "  '__reduce__',\n",
              "  '__reduce_ex__',\n",
              "  '__repr__',\n",
              "  '__setattr__',\n",
              "  '__sizeof__',\n",
              "  '__str__',\n",
              "  '__subclasshook__',\n",
              "  '__weakref__'],\n",
              " '___': __main__.Foo,\n",
              " '__builtin__': <module 'builtins' (built-in)>,\n",
              " '__builtins__': <module 'builtins' (built-in)>,\n",
              " '__doc__': 'Automatically created module for IPython interactive environment',\n",
              " '__loader__': None,\n",
              " '__name__': '__main__',\n",
              " '__package__': None,\n",
              " '__spec__': None,\n",
              " '_dh': ['/content'],\n",
              " '_i': 'f = Foo()',\n",
              " '_i1': 'x = 100\\ntype(x)',\n",
              " '_i10': 'type(list)',\n",
              " '_i11': 'type(type)',\n",
              " '_i12': 'a # identifier = name = variable or function.. an object of some sort\\n  # search is LEGB Local, Enclosing, Global, Built-in\\na.b # .b means: Look for the name ()',\n",
              " '_i13': 'a # identifier = name = variable or function.. an object of some sort\\n  # search is LEGB Local, Enclosing, Global, Built-in\\na.b # .b means: Look for the name ()',\n",
              " '_i14': '#a # identifier = name = variable or function.. an object of some sort\\n  # search is LEGB Local, Enclosing, Global, Built-in\\n# a.b # .b means: Look for the name (\"attribute\") b inside of the object a\\n\\na = \\'abcd\\'\\ndir(a)',\n",
              " '_i15': 'a.upper()',\n",
              " '_i16': 'import os',\n",
              " '_i17': 'os.sep',\n",
              " '_i18': \"os.sep = 'hahaha'\",\n",
              " '_i19': 'os.sep',\n",
              " '_i2': \"x = 'abcd'\\ntype(x)\",\n",
              " '_i20': \"os.my_course_name = 'Python objects'\",\n",
              " '_i21': 'os.my_course_name',\n",
              " '_i22': 'mylist = [10, 20, 30]\\nsum(mylist)  # \"sum\" is a function, takes a list as an argument or iterable',\n",
              " '_i23': 'mylist.sum() # this will not work!',\n",
              " '_i24': 'mylist.pop()',\n",
              " '_i25': 'mylist',\n",
              " '_i26': '# syntax of a method\\n# o.m(x)',\n",
              " '_i27': 'len(mylist)',\n",
              " '_i28': 'help(list)',\n",
              " '_i29': 'class Foo(object):\\n    pass',\n",
              " '_i3': 'x = [10, 20, 30]',\n",
              " '_i30': 'type(Foo)',\n",
              " '_i31': \"int('123')\",\n",
              " '_i32': 'int()',\n",
              " '_i33': 'str(123)',\n",
              " '_i34': 'str()',\n",
              " '_i35': 'Foo()',\n",
              " '_i36': 'f = Foo()',\n",
              " '_i37': 'type(f)',\n",
              " '_i38': 'dir(Foo)',\n",
              " '_i39': 'dir(f)',\n",
              " '_i4': 'x = [10, 20, 30]\\ntype(x)',\n",
              " '_i40': 'f = Foo()',\n",
              " '_i41': 'vars()',\n",
              " '_i5': \"int('123')\",\n",
              " '_i6': 'str(123)',\n",
              " '_i7': \"list('abcd')\",\n",
              " '_i8': 'type(int)',\n",
              " '_i9': 'type(str)',\n",
              " '_ih': ['',\n",
              "  'x = 100\\ntype(x)',\n",
              "  \"x = 'abcd'\\ntype(x)\",\n",
              "  'x = [10, 20, 30]',\n",
              "  'x = [10, 20, 30]\\ntype(x)',\n",
              "  \"int('123')\",\n",
              "  'str(123)',\n",
              "  \"list('abcd')\",\n",
              "  'type(int)',\n",
              "  'type(str)',\n",
              "  'type(list)',\n",
              "  'type(type)',\n",
              "  'a # identifier = name = variable or function.. an object of some sort\\n  # search is LEGB Local, Enclosing, Global, Built-in\\na.b # .b means: Look for the name ()',\n",
              "  'a # identifier = name = variable or function.. an object of some sort\\n  # search is LEGB Local, Enclosing, Global, Built-in\\na.b # .b means: Look for the name ()',\n",
              "  '#a # identifier = name = variable or function.. an object of some sort\\n  # search is LEGB Local, Enclosing, Global, Built-in\\n# a.b # .b means: Look for the name (\"attribute\") b inside of the object a\\n\\na = \\'abcd\\'\\ndir(a)',\n",
              "  'a.upper()',\n",
              "  'import os',\n",
              "  'os.sep',\n",
              "  \"os.sep = 'hahaha'\",\n",
              "  'os.sep',\n",
              "  \"os.my_course_name = 'Python objects'\",\n",
              "  'os.my_course_name',\n",
              "  'mylist = [10, 20, 30]\\nsum(mylist)  # \"sum\" is a function, takes a list as an argument or iterable',\n",
              "  'mylist.sum() # this will not work!',\n",
              "  'mylist.pop()',\n",
              "  'mylist',\n",
              "  '# syntax of a method\\n# o.m(x)',\n",
              "  'len(mylist)',\n",
              "  'help(list)',\n",
              "  'class Foo(object):\\n    pass',\n",
              "  'type(Foo)',\n",
              "  \"int('123')\",\n",
              "  'int()',\n",
              "  'str(123)',\n",
              "  'str()',\n",
              "  'Foo()',\n",
              "  'f = Foo()',\n",
              "  'type(f)',\n",
              "  'dir(Foo)',\n",
              "  'dir(f)',\n",
              "  'f = Foo()',\n",
              "  'vars()'],\n",
              " '_ii': 'dir(f)',\n",
              " '_iii': 'dir(Foo)',\n",
              " '_oh': {1: int,\n",
              "  2: str,\n",
              "  4: list,\n",
              "  5: 123,\n",
              "  6: '123',\n",
              "  7: ['a', 'b', 'c', 'd'],\n",
              "  8: type,\n",
              "  9: type,\n",
              "  10: type,\n",
              "  11: type,\n",
              "  14: ['__add__',\n",
              "   '__class__',\n",
              "   '__contains__',\n",
              "   '__delattr__',\n",
              "   '__dir__',\n",
              "   '__doc__',\n",
              "   '__eq__',\n",
              "   '__format__',\n",
              "   '__ge__',\n",
              "   '__getattribute__',\n",
              "   '__getitem__',\n",
              "   '__getnewargs__',\n",
              "   '__gt__',\n",
              "   '__hash__',\n",
              "   '__init__',\n",
              "   '__init_subclass__',\n",
              "   '__iter__',\n",
              "   '__le__',\n",
              "   '__len__',\n",
              "   '__lt__',\n",
              "   '__mod__',\n",
              "   '__mul__',\n",
              "   '__ne__',\n",
              "   '__new__',\n",
              "   '__reduce__',\n",
              "   '__reduce_ex__',\n",
              "   '__repr__',\n",
              "   '__rmod__',\n",
              "   '__rmul__',\n",
              "   '__setattr__',\n",
              "   '__sizeof__',\n",
              "   '__str__',\n",
              "   '__subclasshook__',\n",
              "   'capitalize',\n",
              "   'casefold',\n",
              "   'center',\n",
              "   'count',\n",
              "   'encode',\n",
              "   'endswith',\n",
              "   'expandtabs',\n",
              "   'find',\n",
              "   'format',\n",
              "   'format_map',\n",
              "   'index',\n",
              "   'isalnum',\n",
              "   'isalpha',\n",
              "   'isdecimal',\n",
              "   'isdigit',\n",
              "   'isidentifier',\n",
              "   'islower',\n",
              "   'isnumeric',\n",
              "   'isprintable',\n",
              "   'isspace',\n",
              "   'istitle',\n",
              "   'isupper',\n",
              "   'join',\n",
              "   'ljust',\n",
              "   'lower',\n",
              "   'lstrip',\n",
              "   'maketrans',\n",
              "   'partition',\n",
              "   'replace',\n",
              "   'rfind',\n",
              "   'rindex',\n",
              "   'rjust',\n",
              "   'rpartition',\n",
              "   'rsplit',\n",
              "   'rstrip',\n",
              "   'split',\n",
              "   'splitlines',\n",
              "   'startswith',\n",
              "   'strip',\n",
              "   'swapcase',\n",
              "   'title',\n",
              "   'translate',\n",
              "   'upper',\n",
              "   'zfill'],\n",
              "  15: 'ABCD',\n",
              "  17: '/',\n",
              "  19: 'hahaha',\n",
              "  21: 'Python objects',\n",
              "  22: 60,\n",
              "  24: 30,\n",
              "  25: [10, 20],\n",
              "  27: 2,\n",
              "  30: type,\n",
              "  31: 123,\n",
              "  32: 0,\n",
              "  33: '123',\n",
              "  34: '',\n",
              "  35: <__main__.Foo at 0x7fed5d21e940>,\n",
              "  37: __main__.Foo,\n",
              "  38: ['__class__',\n",
              "   '__delattr__',\n",
              "   '__dict__',\n",
              "   '__dir__',\n",
              "   '__doc__',\n",
              "   '__eq__',\n",
              "   '__format__',\n",
              "   '__ge__',\n",
              "   '__getattribute__',\n",
              "   '__gt__',\n",
              "   '__hash__',\n",
              "   '__init__',\n",
              "   '__init_subclass__',\n",
              "   '__le__',\n",
              "   '__lt__',\n",
              "   '__module__',\n",
              "   '__ne__',\n",
              "   '__new__',\n",
              "   '__reduce__',\n",
              "   '__reduce_ex__',\n",
              "   '__repr__',\n",
              "   '__setattr__',\n",
              "   '__sizeof__',\n",
              "   '__str__',\n",
              "   '__subclasshook__',\n",
              "   '__weakref__'],\n",
              "  39: ['__class__',\n",
              "   '__delattr__',\n",
              "   '__dict__',\n",
              "   '__dir__',\n",
              "   '__doc__',\n",
              "   '__eq__',\n",
              "   '__format__',\n",
              "   '__ge__',\n",
              "   '__getattribute__',\n",
              "   '__gt__',\n",
              "   '__hash__',\n",
              "   '__init__',\n",
              "   '__init_subclass__',\n",
              "   '__le__',\n",
              "   '__lt__',\n",
              "   '__module__',\n",
              "   '__ne__',\n",
              "   '__new__',\n",
              "   '__reduce__',\n",
              "   '__reduce_ex__',\n",
              "   '__repr__',\n",
              "   '__setattr__',\n",
              "   '__sizeof__',\n",
              "   '__str__',\n",
              "   '__subclasshook__',\n",
              "   '__weakref__']},\n",
              " '_sh': <module 'IPython.core.shadowns' from '/usr/local/lib/python3.6/dist-packages/IPython/core/shadowns.py'>,\n",
              " 'a': 'abcd',\n",
              " 'exit': <IPython.core.autocall.ZMQExitAutocall at 0x7fed67e79470>,\n",
              " 'f': <__main__.Foo at 0x7fed5d236780>,\n",
              " 'get_ipython': <bound method InteractiveShell.get_ipython of <google.colab._shell.Shell object at 0x7fed6a8b5eb8>>,\n",
              " 'mylist': [10, 20],\n",
              " 'os': <module 'os' from '/usr/lib/python3.6/os.py'>,\n",
              " 'quit': <IPython.core.autocall.ZMQExitAutocall at 0x7fed67e79470>,\n",
              " 'x': [10, 20, 30]}"
            ]
          },
          "metadata": {
            "tags": []
          },
          "execution_count": 41
        }
      ]
    },
    {
      "cell_type": "code",
      "metadata": {
        "id": "iHLl-KCI_ri2",
        "colab_type": "code",
        "colab": {
          "base_uri": "https://localhost:8080/",
          "height": 35
        },
        "outputId": "5299c62b-50fb-4082-d0a9-a168021cf64d"
      },
      "source": [
        "vars(f)"
      ],
      "execution_count": null,
      "outputs": [
        {
          "output_type": "execute_result",
          "data": {
            "text/plain": [
              "{}"
            ]
          },
          "metadata": {
            "tags": []
          },
          "execution_count": 42
        }
      ]
    },
    {
      "cell_type": "code",
      "metadata": {
        "id": "jByF5Uet_yhj",
        "colab_type": "code",
        "colab": {
          "base_uri": "https://localhost:8080/",
          "height": 521
        },
        "outputId": "f9df2529-7de2-4801-c8e4-a565d114cc67"
      },
      "source": [
        "f.x = 100\n",
        "f.y = [10, 20, 30]\n",
        "\n",
        "dir(f)"
      ],
      "execution_count": null,
      "outputs": [
        {
          "output_type": "execute_result",
          "data": {
            "text/plain": [
              "['__class__',\n",
              " '__delattr__',\n",
              " '__dict__',\n",
              " '__dir__',\n",
              " '__doc__',\n",
              " '__eq__',\n",
              " '__format__',\n",
              " '__ge__',\n",
              " '__getattribute__',\n",
              " '__gt__',\n",
              " '__hash__',\n",
              " '__init__',\n",
              " '__init_subclass__',\n",
              " '__le__',\n",
              " '__lt__',\n",
              " '__module__',\n",
              " '__ne__',\n",
              " '__new__',\n",
              " '__reduce__',\n",
              " '__reduce_ex__',\n",
              " '__repr__',\n",
              " '__setattr__',\n",
              " '__sizeof__',\n",
              " '__str__',\n",
              " '__subclasshook__',\n",
              " '__weakref__',\n",
              " 'x',\n",
              " 'y']"
            ]
          },
          "metadata": {
            "tags": []
          },
          "execution_count": 43
        }
      ]
    },
    {
      "cell_type": "markdown",
      "metadata": {
        "id": "JhClv0NfAB1F",
        "colab_type": "text"
      },
      "source": [
        "* Vars() showing names and values associated with f\n",
        "* f is an instance of object Foo"
      ]
    },
    {
      "cell_type": "code",
      "metadata": {
        "id": "PlHRtQHr__Eu",
        "colab_type": "code",
        "colab": {
          "base_uri": "https://localhost:8080/",
          "height": 35
        },
        "outputId": "e7c7bd5f-6ba8-4977-d2f2-b1ad229f0c53"
      },
      "source": [
        "vars(f)"
      ],
      "execution_count": null,
      "outputs": [
        {
          "output_type": "execute_result",
          "data": {
            "text/plain": [
              "{'x': 100, 'y': [10, 20, 30]}"
            ]
          },
          "metadata": {
            "tags": []
          },
          "execution_count": 44
        }
      ]
    },
    {
      "cell_type": "code",
      "metadata": {
        "id": "ozrsMkphAVQR",
        "colab_type": "code",
        "colab": {}
      },
      "source": [
        "g = Foo()"
      ],
      "execution_count": null,
      "outputs": []
    },
    {
      "cell_type": "code",
      "metadata": {
        "id": "Rlp38RAbAZ8H",
        "colab_type": "code",
        "colab": {
          "base_uri": "https://localhost:8080/",
          "height": 35
        },
        "outputId": "fd21c397-95de-43a8-f536-119fec6ce01d"
      },
      "source": [
        "g.a = {'a':1, 'b':2, 'c':3}\n",
        "g.b = {10, 20, 30, 40, 50}\n",
        "\n",
        "vars(g)"
      ],
      "execution_count": null,
      "outputs": [
        {
          "output_type": "execute_result",
          "data": {
            "text/plain": [
              "{'a': {'a': 1, 'b': 2, 'c': 3}, 'b': {10, 20, 30, 40, 50}}"
            ]
          },
          "metadata": {
            "tags": []
          },
          "execution_count": 46
        }
      ]
    },
    {
      "cell_type": "code",
      "metadata": {
        "id": "BHQtX_A_A1c5",
        "colab_type": "code",
        "colab": {
          "base_uri": "https://localhost:8080/",
          "height": 35
        },
        "outputId": "456abdef-d5d3-4ab3-9322-072a8228eb16"
      },
      "source": [
        "vars(f)"
      ],
      "execution_count": null,
      "outputs": [
        {
          "output_type": "execute_result",
          "data": {
            "text/plain": [
              "{'x': 100, 'y': [10, 20, 30]}"
            ]
          },
          "metadata": {
            "tags": []
          },
          "execution_count": 47
        }
      ]
    },
    {
      "cell_type": "markdown",
      "metadata": {
        "id": "AiakkKyVA5gU",
        "colab_type": "text"
      },
      "source": [
        "* Python allows us to do this though it's not a good idea or best practices.\n",
        "* Everytime we create an object of type foo we want a consistent set of names or constructor.\n"
      ]
    },
    {
      "cell_type": "markdown",
      "metadata": {
        "id": "N6sRQDAfBWod",
        "colab_type": "text"
      },
      "source": [
        "## dunder init"
      ]
    },
    {
      "cell_type": "markdown",
      "metadata": {
        "id": "-zBchxb6B6kD",
        "colab_type": "text"
      },
      "source": [
        "* Constructor function that is invoked when the object is created.\n",
        "* The terminology in Python is important to understanding how the language works.\n",
        "* Python adopted some of the object system from small talk.\n",
        "* In small talk you create an object with a method called new.\n",
        "* And then add attributes to an object with an intialize method.\n",
        "* After the new method creates the object Python looks for init to add attributes.\n",
        "* self is the only parameter to dunder init in Python.\n",
        "* Similar to this keyword in C++.\n",
        "* self is a convention in Python. \n",
        "* self is the instance of the new object.\n",
        "* self and dunder new point to the same object in memory.\n",
        "* don't set attributes outside the class definition."
      ]
    },
    {
      "cell_type": "code",
      "metadata": {
        "id": "X8Hnji5XCRkd",
        "colab_type": "code",
        "colab": {}
      },
      "source": [
        "class Foo(object):\n",
        "    def __init__(self):\n",
        "        self.x = 100\n",
        "        self.y = [10, 20, 30]"
      ],
      "execution_count": null,
      "outputs": []
    },
    {
      "cell_type": "code",
      "metadata": {
        "id": "8mVliHf9CnVd",
        "colab_type": "code",
        "colab": {
          "base_uri": "https://localhost:8080/",
          "height": 35
        },
        "outputId": "d416c6e3-945d-4ae4-ac09-149bf2b03d25"
      },
      "source": [
        "f = Foo()\n",
        "vars(f)"
      ],
      "execution_count": null,
      "outputs": [
        {
          "output_type": "execute_result",
          "data": {
            "text/plain": [
              "{'x': 100, 'y': [10, 20, 30]}"
            ]
          },
          "metadata": {
            "tags": []
          },
          "execution_count": 49
        }
      ]
    },
    {
      "cell_type": "code",
      "metadata": {
        "id": "sVomH0wACvQV",
        "colab_type": "code",
        "colab": {
          "base_uri": "https://localhost:8080/",
          "height": 35
        },
        "outputId": "5a9daba6-c168-4c95-efe0-eb67ebb8a635"
      },
      "source": [
        "g = Foo()\n",
        "vars(g)"
      ],
      "execution_count": null,
      "outputs": [
        {
          "output_type": "execute_result",
          "data": {
            "text/plain": [
              "{'x': 100, 'y': [10, 20, 30]}"
            ]
          },
          "metadata": {
            "tags": []
          },
          "execution_count": 50
        }
      ]
    },
    {
      "cell_type": "code",
      "metadata": {
        "id": "YYGyje4CFbRy",
        "colab_type": "code",
        "colab": {
          "base_uri": "https://localhost:8080/",
          "height": 35
        },
        "outputId": "ca6c9464-b266-482a-b486-19af7b770876"
      },
      "source": [
        "f.x"
      ],
      "execution_count": null,
      "outputs": [
        {
          "output_type": "execute_result",
          "data": {
            "text/plain": [
              "100"
            ]
          },
          "metadata": {
            "tags": []
          },
          "execution_count": 51
        }
      ]
    },
    {
      "cell_type": "code",
      "metadata": {
        "id": "Heoqp2KbFd2d",
        "colab_type": "code",
        "colab": {
          "base_uri": "https://localhost:8080/",
          "height": 35
        },
        "outputId": "5be978b7-06ea-41c5-c1dc-fc83c78c234b"
      },
      "source": [
        "f.x = 200\n",
        "vars(f)"
      ],
      "execution_count": null,
      "outputs": [
        {
          "output_type": "execute_result",
          "data": {
            "text/plain": [
              "{'x': 200, 'y': [10, 20, 30]}"
            ]
          },
          "metadata": {
            "tags": []
          },
          "execution_count": 53
        }
      ]
    },
    {
      "cell_type": "code",
      "metadata": {
        "id": "seCqdNwPFj41",
        "colab_type": "code",
        "colab": {
          "base_uri": "https://localhost:8080/",
          "height": 35
        },
        "outputId": "24086df6-0334-48f4-9376-6884dd3d25b9"
      },
      "source": [
        "f.y.append(40)\n",
        "vars(f)"
      ],
      "execution_count": null,
      "outputs": [
        {
          "output_type": "execute_result",
          "data": {
            "text/plain": [
              "{'x': 200, 'y': [10, 20, 30, 40]}"
            ]
          },
          "metadata": {
            "tags": []
          },
          "execution_count": 54
        }
      ]
    },
    {
      "cell_type": "markdown",
      "metadata": {
        "id": "M8fOKQEKGK6T",
        "colab_type": "text"
      },
      "source": [
        "## dunder init and parameters"
      ]
    },
    {
      "cell_type": "markdown",
      "metadata": {
        "id": "EhJBCCvYGRQ_",
        "colab_type": "text"
      },
      "source": [
        "* take the local variables of x and y \n",
        "* assign their values to the attributes x and y of Foo.\n",
        "* self is required as the first positional argument in every method.\n",
        "* dunder init method is just like a function besides self.\n",
        "* a * by args means it's a tuple.\n",
        "* In other languages you can write a method with several signatures."
      ]
    },
    {
      "cell_type": "code",
      "metadata": {
        "id": "eTSAIaERGR8G",
        "colab_type": "code",
        "colab": {}
      },
      "source": [
        "class Foo(object):\n",
        "    def __init__(self, x, y):\n",
        "        self.x = x\n",
        "        self.y = y"
      ],
      "execution_count": null,
      "outputs": []
    },
    {
      "cell_type": "code",
      "metadata": {
        "id": "8-7CMiloHP6S",
        "colab_type": "code",
        "colab": {}
      },
      "source": [
        "f = Foo(10, 20)"
      ],
      "execution_count": null,
      "outputs": []
    },
    {
      "cell_type": "code",
      "metadata": {
        "id": "Vh7fw0vCHXYg",
        "colab_type": "code",
        "colab": {
          "base_uri": "https://localhost:8080/",
          "height": 35
        },
        "outputId": "74de856d-31ac-48de-b130-0bb2f3daa80b"
      },
      "source": [
        "vars(f)"
      ],
      "execution_count": null,
      "outputs": [
        {
          "output_type": "execute_result",
          "data": {
            "text/plain": [
              "{'x': 10, 'y': 20}"
            ]
          },
          "metadata": {
            "tags": []
          },
          "execution_count": 58
        }
      ]
    },
    {
      "cell_type": "code",
      "metadata": {
        "id": "WXz1xC8fHcLX",
        "colab_type": "code",
        "colab": {
          "base_uri": "https://localhost:8080/",
          "height": 172
        },
        "outputId": "a8e5c98b-f774-4cc8-fe72-87c6d160c9c9"
      },
      "source": [
        "f = Foo()"
      ],
      "execution_count": null,
      "outputs": [
        {
          "output_type": "error",
          "ename": "TypeError",
          "evalue": "ignored",
          "traceback": [
            "\u001b[0;31m---------------------------------------------------------------------------\u001b[0m",
            "\u001b[0;31mTypeError\u001b[0m                                 Traceback (most recent call last)",
            "\u001b[0;32m<ipython-input-59-79a961337674>\u001b[0m in \u001b[0;36m<module>\u001b[0;34m()\u001b[0m\n\u001b[0;32m----> 1\u001b[0;31m \u001b[0mf\u001b[0m \u001b[0;34m=\u001b[0m \u001b[0mFoo\u001b[0m\u001b[0;34m(\u001b[0m\u001b[0;34m)\u001b[0m\u001b[0;34m\u001b[0m\u001b[0;34m\u001b[0m\u001b[0m\n\u001b[0m",
            "\u001b[0;31mTypeError\u001b[0m: __init__() missing 2 required positional arguments: 'x' and 'y'"
          ]
        }
      ]
    },
    {
      "cell_type": "code",
      "metadata": {
        "id": "afNYJQVvHq8J",
        "colab_type": "code",
        "colab": {
          "base_uri": "https://localhost:8080/",
          "height": 172
        },
        "outputId": "4fad1b78-9b99-4b6a-e939-8d842180a208"
      },
      "source": [
        "f = Foo(10)"
      ],
      "execution_count": null,
      "outputs": [
        {
          "output_type": "error",
          "ename": "TypeError",
          "evalue": "ignored",
          "traceback": [
            "\u001b[0;31m---------------------------------------------------------------------------\u001b[0m",
            "\u001b[0;31mTypeError\u001b[0m                                 Traceback (most recent call last)",
            "\u001b[0;32m<ipython-input-60-ddeb02584573>\u001b[0m in \u001b[0;36m<module>\u001b[0;34m()\u001b[0m\n\u001b[0;32m----> 1\u001b[0;31m \u001b[0mf\u001b[0m \u001b[0;34m=\u001b[0m \u001b[0mFoo\u001b[0m\u001b[0;34m(\u001b[0m\u001b[0;36m10\u001b[0m\u001b[0;34m)\u001b[0m\u001b[0;34m\u001b[0m\u001b[0;34m\u001b[0m\u001b[0m\n\u001b[0m",
            "\u001b[0;31mTypeError\u001b[0m: __init__() missing 1 required positional argument: 'y'"
          ]
        }
      ]
    },
    {
      "cell_type": "code",
      "metadata": {
        "id": "LVAZ8N-HHwVs",
        "colab_type": "code",
        "colab": {}
      },
      "source": [
        "class Foo(object):\n",
        "    def __init__(self, x=888, y=999):\n",
        "        self.x = x\n",
        "        self.y = y"
      ],
      "execution_count": null,
      "outputs": []
    },
    {
      "cell_type": "code",
      "metadata": {
        "id": "-1zsNg5nHvIi",
        "colab_type": "code",
        "colab": {
          "base_uri": "https://localhost:8080/",
          "height": 35
        },
        "outputId": "34d3d91f-6a7b-4d80-f42a-13c6d23e8afb"
      },
      "source": [
        "f = Foo()\n",
        "vars(f)"
      ],
      "execution_count": null,
      "outputs": [
        {
          "output_type": "execute_result",
          "data": {
            "text/plain": [
              "{'x': 888, 'y': 999}"
            ]
          },
          "metadata": {
            "tags": []
          },
          "execution_count": 62
        }
      ]
    },
    {
      "cell_type": "code",
      "metadata": {
        "id": "2_zjZ0SDIVfK",
        "colab_type": "code",
        "colab": {}
      },
      "source": [
        "class Foo(object):\n",
        "    def __init__(self, x, *args):\n",
        "        self.x = x \n",
        "        self.args = args"
      ],
      "execution_count": null,
      "outputs": []
    },
    {
      "cell_type": "code",
      "metadata": {
        "id": "0d6gC2ijI0bl",
        "colab_type": "code",
        "colab": {
          "base_uri": "https://localhost:8080/",
          "height": 35
        },
        "outputId": "9069d4ed-53e3-498b-f4b4-a4a8145d5286"
      },
      "source": [
        "f = Foo(10, 20, 30, 40, 50)\n",
        "vars(f)"
      ],
      "execution_count": null,
      "outputs": [
        {
          "output_type": "execute_result",
          "data": {
            "text/plain": [
              "{'args': (20, 30, 40, 50), 'x': 10}"
            ]
          },
          "metadata": {
            "tags": []
          },
          "execution_count": 64
        }
      ]
    },
    {
      "cell_type": "markdown",
      "metadata": {
        "id": "TN_OiWLHKkWv",
        "colab_type": "text"
      },
      "source": [
        "## More examples of objects "
      ]
    },
    {
      "cell_type": "markdown",
      "metadata": {
        "id": "zxN-2tivKsGu",
        "colab_type": "text"
      },
      "source": [
        "* The whole point of data structures is to store data efficiently for the computer and easy for humans to understand."
      ]
    },
    {
      "cell_type": "code",
      "metadata": {
        "id": "7U7VsX6_Kjyb",
        "colab_type": "code",
        "colab": {}
      },
      "source": [
        "computers = [{'brand': 'Apple', 'year':2014},\n",
        "             {'brand': 'HP', 'year':2016},\n",
        "             {'brand': 'Lenovo', 'year':2016},\n",
        "             {'brand': 'Apple', 'year':2010}]"
      ],
      "execution_count": null,
      "outputs": []
    },
    {
      "cell_type": "code",
      "metadata": {
        "id": "17qSD5X9Lqza",
        "colab_type": "code",
        "colab": {
          "base_uri": "https://localhost:8080/",
          "height": 89
        },
        "outputId": "620c02fc-e372-4608-c9c2-40ab429ac8c8"
      },
      "source": [
        "for one_computer in computers:\n",
        "    print(f\"{one_computer['brand']}, from {one_computer['year']}\")"
      ],
      "execution_count": null,
      "outputs": [
        {
          "output_type": "stream",
          "text": [
            "Apple, from 2014\n",
            "HP, from 2016\n",
            "Lenovo, from 2016\n",
            "Apple, from 2010\n"
          ],
          "name": "stdout"
        }
      ]
    },
    {
      "cell_type": "code",
      "metadata": {
        "id": "ug8qW8HjMgpG",
        "colab_type": "code",
        "colab": {
          "base_uri": "https://localhost:8080/",
          "height": 53
        },
        "outputId": "e7262387-1213-4d43-f47c-9e692d073265"
      },
      "source": [
        "for one_computer in computers:\n",
        "    if one_computer['year'] == 2016:  \n",
        "      print(f\"{one_computer['brand']}, from {one_computer['year']}\")"
      ],
      "execution_count": null,
      "outputs": [
        {
          "output_type": "stream",
          "text": [
            "HP, from 2016\n",
            "Lenovo, from 2016\n"
          ],
          "name": "stdout"
        }
      ]
    },
    {
      "cell_type": "markdown",
      "metadata": {
        "id": "YawBGHyKM2gH",
        "colab_type": "text"
      },
      "source": [
        "* The problem with this approach is that it is low level.\n",
        "* Semantically things are nicer. So is the interface. "
      ]
    },
    {
      "cell_type": "code",
      "metadata": {
        "id": "_nwXpxQkM8X_",
        "colab_type": "code",
        "colab": {}
      },
      "source": [
        " class Computer(object):\n",
        "    def __init__(self, brand, year):\n",
        "        self.brand = brand\n",
        "        self.year = year\n",
        "\n",
        "c1 = Computer('Apple', 2014)\n",
        "c2 = Computer('HP', 2016)\n",
        "c3 = Computer('Lenovo', 2016)\n",
        "c4 = Computer('Apple', 2010)"
      ],
      "execution_count": null,
      "outputs": []
    },
    {
      "cell_type": "code",
      "metadata": {
        "id": "kflp3nu-O2Ev",
        "colab_type": "code",
        "colab": {
          "base_uri": "https://localhost:8080/",
          "height": 89
        },
        "outputId": "1ab83935-61b9-460b-8622-65200a572511"
      },
      "source": [
        "my_computers = [c1, c2, c3, c4]\n",
        "\n",
        "for one_computer in my_computers:\n",
        "    print(f\"{one_computer.brand}, from {one_computer.year}\")"
      ],
      "execution_count": null,
      "outputs": [
        {
          "output_type": "stream",
          "text": [
            "Apple, from 2014\n",
            "HP, from 2016\n",
            "Lenovo, from 2016\n",
            "Apple, from 2010\n"
          ],
          "name": "stdout"
        }
      ]
    },
    {
      "cell_type": "code",
      "metadata": {
        "id": "iINb59HXPnRH",
        "colab_type": "code",
        "colab": {
          "base_uri": "https://localhost:8080/",
          "height": 235
        },
        "outputId": "3ae323fc-398b-4993-a850-da035f5aaab6"
      },
      "source": [
        "class Book(object):\n",
        "    def __init__(self, title, author, price):\n",
        "        self.title = title\n",
        "        self.author = author\n",
        "        self.price = price\n",
        "\n",
        "all_books = []\n",
        "while True:\n",
        "  title = input(\"Enter title (or <enter> to stop): \").strip()\n",
        "  if not title:\n",
        "      break\n",
        "  author = input(\"Enter author: \").strip()\n",
        "  price = float(input(\"Enter price: \"))\n",
        "\n",
        "  all_books.append(Book(title, author, price))\n",
        "\n",
        "print(all_books)"
      ],
      "execution_count": null,
      "outputs": [
        {
          "output_type": "stream",
          "text": [
            "Enter title (or <enter> to stop): title1\n",
            "Enter author: author1\n",
            "Enter price: 1111\n",
            "Enter title (or <enter> to stop): title2\n",
            "Enter author: author2\n",
            "Enter price: 222\n",
            "Enter title (or <enter> to stop): title3\n",
            "Enter author: author2\n",
            "Enter price: 333\n",
            "Enter title (or <enter> to stop): \n",
            "[<__main__.Book object at 0x7fed5d19ee48>, <__main__.Book object at 0x7fed5d19efd0>, <__main__.Book object at 0x7fed5d19e320>]\n"
          ],
          "name": "stdout"
        }
      ]
    },
    {
      "cell_type": "markdown",
      "metadata": {
        "id": "rWmrbbVaTrVU",
        "colab_type": "text"
      },
      "source": [
        "## Class Exercises"
      ]
    },
    {
      "cell_type": "markdown",
      "metadata": {
        "id": "piaANT6kUcq1",
        "colab_type": "text"
      },
      "source": [
        "**Exercise one:** \n",
        "\n",
        "Scoop class -- each instance is one scoop of ice cream\n",
        "\n",
        "s1 = Scoop('chocolate')\n",
        "s2 = Scoop('vanilla')\n",
        "s3 = Scoop('coffee')\n",
        "\n",
        "print(s1.flavor)  # chocolate\n",
        "\n",
        "for one_scoop in [s1, s2, s3]:\n",
        "    print(one_scoop.flavor)  # chocolate, vanilla, coffee"
      ]
    },
    {
      "cell_type": "code",
      "metadata": {
        "id": "TfVFyYZ3Ut15",
        "colab_type": "code",
        "colab": {
          "base_uri": "https://localhost:8080/",
          "height": 89
        },
        "outputId": "b2c47efa-0c57-4c3f-88c9-e19548d700ee"
      },
      "source": [
        "class Scoop(object):\n",
        "    def __init__(self, flavor):\n",
        "        self.flavor = flavor\n",
        "\n",
        "s1 = Scoop('chocolate')\n",
        "s2 = Scoop('vanilla')\n",
        "s3 = Scoop('coffee')\n",
        "\n",
        "print(s1.flavor)\n",
        "\n",
        "for one_scoop in [s1, s2, s3]:\n",
        "    print(one_scoop.flavor)"
      ],
      "execution_count": 1,
      "outputs": [
        {
          "output_type": "stream",
          "text": [
            "chocolate\n",
            "chocolate\n",
            "vanilla\n",
            "coffee\n"
          ],
          "name": "stdout"
        }
      ]
    },
    {
      "cell_type": "markdown",
      "metadata": {
        "id": "u67FHkLTV4Lt",
        "colab_type": "text"
      },
      "source": [
        "**Exercise two:**\n",
        "\n",
        "Person class -- name, e-mail address, and phone number\n",
        "\n",
        "    Create several people, and iterate over them in a list\n",
        "    and print their names (similar to a phone book)\n",
        "\n",
        "    Change the e-mail address of one person, and show\n",
        "    that it has changed by printing your list a second time\n"
      ]
    },
    {
      "cell_type": "code",
      "metadata": {
        "id": "zHwTJ0xrWlyh",
        "colab_type": "code",
        "colab": {
          "base_uri": "https://localhost:8080/",
          "height": 125
        },
        "outputId": "7f73c7fd-7ef1-4bec-db9c-bbf8de2f7446"
      },
      "source": [
        "class Person(object):\n",
        "    def __init__(self, name, email, phonenumber):\n",
        "        self.name = name\n",
        "        self.email = email\n",
        "        self.phonenumber = phonenumber\n",
        "\n",
        "p1 = Person(\"Jane Doe\", 'jdoe@gmail.com', '123-456-7891')\n",
        "p2 = Person(\"Al Bundy\", 'abundy@gmail.com', '321-654-9187')\n",
        "p3 = Person('Mike Trout', 'mtrout@gmail.com', '213-546-8791')\n",
        "\n",
        "\n",
        "all_people = [p1, p2, p3]\n",
        "\n",
        "for one_person in all_people:\n",
        "    print(f\"{one_person.name}, email {one_person.email}, phone {one_person.phonenumber}\")\n",
        "\n",
        "p2.email = 'bundya@gmail.com'\n",
        "\n",
        "for one_person in all_people:\n",
        "    print(f\"{one_person.name}, email {one_person.email}, phone {one_person.phonenumber}\")"
      ],
      "execution_count": 2,
      "outputs": [
        {
          "output_type": "stream",
          "text": [
            "Jane Doe, email jdoe@gmail.com, phone 123-456-7891\n",
            "Al Bundy, email abundy@gmail.com, phone 321-654-9187\n",
            "Mike Trout, email mtrout@gmail.com, phone 213-546-8791\n",
            "Jane Doe, email jdoe@gmail.com, phone 123-456-7891\n",
            "Al Bundy, email bundya@gmail.com, phone 321-654-9187\n",
            "Mike Trout, email mtrout@gmail.com, phone 213-546-8791\n"
          ],
          "name": "stdout"
        }
      ]
    },
    {
      "cell_type": "markdown",
      "metadata": {
        "id": "t2GM68tEavvS",
        "colab_type": "text"
      },
      "source": [
        "**Exercise 3:**\n",
        "\n",
        " Create a BankAccount class. It'll have a single\n",
        "    attribute (per instance), transactions -- a list of floats\n",
        "\n",
        "    Every time you deposit, append a positive float\n",
        "    Every time you withdraw, append a negative float\n",
        "\n",
        "    (a) create two different accounts\n",
        "    (b) add a number of transactions +/- to each account\n",
        "    (c) show, for each account, the number of transactions\n",
        "    and the average amount per transaction, as well as\n",
        "    the current balance.  (assume it starts at 0)\n"
      ]
    },
    {
      "cell_type": "code",
      "metadata": {
        "id": "DZ7bOBzsnFOA",
        "colab_type": "code",
        "colab": {}
      },
      "source": [
        "class BankAccount(object):\n",
        "    def __init__(self):\n",
        "        self.transactions = []\n",
        "\n",
        "checking = BankAccount()\n",
        "savings = BankAccount()\n",
        "\n",
        "\n",
        "\n",
        "\n"
      ],
      "execution_count": 3,
      "outputs": []
    },
    {
      "cell_type": "code",
      "metadata": {
        "id": "oFcLDRHdvFIl",
        "colab_type": "code",
        "colab": {}
      },
      "source": [
        "checking.transactions.append(100)"
      ],
      "execution_count": 4,
      "outputs": []
    },
    {
      "cell_type": "code",
      "metadata": {
        "id": "FizVlak0vSmq",
        "colab_type": "code",
        "colab": {}
      },
      "source": [
        "checking.transactions.append(-50)"
      ],
      "execution_count": 5,
      "outputs": []
    },
    {
      "cell_type": "code",
      "metadata": {
        "id": "IZ7ykL12vcxd",
        "colab_type": "code",
        "colab": {}
      },
      "source": [
        "checking.transactions.append(500)"
      ],
      "execution_count": 6,
      "outputs": []
    },
    {
      "cell_type": "code",
      "metadata": {
        "id": "fGARgWqDvYSD",
        "colab_type": "code",
        "colab": {}
      },
      "source": [
        "checking.transactions.append(-250)"
      ],
      "execution_count": 7,
      "outputs": []
    },
    {
      "cell_type": "code",
      "metadata": {
        "id": "oUOk_aHBvbsm",
        "colab_type": "code",
        "colab": {
          "base_uri": "https://localhost:8080/",
          "height": 35
        },
        "outputId": "57984d7b-49f7-462f-8d2a-1b2c877da5f0"
      },
      "source": [
        "sum(checking.transactions)\n"
      ],
      "execution_count": 8,
      "outputs": [
        {
          "output_type": "execute_result",
          "data": {
            "text/plain": [
              "300"
            ]
          },
          "metadata": {
            "tags": []
          },
          "execution_count": 8
        }
      ]
    },
    {
      "cell_type": "code",
      "metadata": {
        "id": "E_YDdUCFwrD7",
        "colab_type": "code",
        "colab": {
          "base_uri": "https://localhost:8080/",
          "height": 35
        },
        "outputId": "382f5e73-a26b-4785-ba76-8e19ef9b7c49"
      },
      "source": [
        " len(checking.transactions)"
      ],
      "execution_count": 9,
      "outputs": [
        {
          "output_type": "execute_result",
          "data": {
            "text/plain": [
              "4"
            ]
          },
          "metadata": {
            "tags": []
          },
          "execution_count": 9
        }
      ]
    },
    {
      "cell_type": "code",
      "metadata": {
        "id": "LnsBGKd3xUAV",
        "colab_type": "code",
        "colab": {
          "base_uri": "https://localhost:8080/",
          "height": 35
        },
        "outputId": "2c1cfe31-4824-4202-9cf2-aa2b8ee9546d"
      },
      "source": [
        "sum(checking.transactions) / len(checking.transactions)"
      ],
      "execution_count": 10,
      "outputs": [
        {
          "output_type": "execute_result",
          "data": {
            "text/plain": [
              "75.0"
            ]
          },
          "metadata": {
            "tags": []
          },
          "execution_count": 10
        }
      ]
    },
    {
      "cell_type": "code",
      "metadata": {
        "id": "f5TnaG_bxmTF",
        "colab_type": "code",
        "colab": {
          "base_uri": "https://localhost:8080/",
          "height": 35
        },
        "outputId": "ee39a668-8f78-46e4-bc95-a78ed56ecb45"
      },
      "source": [
        "sum(savings.transactions)"
      ],
      "execution_count": 13,
      "outputs": [
        {
          "output_type": "execute_result",
          "data": {
            "text/plain": [
              "0"
            ]
          },
          "metadata": {
            "tags": []
          },
          "execution_count": 13
        }
      ]
    },
    {
      "cell_type": "code",
      "metadata": {
        "id": "xTn-LUcirAbA",
        "colab_type": "code",
        "colab": {}
      },
      "source": [
        "savings.transactions.append(1000)"
      ],
      "execution_count": 14,
      "outputs": []
    },
    {
      "cell_type": "code",
      "metadata": {
        "id": "heN_IWjtrF1a",
        "colab_type": "code",
        "colab": {}
      },
      "source": [
        "savings.transactions.append(2000)"
      ],
      "execution_count": 15,
      "outputs": []
    },
    {
      "cell_type": "code",
      "metadata": {
        "id": "Zs_6iHpHrlE2",
        "colab_type": "code",
        "colab": {}
      },
      "source": [
        "savings.transactions.append(-100)"
      ],
      "execution_count": 16,
      "outputs": []
    },
    {
      "cell_type": "code",
      "metadata": {
        "id": "44NCVVSJrpct",
        "colab_type": "code",
        "colab": {
          "base_uri": "https://localhost:8080/",
          "height": 35
        },
        "outputId": "0b50a2f5-4734-4268-ab99-343a59af04b8"
      },
      "source": [
        "sum(savings.transactions)"
      ],
      "execution_count": 17,
      "outputs": [
        {
          "output_type": "execute_result",
          "data": {
            "text/plain": [
              "2900"
            ]
          },
          "metadata": {
            "tags": []
          },
          "execution_count": 17
        }
      ]
    },
    {
      "cell_type": "code",
      "metadata": {
        "id": "DPNdsQHIruKh",
        "colab_type": "code",
        "colab": {
          "base_uri": "https://localhost:8080/",
          "height": 35
        },
        "outputId": "2ab35bef-c5de-4377-e2c0-fc4c5489ce24"
      },
      "source": [
        "sum(savings.transactions) / len(savings.transactions)"
      ],
      "execution_count": 19,
      "outputs": [
        {
          "output_type": "execute_result",
          "data": {
            "text/plain": [
              "966.6666666666666"
            ]
          },
          "metadata": {
            "tags": []
          },
          "execution_count": 19
        }
      ]
    },
    {
      "cell_type": "markdown",
      "metadata": {
        "id": "uXq9dbZgsfLt",
        "colab_type": "text"
      },
      "source": [
        "## Three Methods"
      ]
    },
    {
      "cell_type": "markdown",
      "metadata": {
        "id": "q9Zjf8bDtSUJ",
        "colab_type": "text"
      },
      "source": [
        "* Behind the scenese Python invokes the x2 method on our object f of type Foo.\n",
        "* Calling a method is the preferable as it's analogous to sending a message to our object.\n",
        "* The attribute x is defined on our object self.\n",
        "* This simplifies the scoping rules within Python.\n",
        "* Getter and setter methods are not considered Pythonic."
      ]
    },
    {
      "cell_type": "code",
      "metadata": {
        "id": "06jOZxf3snCw",
        "colab_type": "code",
        "colab": {}
      },
      "source": [
        "class Foo(object):\n",
        "    def __init__(self, x):\n",
        "        self.x = x\n",
        "\n",
        "    def x2(self):\n",
        "        return self.x * 2"
      ],
      "execution_count": 20,
      "outputs": []
    },
    {
      "cell_type": "code",
      "metadata": {
        "id": "PTTskPhvtAUy",
        "colab_type": "code",
        "colab": {}
      },
      "source": [
        "f = Foo(10)"
      ],
      "execution_count": 21,
      "outputs": []
    },
    {
      "cell_type": "code",
      "metadata": {
        "id": "a8Qt6JpgtDSd",
        "colab_type": "code",
        "colab": {
          "base_uri": "https://localhost:8080/",
          "height": 35
        },
        "outputId": "7b0860ca-49cd-418d-acfe-c92bb8e392dc"
      },
      "source": [
        "vars(f)"
      ],
      "execution_count": 22,
      "outputs": [
        {
          "output_type": "execute_result",
          "data": {
            "text/plain": [
              "{'x': 10}"
            ]
          },
          "metadata": {
            "tags": []
          },
          "execution_count": 22
        }
      ]
    },
    {
      "cell_type": "code",
      "metadata": {
        "id": "Or2T7v3gtIrs",
        "colab_type": "code",
        "colab": {
          "base_uri": "https://localhost:8080/",
          "height": 35
        },
        "outputId": "1f4ae969-11e2-4049-951a-2cb2dee55609"
      },
      "source": [
        "f.x2() # invokes the method x2 on f object"
      ],
      "execution_count": 23,
      "outputs": [
        {
          "output_type": "execute_result",
          "data": {
            "text/plain": [
              "20"
            ]
          },
          "metadata": {
            "tags": []
          },
          "execution_count": 23
        }
      ]
    },
    {
      "cell_type": "code",
      "metadata": {
        "id": "KyZjn8WeuMY5",
        "colab_type": "code",
        "colab": {
          "base_uri": "https://localhost:8080/",
          "height": 35
        },
        "outputId": "058165c4-40d0-4149-fe70-0c59c39bf1fe"
      },
      "source": [
        "Foo.x2(f) # the above line, f.x2(), is secretly rewritten to look like this!"
      ],
      "execution_count": 24,
      "outputs": [
        {
          "output_type": "execute_result",
          "data": {
            "text/plain": [
              "20"
            ]
          },
          "metadata": {
            "tags": []
          },
          "execution_count": 24
        }
      ]
    },
    {
      "cell_type": "code",
      "metadata": {
        "id": "i3TYLSIBu6Y-",
        "colab_type": "code",
        "colab": {}
      },
      "source": [
        "class Foo(object):\n",
        "    def __init__(self, x):\n",
        "        self.x = x\n",
        "\n",
        "    def x2(self):\n",
        "        return x * 2"
      ],
      "execution_count": 25,
      "outputs": []
    },
    {
      "cell_type": "code",
      "metadata": {
        "id": "PyDvmqkau_n2",
        "colab_type": "code",
        "colab": {
          "base_uri": "https://localhost:8080/",
          "height": 280
        },
        "outputId": "5765b22a-2c3d-4d9b-e2d7-5400729792e1"
      },
      "source": [
        "f = Foo(10)\n",
        "f.x2()"
      ],
      "execution_count": 26,
      "outputs": [
        {
          "output_type": "error",
          "ename": "NameError",
          "evalue": "ignored",
          "traceback": [
            "\u001b[0;31m---------------------------------------------------------------------------\u001b[0m",
            "\u001b[0;31mNameError\u001b[0m                                 Traceback (most recent call last)",
            "\u001b[0;32m<ipython-input-26-49554356d6a3>\u001b[0m in \u001b[0;36m<module>\u001b[0;34m()\u001b[0m\n\u001b[1;32m      1\u001b[0m \u001b[0mf\u001b[0m \u001b[0;34m=\u001b[0m \u001b[0mFoo\u001b[0m\u001b[0;34m(\u001b[0m\u001b[0;36m10\u001b[0m\u001b[0;34m)\u001b[0m\u001b[0;34m\u001b[0m\u001b[0;34m\u001b[0m\u001b[0m\n\u001b[0;32m----> 2\u001b[0;31m \u001b[0mf\u001b[0m\u001b[0;34m.\u001b[0m\u001b[0mx2\u001b[0m\u001b[0;34m(\u001b[0m\u001b[0;34m)\u001b[0m\u001b[0;34m\u001b[0m\u001b[0;34m\u001b[0m\u001b[0m\n\u001b[0m",
            "\u001b[0;32m<ipython-input-25-10338d54bf12>\u001b[0m in \u001b[0;36mx2\u001b[0;34m(self)\u001b[0m\n\u001b[1;32m      4\u001b[0m \u001b[0;34m\u001b[0m\u001b[0m\n\u001b[1;32m      5\u001b[0m     \u001b[0;32mdef\u001b[0m \u001b[0mx2\u001b[0m\u001b[0;34m(\u001b[0m\u001b[0mself\u001b[0m\u001b[0;34m)\u001b[0m\u001b[0;34m:\u001b[0m\u001b[0;34m\u001b[0m\u001b[0;34m\u001b[0m\u001b[0m\n\u001b[0;32m----> 6\u001b[0;31m         \u001b[0;32mreturn\u001b[0m \u001b[0mx\u001b[0m \u001b[0;34m*\u001b[0m \u001b[0;36m2\u001b[0m\u001b[0;34m\u001b[0m\u001b[0;34m\u001b[0m\u001b[0m\n\u001b[0m",
            "\u001b[0;31mNameError\u001b[0m: name 'x' is not defined"
          ]
        }
      ]
    },
    {
      "cell_type": "code",
      "metadata": {
        "id": "HDwcjLcHv31C",
        "colab_type": "code",
        "colab": {
          "base_uri": "https://localhost:8080/",
          "height": 53
        },
        "outputId": "e1c23902-cb4d-474e-8438-428c406df9b7"
      },
      "source": [
        "class Foo(object):\n",
        "    def __init__(self, x):\n",
        "        self.x = x\n",
        "\n",
        "    def get_x(self):\n",
        "        return self.x\n",
        "\n",
        "    def set_x(self, new_x):\n",
        "        self.x = new_x\n",
        "\n",
        "f = Foo(10)\n",
        "print(f.get_x())\n",
        "f.set_x(20)\n",
        "print(f.get_x())"
      ],
      "execution_count": 27,
      "outputs": [
        {
          "output_type": "stream",
          "text": [
            "10\n",
            "20\n"
          ],
          "name": "stdout"
        }
      ]
    },
    {
      "cell_type": "code",
      "metadata": {
        "id": "ra2oT_Eow2yA",
        "colab_type": "code",
        "colab": {
          "base_uri": "https://localhost:8080/",
          "height": 53
        },
        "outputId": "e273d07a-bcfa-44d2-f54e-ea9fdcf45f6c"
      },
      "source": [
        "class Foo(object):\n",
        "    def __init__(self, x):\n",
        "        self.x = x\n",
        "\n",
        "#    def get_x(self):   # getter or accesor\n",
        "#        return self.x\n",
        "\n",
        "#    def set_x(self, new_x): # setter or mutator\n",
        "#        self.x = new_x\n",
        "\n",
        "f = Foo(10)\n",
        "print(f.x)\n",
        "f.x = 20 \n",
        "print(f.x)"
      ],
      "execution_count": 29,
      "outputs": [
        {
          "output_type": "stream",
          "text": [
            "10\n",
            "20\n"
          ],
          "name": "stdout"
        }
      ]
    }
  ]
}