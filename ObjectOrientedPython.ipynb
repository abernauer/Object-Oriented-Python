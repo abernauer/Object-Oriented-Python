{
  "nbformat": 4,
  "nbformat_minor": 0,
  "metadata": {
    "colab": {
      "name": "ObjectOrientedPython.ipynb",
      "provenance": [],
      "authorship_tag": "ABX9TyPCdNHZc9SA2+0Ie8Md5ybh"
    },
    "kernelspec": {
      "name": "python3",
      "display_name": "Python 3"
    }
  },
  "cells": [
    {
      "cell_type": "markdown",
      "metadata": {
        "id": "YJkFQmvZsNVS",
        "colab_type": "text"
      },
      "source": [
        "# What is object oriented progamming?"
      ]
    },
    {
      "cell_type": "markdown",
      "metadata": {
        "id": "vsOYq3IwsUyF",
        "colab_type": "text"
      },
      "source": [
        "Background info:\n",
        "* In the late 1970s software became difficult to mantain and read. \n",
        "* Alan Kay a researcher at Xerox part came up with the idea of modeling programs after physical objects or complex systems.\n",
        "* Analogy of the body havinn different cells each having their own functions, but are still able to work together.\n",
        "* Many different objects with different functions that talk together. \n",
        "* Kay came up with the small talk language which was the first object oriented language. \n",
        "* Structured system where the whole system is consistent. \n",
        "* The messages were methods and the types of objects were called classes. \n",
        "* Ruby is inspired by small talk and the contemporary version of the language. \n",
        "* Python's object system is also influenced by small talk. \n",
        "* The design of object oriented programming was to think differently. \n",
        "* Java claims to be a purely object oriented program which is not technically true. \n",
        "* In python everything except the keywords in the language are objects.\n",
        "* Allows us to create new objects that behave in a certain way.\n",
        "\n"
      ]
    }
  ]
}