{
  "nbformat": 4,
  "nbformat_minor": 0,
  "metadata": {
    "colab": {
      "name": "ObjectOrientedPython.ipynb",
      "provenance": [],
      "collapsed_sections": [
        "BRVMlclX5zlj",
        "2oRx4yQ78Mid",
        "f1MTtmMG-1pw",
        "N6sRQDAfBWod",
        "M8fOKQEKGK6T",
        "TN_OiWLHKkWv"
      ],
      "authorship_tag": "ABX9TyOm7a5NDmtfUh9U9fxSGPbc",
      "include_colab_link": true
    },
    "kernelspec": {
      "name": "python3",
      "display_name": "Python 3"
    }
  },
  "cells": [
    {
      "cell_type": "markdown",
      "metadata": {
        "id": "view-in-github",
        "colab_type": "text"
      },
      "source": [
        "<a href=\"https://colab.research.google.com/github/abernauer/Object-Oriented-Python/blob/master/ObjectOrientedPython.ipynb\" target=\"_parent\"><img src=\"https://colab.research.google.com/assets/colab-badge.svg\" alt=\"Open In Colab\"/></a>"
      ]
    },
    {
      "cell_type": "markdown",
      "metadata": {
        "id": "YJkFQmvZsNVS",
        "colab_type": "text"
      },
      "source": [
        "# What is object oriented progamming?"
      ]
    },
    {
      "cell_type": "markdown",
      "metadata": {
        "id": "vsOYq3IwsUyF",
        "colab_type": "text"
      },
      "source": [
        "Background info:\n",
        "* In the late 1970s software became difficult to mantain and read. \n",
        "* Alan Kay a researcher at Xerox part came up with the idea of modeling programs after physical objects or complex systems.\n",
        "* Analogy of the body havinn different cells each having their own functions, but are still able to work together.\n",
        "* Many different objects with different functions that talk together. \n",
        "* Kay came up with the small talk language which was the first object oriented language. \n",
        "* Structured system where the whole system is consistent. \n",
        "* The messages were methods and the types of objects were called classes. \n",
        "* Ruby is inspired by small talk and the contemporary version of the language. \n",
        "* Python's object system is also influenced by small talk. \n",
        "* The design of object oriented programming was to think differently. \n",
        "* Java claims to be a purely object oriented program which is not technically true. \n",
        "* In python everything except the keywords in the language are objects.\n",
        "* Allows us to create new objects that behave in a certain way.\n",
        "\n"
      ]
    },
    {
      "cell_type": "markdown",
      "metadata": {
        "id": "ngLzuI75vvVu",
        "colab_type": "text"
      },
      "source": [
        "## What are Python objects?"
      ]
    },
    {
      "cell_type": "code",
      "metadata": {
        "id": "swbymEd4vz4i",
        "colab_type": "code",
        "colab": {}
      },
      "source": [
        "# everything is an object means:\n",
        "# (1) everything has a type/class\n",
        "# (2) everything has attributes\n",
        "\n"
      ],
      "execution_count": 33,
      "outputs": []
    },
    {
      "cell_type": "markdown",
      "metadata": {
        "id": "UgXXzDUrw4-c",
        "colab_type": "text"
      },
      "source": [
        "* Everything behaves in a similar fashion.\n",
        "* Branding, Starbucks, you have an expectation of the taste of their coffee.\n",
        "* Type an Class are mostly interchangably in speech in Python.\n",
        "* Type is a function and Class is a keyword."
      ]
    },
    {
      "cell_type": "code",
      "metadata": {
        "id": "JSs32nnAwND5",
        "colab_type": "code",
        "colab": {
          "base_uri": "https://localhost:8080/",
          "height": 35
        },
        "outputId": "2590779b-50c1-46f0-be3b-fd0ecb586d2e"
      },
      "source": [
        "x = 100\n",
        "type(x)"
      ],
      "execution_count": 56,
      "outputs": [
        {
          "output_type": "execute_result",
          "data": {
            "text/plain": [
              "int"
            ]
          },
          "metadata": {
            "tags": []
          },
          "execution_count": 56
        }
      ]
    },
    {
      "cell_type": "code",
      "metadata": {
        "id": "AqLy8l9KxsFk",
        "colab_type": "code",
        "colab": {
          "base_uri": "https://localhost:8080/",
          "height": 35
        },
        "outputId": "9b222ea8-28fd-467b-f7af-2c3e7c94d49e"
      },
      "source": [
        "x = 'abcd'\n",
        "type(x)"
      ],
      "execution_count": 57,
      "outputs": [
        {
          "output_type": "execute_result",
          "data": {
            "text/plain": [
              "str"
            ]
          },
          "metadata": {
            "tags": []
          },
          "execution_count": 57
        }
      ]
    },
    {
      "cell_type": "code",
      "metadata": {
        "id": "_6PNDwlkxw7D",
        "colab_type": "code",
        "colab": {
          "base_uri": "https://localhost:8080/",
          "height": 35
        },
        "outputId": "7e4c5dd2-0413-4090-936e-6c482cec6a7e"
      },
      "source": [
        "x = [10, 20, 30]\n",
        "type(x)"
      ],
      "execution_count": 58,
      "outputs": [
        {
          "output_type": "execute_result",
          "data": {
            "text/plain": [
              "list"
            ]
          },
          "metadata": {
            "tags": []
          },
          "execution_count": 58
        }
      ]
    },
    {
      "cell_type": "markdown",
      "metadata": {
        "id": "4rkNSdefx8Y5",
        "colab_type": "text"
      },
      "source": [
        "* In each case we are saying x points to some certain kind of object of x and type.\n",
        "* In staticly typed languages your type is defined at the definition.\n",
        "* In Python when you get the class back it allows you to create new objects.\n",
        "* Constructor or function class creates an object of that type."
      ]
    },
    {
      "cell_type": "markdown",
      "metadata": {
        "id": "yRM0KTSfyxNA",
        "colab_type": "text"
      },
      "source": [
        "Revisit later for better notes."
      ]
    },
    {
      "cell_type": "code",
      "metadata": {
        "id": "T1_lGi1sx5eN",
        "colab_type": "code",
        "colab": {
          "base_uri": "https://localhost:8080/",
          "height": 35
        },
        "outputId": "2cab4df2-1349-4952-c2fe-862471eb9a3a"
      },
      "source": [
        "int('123')"
      ],
      "execution_count": 59,
      "outputs": [
        {
          "output_type": "execute_result",
          "data": {
            "text/plain": [
              "123"
            ]
          },
          "metadata": {
            "tags": []
          },
          "execution_count": 59
        }
      ]
    },
    {
      "cell_type": "code",
      "metadata": {
        "id": "C1EUPfoFy7fV",
        "colab_type": "code",
        "colab": {
          "base_uri": "https://localhost:8080/",
          "height": 35
        },
        "outputId": "4bfd8611-34d8-47af-ab50-68f75caf2104"
      },
      "source": [
        "str(123)"
      ],
      "execution_count": 60,
      "outputs": [
        {
          "output_type": "execute_result",
          "data": {
            "application/vnd.google.colaboratory.intrinsic+json": {
              "type": "string"
            },
            "text/plain": [
              "'123'"
            ]
          },
          "metadata": {
            "tags": []
          },
          "execution_count": 60
        }
      ]
    },
    {
      "cell_type": "code",
      "metadata": {
        "id": "2_9zq1nkzNar",
        "colab_type": "code",
        "colab": {
          "base_uri": "https://localhost:8080/",
          "height": 35
        },
        "outputId": "b96c5d23-2109-4d01-e004-172ec4ee7014"
      },
      "source": [
        "list('abcd')"
      ],
      "execution_count": 61,
      "outputs": [
        {
          "output_type": "execute_result",
          "data": {
            "text/plain": [
              "['a', 'b', 'c', 'd']"
            ]
          },
          "metadata": {
            "tags": []
          },
          "execution_count": 61
        }
      ]
    },
    {
      "cell_type": "markdown",
      "metadata": {
        "id": "lFFV6DHVzSHM",
        "colab_type": "text"
      },
      "source": [
        "* In many languages these classes are not objects themselves.\n",
        "* In Python this is not the case.\n",
        "* Classes are objects.\n"
      ]
    },
    {
      "cell_type": "code",
      "metadata": {
        "id": "aMLdunv0zsRo",
        "colab_type": "code",
        "colab": {
          "base_uri": "https://localhost:8080/",
          "height": 35
        },
        "outputId": "30c38bcc-c96f-4f5b-aecd-44cb3553095f"
      },
      "source": [
        "type(int)"
      ],
      "execution_count": 62,
      "outputs": [
        {
          "output_type": "execute_result",
          "data": {
            "text/plain": [
              "type"
            ]
          },
          "metadata": {
            "tags": []
          },
          "execution_count": 62
        }
      ]
    },
    {
      "cell_type": "code",
      "metadata": {
        "id": "ycILOBVizx3M",
        "colab_type": "code",
        "colab": {
          "base_uri": "https://localhost:8080/",
          "height": 35
        },
        "outputId": "9d26c977-d6b1-44f5-b99a-c851c85cec7e"
      },
      "source": [
        "type(str)"
      ],
      "execution_count": 63,
      "outputs": [
        {
          "output_type": "execute_result",
          "data": {
            "text/plain": [
              "type"
            ]
          },
          "metadata": {
            "tags": []
          },
          "execution_count": 63
        }
      ]
    },
    {
      "cell_type": "code",
      "metadata": {
        "id": "9yuCulgxz6vE",
        "colab_type": "code",
        "colab": {
          "base_uri": "https://localhost:8080/",
          "height": 35
        },
        "outputId": "83e03ac8-29de-4b72-cf65-b02cd37e4ef2"
      },
      "source": [
        "type(list)"
      ],
      "execution_count": 64,
      "outputs": [
        {
          "output_type": "execute_result",
          "data": {
            "text/plain": [
              "type"
            ]
          },
          "metadata": {
            "tags": []
          },
          "execution_count": 64
        }
      ]
    },
    {
      "cell_type": "markdown",
      "metadata": {
        "id": "GbqEoiBB1AF2",
        "colab_type": "text"
      },
      "source": [
        "* Types are themselves instances of object type.\n"
      ]
    },
    {
      "cell_type": "code",
      "metadata": {
        "id": "fZeqcvIP1J2O",
        "colab_type": "code",
        "colab": {}
      },
      "source": [
        "# factory's factory = type -- every class's type is \"type\""
      ],
      "execution_count": 65,
      "outputs": []
    },
    {
      "cell_type": "code",
      "metadata": {
        "id": "9F_I8vpq1cg6",
        "colab_type": "code",
        "colab": {
          "base_uri": "https://localhost:8080/",
          "height": 35
        },
        "outputId": "301bbc76-3902-4b13-cd69-9906a165212d"
      },
      "source": [
        "type(type)"
      ],
      "execution_count": 66,
      "outputs": [
        {
          "output_type": "execute_result",
          "data": {
            "text/plain": [
              "type"
            ]
          },
          "metadata": {
            "tags": []
          },
          "execution_count": 66
        }
      ]
    },
    {
      "cell_type": "markdown",
      "metadata": {
        "id": "Hk77AdYw1p6t",
        "colab_type": "text"
      },
      "source": [
        "* Attributes are essential to understanding objects in Python.\n",
        "* Attributes are objects.\n",
        "* Many objects in Python are shared in memory\n",
        "* The dir() function tells us what the attributes or methods of an object are.\n",
        "* dir() returns a list"
      ]
    },
    {
      "cell_type": "code",
      "metadata": {
        "id": "DjwQB3Mk1q2m",
        "colab_type": "code",
        "colab": {
          "base_uri": "https://localhost:8080/",
          "height": 1000
        },
        "outputId": "d97e7ade-bf14-40f8-a62b-5b3972da2296"
      },
      "source": [
        "#a # identifier = name = variable or function.. an object of some sort\n",
        "  # search is LEGB Local, Enclosing, Global, Built-in\n",
        "# a.b # .b means: Look for the name (\"attribute\") b inside of the object a\n",
        "\n",
        "a = 'abcd'\n",
        "dir(a) # \"dunders\" -- double underscore"
      ],
      "execution_count": 67,
      "outputs": [
        {
          "output_type": "execute_result",
          "data": {
            "text/plain": [
              "['__add__',\n",
              " '__class__',\n",
              " '__contains__',\n",
              " '__delattr__',\n",
              " '__dir__',\n",
              " '__doc__',\n",
              " '__eq__',\n",
              " '__format__',\n",
              " '__ge__',\n",
              " '__getattribute__',\n",
              " '__getitem__',\n",
              " '__getnewargs__',\n",
              " '__gt__',\n",
              " '__hash__',\n",
              " '__init__',\n",
              " '__init_subclass__',\n",
              " '__iter__',\n",
              " '__le__',\n",
              " '__len__',\n",
              " '__lt__',\n",
              " '__mod__',\n",
              " '__mul__',\n",
              " '__ne__',\n",
              " '__new__',\n",
              " '__reduce__',\n",
              " '__reduce_ex__',\n",
              " '__repr__',\n",
              " '__rmod__',\n",
              " '__rmul__',\n",
              " '__setattr__',\n",
              " '__sizeof__',\n",
              " '__str__',\n",
              " '__subclasshook__',\n",
              " 'capitalize',\n",
              " 'casefold',\n",
              " 'center',\n",
              " 'count',\n",
              " 'encode',\n",
              " 'endswith',\n",
              " 'expandtabs',\n",
              " 'find',\n",
              " 'format',\n",
              " 'format_map',\n",
              " 'index',\n",
              " 'isalnum',\n",
              " 'isalpha',\n",
              " 'isdecimal',\n",
              " 'isdigit',\n",
              " 'isidentifier',\n",
              " 'islower',\n",
              " 'isnumeric',\n",
              " 'isprintable',\n",
              " 'isspace',\n",
              " 'istitle',\n",
              " 'isupper',\n",
              " 'join',\n",
              " 'ljust',\n",
              " 'lower',\n",
              " 'lstrip',\n",
              " 'maketrans',\n",
              " 'partition',\n",
              " 'replace',\n",
              " 'rfind',\n",
              " 'rindex',\n",
              " 'rjust',\n",
              " 'rpartition',\n",
              " 'rsplit',\n",
              " 'rstrip',\n",
              " 'split',\n",
              " 'splitlines',\n",
              " 'startswith',\n",
              " 'strip',\n",
              " 'swapcase',\n",
              " 'title',\n",
              " 'translate',\n",
              " 'upper',\n",
              " 'zfill']"
            ]
          },
          "metadata": {
            "tags": []
          },
          "execution_count": 67
        }
      ]
    },
    {
      "cell_type": "markdown",
      "metadata": {
        "id": "IJifAJCm4HmE",
        "colab_type": "text"
      },
      "source": [
        "* a.upper() asking does a have the method upper and we invoke it with the closing parenthesis\n",
        "* . signals we're looking for an attribute."
      ]
    },
    {
      "cell_type": "code",
      "metadata": {
        "id": "OMp8ZG32343s",
        "colab_type": "code",
        "colab": {
          "base_uri": "https://localhost:8080/",
          "height": 35
        },
        "outputId": "6a0affc5-c907-4569-84ec-fcf038a7bef3"
      },
      "source": [
        "a.upper()"
      ],
      "execution_count": 68,
      "outputs": [
        {
          "output_type": "execute_result",
          "data": {
            "application/vnd.google.colaboratory.intrinsic+json": {
              "type": "string"
            },
            "text/plain": [
              "'ABCD'"
            ]
          },
          "metadata": {
            "tags": []
          },
          "execution_count": 68
        }
      ]
    },
    {
      "cell_type": "code",
      "metadata": {
        "id": "N8mzEFZn4eOl",
        "colab_type": "code",
        "colab": {}
      },
      "source": [
        "import os"
      ],
      "execution_count": 69,
      "outputs": []
    },
    {
      "cell_type": "code",
      "metadata": {
        "id": "j4Wup9z64xJo",
        "colab_type": "code",
        "colab": {
          "base_uri": "https://localhost:8080/",
          "height": 35
        },
        "outputId": "75ad05d9-6124-4743-8016-ceefadae5e93"
      },
      "source": [
        "os.sep"
      ],
      "execution_count": 70,
      "outputs": [
        {
          "output_type": "execute_result",
          "data": {
            "application/vnd.google.colaboratory.intrinsic+json": {
              "type": "string"
            },
            "text/plain": [
              "'hahaha'"
            ]
          },
          "metadata": {
            "tags": []
          },
          "execution_count": 70
        }
      ]
    },
    {
      "cell_type": "code",
      "metadata": {
        "id": "rSMkmcAQ42u6",
        "colab_type": "code",
        "colab": {}
      },
      "source": [
        "os.sep = 'hahaha'"
      ],
      "execution_count": 71,
      "outputs": []
    },
    {
      "cell_type": "code",
      "metadata": {
        "id": "KIIRUFwy47Wy",
        "colab_type": "code",
        "colab": {
          "base_uri": "https://localhost:8080/",
          "height": 35
        },
        "outputId": "bfd87fde-e6dc-48ae-c2e3-7ffeac104e31"
      },
      "source": [
        "os.sep"
      ],
      "execution_count": 72,
      "outputs": [
        {
          "output_type": "execute_result",
          "data": {
            "application/vnd.google.colaboratory.intrinsic+json": {
              "type": "string"
            },
            "text/plain": [
              "'hahaha'"
            ]
          },
          "metadata": {
            "tags": []
          },
          "execution_count": 72
        }
      ]
    },
    {
      "cell_type": "markdown",
      "metadata": {
        "id": "YMzsfa3B490V",
        "colab_type": "text"
      },
      "source": [
        "* You can set the value of an attribute in memory.\n",
        "* The exception is things written in C. "
      ]
    },
    {
      "cell_type": "code",
      "metadata": {
        "id": "yklp-sFP5Exd",
        "colab_type": "code",
        "colab": {}
      },
      "source": [
        "os.my_course_name = 'Python objects'"
      ],
      "execution_count": 73,
      "outputs": []
    },
    {
      "cell_type": "code",
      "metadata": {
        "id": "HlZL031Y5O-v",
        "colab_type": "code",
        "colab": {
          "base_uri": "https://localhost:8080/",
          "height": 35
        },
        "outputId": "86697953-0de3-40c6-d5d5-848003363c9d"
      },
      "source": [
        "os.my_course_name"
      ],
      "execution_count": 74,
      "outputs": [
        {
          "output_type": "execute_result",
          "data": {
            "application/vnd.google.colaboratory.intrinsic+json": {
              "type": "string"
            },
            "text/plain": [
              "'Python objects'"
            ]
          },
          "metadata": {
            "tags": []
          },
          "execution_count": 74
        }
      ]
    },
    {
      "cell_type": "code",
      "metadata": {
        "id": "Rnd8RYuO5XGg",
        "colab_type": "code",
        "colab": {}
      },
      "source": [
        ""
      ],
      "execution_count": 74,
      "outputs": []
    },
    {
      "cell_type": "markdown",
      "metadata": {
        "id": "BRVMlclX5zlj",
        "colab_type": "text"
      },
      "source": [
        "### Methods vs. functions"
      ]
    },
    {
      "cell_type": "code",
      "metadata": {
        "id": "si16nOs654lm",
        "colab_type": "code",
        "colab": {
          "base_uri": "https://localhost:8080/",
          "height": 35
        },
        "outputId": "513a3116-0abe-471c-a6a7-e920e7b62fae"
      },
      "source": [
        "mylist = [10, 20, 30]\n",
        "sum(mylist)  # \"sum\" is a function, takes a list as an argument or iterable"
      ],
      "execution_count": 75,
      "outputs": [
        {
          "output_type": "execute_result",
          "data": {
            "text/plain": [
              "60"
            ]
          },
          "metadata": {
            "tags": []
          },
          "execution_count": 75
        }
      ]
    },
    {
      "cell_type": "code",
      "metadata": {
        "id": "KjscYj_k6Q41",
        "colab_type": "code",
        "colab": {}
      },
      "source": [
        "# function syntax\n",
        "# f(x)"
      ],
      "execution_count": 76,
      "outputs": []
    },
    {
      "cell_type": "markdown",
      "metadata": {
        "id": "TgVw55kf6Ymm",
        "colab_type": "text"
      },
      "source": [
        "* A function just exists as a variable or name. "
      ]
    },
    {
      "cell_type": "code",
      "metadata": {
        "id": "xoW7h78H6VgM",
        "colab_type": "code",
        "colab": {
          "base_uri": "https://localhost:8080/",
          "height": 172
        },
        "outputId": "3b516fc3-8a18-402d-d6e8-aff3fafabcf1"
      },
      "source": [
        "mylist.sum() # this will not work!"
      ],
      "execution_count": 77,
      "outputs": [
        {
          "output_type": "error",
          "ename": "AttributeError",
          "evalue": "ignored",
          "traceback": [
            "\u001b[0;31m---------------------------------------------------------------------------\u001b[0m",
            "\u001b[0;31mAttributeError\u001b[0m                            Traceback (most recent call last)",
            "\u001b[0;32m<ipython-input-77-14f7a001c4fd>\u001b[0m in \u001b[0;36m<module>\u001b[0;34m()\u001b[0m\n\u001b[0;32m----> 1\u001b[0;31m \u001b[0mmylist\u001b[0m\u001b[0;34m.\u001b[0m\u001b[0msum\u001b[0m\u001b[0;34m(\u001b[0m\u001b[0;34m)\u001b[0m \u001b[0;31m# this will not work!\u001b[0m\u001b[0;34m\u001b[0m\u001b[0;34m\u001b[0m\u001b[0m\n\u001b[0m",
            "\u001b[0;31mAttributeError\u001b[0m: 'list' object has no attribute 'sum'"
          ]
        }
      ]
    },
    {
      "cell_type": "code",
      "metadata": {
        "id": "5a0H6oV464Rx",
        "colab_type": "code",
        "colab": {}
      },
      "source": [
        "mylist.pop()"
      ],
      "execution_count": null,
      "outputs": []
    },
    {
      "cell_type": "code",
      "metadata": {
        "id": "AV8e85UD6-UL",
        "colab_type": "code",
        "colab": {
          "base_uri": "https://localhost:8080/",
          "height": 35
        },
        "outputId": "ebe3dd74-ac49-4afd-8e20-c8a0a740bac2"
      },
      "source": [
        "mylist"
      ],
      "execution_count": 79,
      "outputs": [
        {
          "output_type": "execute_result",
          "data": {
            "text/plain": [
              "[10, 20]"
            ]
          },
          "metadata": {
            "tags": []
          },
          "execution_count": 79
        }
      ]
    },
    {
      "cell_type": "code",
      "metadata": {
        "id": "ctdunBPH7BEp",
        "colab_type": "code",
        "colab": {}
      },
      "source": [
        "# syntax of a method\n",
        "# o.m(x)"
      ],
      "execution_count": 80,
      "outputs": []
    },
    {
      "cell_type": "markdown",
      "metadata": {
        "id": "5gyByMog7Wwe",
        "colab_type": "text"
      },
      "source": [
        "* Almost everything is a method in Python.\n",
        "* A single function was implemented to work across different objects.\n",
        "* Always look for methods.\n",
        "* Help is a good way to look for methods."
      ]
    },
    {
      "cell_type": "code",
      "metadata": {
        "id": "jjRdGVLg7MK3",
        "colab_type": "code",
        "colab": {
          "base_uri": "https://localhost:8080/",
          "height": 35
        },
        "outputId": "219abdfa-6a1d-47c5-eb57-ede11962af03"
      },
      "source": [
        "len(mylist)"
      ],
      "execution_count": 81,
      "outputs": [
        {
          "output_type": "execute_result",
          "data": {
            "text/plain": [
              "2"
            ]
          },
          "metadata": {
            "tags": []
          },
          "execution_count": 81
        }
      ]
    },
    {
      "cell_type": "code",
      "metadata": {
        "id": "q5I20JUf7nby",
        "colab_type": "code",
        "colab": {
          "base_uri": "https://localhost:8080/",
          "height": 845
        },
        "outputId": "545fae2d-4217-42ad-f09c-bb4382d4dbe7"
      },
      "source": [
        "dir(mylist)"
      ],
      "execution_count": 82,
      "outputs": [
        {
          "output_type": "execute_result",
          "data": {
            "text/plain": [
              "['__add__',\n",
              " '__class__',\n",
              " '__contains__',\n",
              " '__delattr__',\n",
              " '__delitem__',\n",
              " '__dir__',\n",
              " '__doc__',\n",
              " '__eq__',\n",
              " '__format__',\n",
              " '__ge__',\n",
              " '__getattribute__',\n",
              " '__getitem__',\n",
              " '__gt__',\n",
              " '__hash__',\n",
              " '__iadd__',\n",
              " '__imul__',\n",
              " '__init__',\n",
              " '__init_subclass__',\n",
              " '__iter__',\n",
              " '__le__',\n",
              " '__len__',\n",
              " '__lt__',\n",
              " '__mul__',\n",
              " '__ne__',\n",
              " '__new__',\n",
              " '__reduce__',\n",
              " '__reduce_ex__',\n",
              " '__repr__',\n",
              " '__reversed__',\n",
              " '__rmul__',\n",
              " '__setattr__',\n",
              " '__setitem__',\n",
              " '__sizeof__',\n",
              " '__str__',\n",
              " '__subclasshook__',\n",
              " 'append',\n",
              " 'clear',\n",
              " 'copy',\n",
              " 'count',\n",
              " 'extend',\n",
              " 'index',\n",
              " 'insert',\n",
              " 'pop',\n",
              " 'remove',\n",
              " 'reverse',\n",
              " 'sort']"
            ]
          },
          "metadata": {
            "tags": []
          },
          "execution_count": 82
        }
      ]
    },
    {
      "cell_type": "code",
      "metadata": {
        "id": "iLBWaD4P7rga",
        "colab_type": "code",
        "colab": {
          "base_uri": "https://localhost:8080/",
          "height": 1000
        },
        "outputId": "7231a541-bd42-4f36-cf78-e51df8e768d6"
      },
      "source": [
        "help(list)"
      ],
      "execution_count": 83,
      "outputs": [
        {
          "output_type": "stream",
          "text": [
            "Help on class list in module builtins:\n",
            "\n",
            "class list(object)\n",
            " |  list() -> new empty list\n",
            " |  list(iterable) -> new list initialized from iterable's items\n",
            " |  \n",
            " |  Methods defined here:\n",
            " |  \n",
            " |  __add__(self, value, /)\n",
            " |      Return self+value.\n",
            " |  \n",
            " |  __contains__(self, key, /)\n",
            " |      Return key in self.\n",
            " |  \n",
            " |  __delitem__(self, key, /)\n",
            " |      Delete self[key].\n",
            " |  \n",
            " |  __eq__(self, value, /)\n",
            " |      Return self==value.\n",
            " |  \n",
            " |  __ge__(self, value, /)\n",
            " |      Return self>=value.\n",
            " |  \n",
            " |  __getattribute__(self, name, /)\n",
            " |      Return getattr(self, name).\n",
            " |  \n",
            " |  __getitem__(...)\n",
            " |      x.__getitem__(y) <==> x[y]\n",
            " |  \n",
            " |  __gt__(self, value, /)\n",
            " |      Return self>value.\n",
            " |  \n",
            " |  __iadd__(self, value, /)\n",
            " |      Implement self+=value.\n",
            " |  \n",
            " |  __imul__(self, value, /)\n",
            " |      Implement self*=value.\n",
            " |  \n",
            " |  __init__(self, /, *args, **kwargs)\n",
            " |      Initialize self.  See help(type(self)) for accurate signature.\n",
            " |  \n",
            " |  __iter__(self, /)\n",
            " |      Implement iter(self).\n",
            " |  \n",
            " |  __le__(self, value, /)\n",
            " |      Return self<=value.\n",
            " |  \n",
            " |  __len__(self, /)\n",
            " |      Return len(self).\n",
            " |  \n",
            " |  __lt__(self, value, /)\n",
            " |      Return self<value.\n",
            " |  \n",
            " |  __mul__(self, value, /)\n",
            " |      Return self*value.\n",
            " |  \n",
            " |  __ne__(self, value, /)\n",
            " |      Return self!=value.\n",
            " |  \n",
            " |  __new__(*args, **kwargs) from builtins.type\n",
            " |      Create and return a new object.  See help(type) for accurate signature.\n",
            " |  \n",
            " |  __repr__(self, /)\n",
            " |      Return repr(self).\n",
            " |  \n",
            " |  __reversed__(...)\n",
            " |      L.__reversed__() -- return a reverse iterator over the list\n",
            " |  \n",
            " |  __rmul__(self, value, /)\n",
            " |      Return value*self.\n",
            " |  \n",
            " |  __setitem__(self, key, value, /)\n",
            " |      Set self[key] to value.\n",
            " |  \n",
            " |  __sizeof__(...)\n",
            " |      L.__sizeof__() -- size of L in memory, in bytes\n",
            " |  \n",
            " |  append(...)\n",
            " |      L.append(object) -> None -- append object to end\n",
            " |  \n",
            " |  clear(...)\n",
            " |      L.clear() -> None -- remove all items from L\n",
            " |  \n",
            " |  copy(...)\n",
            " |      L.copy() -> list -- a shallow copy of L\n",
            " |  \n",
            " |  count(...)\n",
            " |      L.count(value) -> integer -- return number of occurrences of value\n",
            " |  \n",
            " |  extend(...)\n",
            " |      L.extend(iterable) -> None -- extend list by appending elements from the iterable\n",
            " |  \n",
            " |  index(...)\n",
            " |      L.index(value, [start, [stop]]) -> integer -- return first index of value.\n",
            " |      Raises ValueError if the value is not present.\n",
            " |  \n",
            " |  insert(...)\n",
            " |      L.insert(index, object) -- insert object before index\n",
            " |  \n",
            " |  pop(...)\n",
            " |      L.pop([index]) -> item -- remove and return item at index (default last).\n",
            " |      Raises IndexError if list is empty or index is out of range.\n",
            " |  \n",
            " |  remove(...)\n",
            " |      L.remove(value) -> None -- remove first occurrence of value.\n",
            " |      Raises ValueError if the value is not present.\n",
            " |  \n",
            " |  reverse(...)\n",
            " |      L.reverse() -- reverse *IN PLACE*\n",
            " |  \n",
            " |  sort(...)\n",
            " |      L.sort(key=None, reverse=False) -> None -- stable sort *IN PLACE*\n",
            " |  \n",
            " |  ----------------------------------------------------------------------\n",
            " |  Data and other attributes defined here:\n",
            " |  \n",
            " |  __hash__ = None\n",
            "\n"
          ],
          "name": "stdout"
        }
      ]
    },
    {
      "cell_type": "markdown",
      "metadata": {
        "id": "2oRx4yQ78Mid",
        "colab_type": "text"
      },
      "source": [
        "### The simplest Python class"
      ]
    },
    {
      "cell_type": "markdown",
      "metadata": {
        "id": "0LB55Riq8WAf",
        "colab_type": "text"
      },
      "source": [
        "* It's not necessary to write classes in Python.\n",
        "* Higher level abstractions are a benefit of writing classes.\n",
        "* Functionality that depends on the data structures.\n",
        "* To create a new type of data you can use the class keyword.\n",
        "* In python three object is optional in a class definition.\n"
      ]
    },
    {
      "cell_type": "code",
      "metadata": {
        "id": "P43fpRp08Szv",
        "colab_type": "code",
        "colab": {}
      },
      "source": [
        "class Foo(object):\n",
        "    pass"
      ],
      "execution_count": 84,
      "outputs": []
    },
    {
      "cell_type": "code",
      "metadata": {
        "id": "qzLUGkcb9udt",
        "colab_type": "code",
        "colab": {
          "base_uri": "https://localhost:8080/",
          "height": 0
        },
        "outputId": "5504c7b4-110f-4c00-a21d-d7269f5c8fe6"
      },
      "source": [
        "type(Foo)"
      ],
      "execution_count": 85,
      "outputs": [
        {
          "output_type": "execute_result",
          "data": {
            "text/plain": [
              "type"
            ]
          },
          "metadata": {
            "tags": []
          },
          "execution_count": 85
        }
      ]
    },
    {
      "cell_type": "code",
      "metadata": {
        "id": "f3Eh3Qqt9yhW",
        "colab_type": "code",
        "colab": {
          "base_uri": "https://localhost:8080/",
          "height": 0
        },
        "outputId": "b54f6ea8-bcfd-4d9c-89fe-f728080355ae"
      },
      "source": [
        "int('123')"
      ],
      "execution_count": 86,
      "outputs": [
        {
          "output_type": "execute_result",
          "data": {
            "text/plain": [
              "123"
            ]
          },
          "metadata": {
            "tags": []
          },
          "execution_count": 86
        }
      ]
    },
    {
      "cell_type": "code",
      "metadata": {
        "id": "Fu_ehTsF91pR",
        "colab_type": "code",
        "colab": {
          "base_uri": "https://localhost:8080/",
          "height": 0
        },
        "outputId": "3d099453-6d8d-4eff-b81c-6d2e278fb651"
      },
      "source": [
        "int()"
      ],
      "execution_count": 87,
      "outputs": [
        {
          "output_type": "execute_result",
          "data": {
            "text/plain": [
              "0"
            ]
          },
          "metadata": {
            "tags": []
          },
          "execution_count": 87
        }
      ]
    },
    {
      "cell_type": "code",
      "metadata": {
        "id": "6QMy43Gj95BC",
        "colab_type": "code",
        "colab": {
          "base_uri": "https://localhost:8080/",
          "height": 0
        },
        "outputId": "da7e0f9d-9b51-4b66-d9af-13d87df57484"
      },
      "source": [
        "str(123)"
      ],
      "execution_count": 88,
      "outputs": [
        {
          "output_type": "execute_result",
          "data": {
            "application/vnd.google.colaboratory.intrinsic+json": {
              "type": "string"
            },
            "text/plain": [
              "'123'"
            ]
          },
          "metadata": {
            "tags": []
          },
          "execution_count": 88
        }
      ]
    },
    {
      "cell_type": "code",
      "metadata": {
        "id": "s-1UBW9E971a",
        "colab_type": "code",
        "colab": {
          "base_uri": "https://localhost:8080/",
          "height": 0
        },
        "outputId": "3e154e35-3b18-45d9-83ab-d1aa5afbf5dd"
      },
      "source": [
        "str()"
      ],
      "execution_count": 89,
      "outputs": [
        {
          "output_type": "execute_result",
          "data": {
            "application/vnd.google.colaboratory.intrinsic+json": {
              "type": "string"
            },
            "text/plain": [
              "''"
            ]
          },
          "metadata": {
            "tags": []
          },
          "execution_count": 89
        }
      ]
    },
    {
      "cell_type": "code",
      "metadata": {
        "id": "s9mTp9zZ99pP",
        "colab_type": "code",
        "colab": {
          "base_uri": "https://localhost:8080/",
          "height": 0
        },
        "outputId": "125d4a35-ae2a-4b03-c854-ca1fc08e7e5b"
      },
      "source": [
        "Foo()"
      ],
      "execution_count": 90,
      "outputs": [
        {
          "output_type": "execute_result",
          "data": {
            "text/plain": [
              "<__main__.Foo at 0x7f35f11291d0>"
            ]
          },
          "metadata": {
            "tags": []
          },
          "execution_count": 90
        }
      ]
    },
    {
      "cell_type": "code",
      "metadata": {
        "id": "EIwxsgcH9_ub",
        "colab_type": "code",
        "colab": {}
      },
      "source": [
        "f = Foo()"
      ],
      "execution_count": 91,
      "outputs": []
    },
    {
      "cell_type": "markdown",
      "metadata": {
        "id": "AbPgImhm-Gfo",
        "colab_type": "text"
      },
      "source": [
        "* f is an object of type Foo"
      ]
    },
    {
      "cell_type": "code",
      "metadata": {
        "id": "aWAQPOZS-EAx",
        "colab_type": "code",
        "colab": {
          "base_uri": "https://localhost:8080/",
          "height": 0
        },
        "outputId": "a9ff646d-aefd-4844-d479-3e295a73fb0e"
      },
      "source": [
        "type(f)"
      ],
      "execution_count": 92,
      "outputs": [
        {
          "output_type": "execute_result",
          "data": {
            "text/plain": [
              "__main__.Foo"
            ]
          },
          "metadata": {
            "tags": []
          },
          "execution_count": 92
        }
      ]
    },
    {
      "cell_type": "code",
      "metadata": {
        "id": "u21zRY0k-WcE",
        "colab_type": "code",
        "colab": {
          "base_uri": "https://localhost:8080/",
          "height": 0
        },
        "outputId": "da27ebf6-4b29-4f74-9528-077de97d4121"
      },
      "source": [
        "dir(Foo)"
      ],
      "execution_count": 93,
      "outputs": [
        {
          "output_type": "execute_result",
          "data": {
            "text/plain": [
              "['__class__',\n",
              " '__delattr__',\n",
              " '__dict__',\n",
              " '__dir__',\n",
              " '__doc__',\n",
              " '__eq__',\n",
              " '__format__',\n",
              " '__ge__',\n",
              " '__getattribute__',\n",
              " '__gt__',\n",
              " '__hash__',\n",
              " '__init__',\n",
              " '__init_subclass__',\n",
              " '__le__',\n",
              " '__lt__',\n",
              " '__module__',\n",
              " '__ne__',\n",
              " '__new__',\n",
              " '__reduce__',\n",
              " '__reduce_ex__',\n",
              " '__repr__',\n",
              " '__setattr__',\n",
              " '__sizeof__',\n",
              " '__str__',\n",
              " '__subclasshook__',\n",
              " '__weakref__']"
            ]
          },
          "metadata": {
            "tags": []
          },
          "execution_count": 93
        }
      ]
    },
    {
      "cell_type": "code",
      "metadata": {
        "id": "YKjHsLb9-dqh",
        "colab_type": "code",
        "colab": {
          "base_uri": "https://localhost:8080/",
          "height": 0
        },
        "outputId": "3e860459-9cc8-4f92-a191-e3c240e9d2ad"
      },
      "source": [
        "dir(f)"
      ],
      "execution_count": 94,
      "outputs": [
        {
          "output_type": "execute_result",
          "data": {
            "text/plain": [
              "['__class__',\n",
              " '__delattr__',\n",
              " '__dict__',\n",
              " '__dir__',\n",
              " '__doc__',\n",
              " '__eq__',\n",
              " '__format__',\n",
              " '__ge__',\n",
              " '__getattribute__',\n",
              " '__gt__',\n",
              " '__hash__',\n",
              " '__init__',\n",
              " '__init_subclass__',\n",
              " '__le__',\n",
              " '__lt__',\n",
              " '__module__',\n",
              " '__ne__',\n",
              " '__new__',\n",
              " '__reduce__',\n",
              " '__reduce_ex__',\n",
              " '__repr__',\n",
              " '__setattr__',\n",
              " '__sizeof__',\n",
              " '__str__',\n",
              " '__subclasshook__',\n",
              " '__weakref__']"
            ]
          },
          "metadata": {
            "tags": []
          },
          "execution_count": 94
        }
      ]
    },
    {
      "cell_type": "markdown",
      "metadata": {
        "id": "f1MTtmMG-1pw",
        "colab_type": "text"
      },
      "source": [
        "## Adding attributes"
      ]
    },
    {
      "cell_type": "code",
      "metadata": {
        "id": "Mizo-1Sh-9R5",
        "colab_type": "code",
        "colab": {}
      },
      "source": [
        "f = Foo()"
      ],
      "execution_count": 95,
      "outputs": []
    },
    {
      "cell_type": "code",
      "metadata": {
        "id": "T7DKyGqg_H6a",
        "colab_type": "code",
        "colab": {}
      },
      "source": [
        "vars() # globals()  returns dict of global variables\n",
        "def bar():\n",
        "    vars() # locals() returns dict of local variables"
      ],
      "execution_count": 96,
      "outputs": []
    },
    {
      "cell_type": "code",
      "metadata": {
        "id": "iHLl-KCI_ri2",
        "colab_type": "code",
        "colab": {
          "base_uri": "https://localhost:8080/",
          "height": 0
        },
        "outputId": "9b6cbf62-72e9-4a14-ea61-a9a5564b4b62"
      },
      "source": [
        "vars(f)"
      ],
      "execution_count": 97,
      "outputs": [
        {
          "output_type": "execute_result",
          "data": {
            "text/plain": [
              "{}"
            ]
          },
          "metadata": {
            "tags": []
          },
          "execution_count": 97
        }
      ]
    },
    {
      "cell_type": "code",
      "metadata": {
        "id": "jByF5Uet_yhj",
        "colab_type": "code",
        "colab": {
          "base_uri": "https://localhost:8080/",
          "height": 0
        },
        "outputId": "9e939ec9-ddb1-46b2-ecb9-f1ef3de14e1b"
      },
      "source": [
        "f.x = 100\n",
        "f.y = [10, 20, 30]\n",
        "\n",
        "dir(f)"
      ],
      "execution_count": 98,
      "outputs": [
        {
          "output_type": "execute_result",
          "data": {
            "text/plain": [
              "['__class__',\n",
              " '__delattr__',\n",
              " '__dict__',\n",
              " '__dir__',\n",
              " '__doc__',\n",
              " '__eq__',\n",
              " '__format__',\n",
              " '__ge__',\n",
              " '__getattribute__',\n",
              " '__gt__',\n",
              " '__hash__',\n",
              " '__init__',\n",
              " '__init_subclass__',\n",
              " '__le__',\n",
              " '__lt__',\n",
              " '__module__',\n",
              " '__ne__',\n",
              " '__new__',\n",
              " '__reduce__',\n",
              " '__reduce_ex__',\n",
              " '__repr__',\n",
              " '__setattr__',\n",
              " '__sizeof__',\n",
              " '__str__',\n",
              " '__subclasshook__',\n",
              " '__weakref__',\n",
              " 'x',\n",
              " 'y']"
            ]
          },
          "metadata": {
            "tags": []
          },
          "execution_count": 98
        }
      ]
    },
    {
      "cell_type": "markdown",
      "metadata": {
        "id": "JhClv0NfAB1F",
        "colab_type": "text"
      },
      "source": [
        "* Vars() showing names and values associated with f\n",
        "* f is an instance of object Foo"
      ]
    },
    {
      "cell_type": "code",
      "metadata": {
        "id": "PlHRtQHr__Eu",
        "colab_type": "code",
        "colab": {
          "base_uri": "https://localhost:8080/",
          "height": 0
        },
        "outputId": "f18195a7-ede6-47dd-e008-5dcfa2d82e58"
      },
      "source": [
        "vars(f)"
      ],
      "execution_count": 99,
      "outputs": [
        {
          "output_type": "execute_result",
          "data": {
            "text/plain": [
              "{'x': 100, 'y': [10, 20, 30]}"
            ]
          },
          "metadata": {
            "tags": []
          },
          "execution_count": 99
        }
      ]
    },
    {
      "cell_type": "code",
      "metadata": {
        "id": "ozrsMkphAVQR",
        "colab_type": "code",
        "colab": {}
      },
      "source": [
        "g = Foo()"
      ],
      "execution_count": 100,
      "outputs": []
    },
    {
      "cell_type": "code",
      "metadata": {
        "id": "Rlp38RAbAZ8H",
        "colab_type": "code",
        "colab": {
          "base_uri": "https://localhost:8080/",
          "height": 0
        },
        "outputId": "061e29c4-eb12-429f-98b3-772ab8304362"
      },
      "source": [
        "g.a = {'a':1, 'b':2, 'c':3}\n",
        "g.b = {10, 20, 30, 40, 50}\n",
        "\n",
        "vars(g)"
      ],
      "execution_count": 101,
      "outputs": [
        {
          "output_type": "execute_result",
          "data": {
            "text/plain": [
              "{'a': {'a': 1, 'b': 2, 'c': 3}, 'b': {10, 20, 30, 40, 50}}"
            ]
          },
          "metadata": {
            "tags": []
          },
          "execution_count": 101
        }
      ]
    },
    {
      "cell_type": "code",
      "metadata": {
        "id": "BHQtX_A_A1c5",
        "colab_type": "code",
        "colab": {
          "base_uri": "https://localhost:8080/",
          "height": 0
        },
        "outputId": "7ae9a705-767c-4323-ca68-d22878eed472"
      },
      "source": [
        "vars(f)"
      ],
      "execution_count": 102,
      "outputs": [
        {
          "output_type": "execute_result",
          "data": {
            "text/plain": [
              "{'x': 100, 'y': [10, 20, 30]}"
            ]
          },
          "metadata": {
            "tags": []
          },
          "execution_count": 102
        }
      ]
    },
    {
      "cell_type": "markdown",
      "metadata": {
        "id": "AiakkKyVA5gU",
        "colab_type": "text"
      },
      "source": [
        "* Python allows us to do this though it's not a good idea or best practices.\n",
        "* Everytime we create an object of type foo we want a consistent set of names or constructor.\n"
      ]
    },
    {
      "cell_type": "markdown",
      "metadata": {
        "id": "N6sRQDAfBWod",
        "colab_type": "text"
      },
      "source": [
        "## dunder init"
      ]
    },
    {
      "cell_type": "markdown",
      "metadata": {
        "id": "-zBchxb6B6kD",
        "colab_type": "text"
      },
      "source": [
        "* Constructor function that is invoked when the object is created.\n",
        "* The terminology in Python is important to understanding how the language works.\n",
        "* Python adopted some of the object system from small talk.\n",
        "* In small talk you create an object with a method called new.\n",
        "* And then add attributes to an object with an intialize method.\n",
        "* After the new method creates the object Python looks for init to add attributes.\n",
        "* self is the only parameter to dunder init in Python.\n",
        "* Similar to this keyword in C++.\n",
        "* self is a convention in Python. \n",
        "* self is the instance of the new object.\n",
        "* self and dunder new point to the same object in memory.\n",
        "* don't set attributes outside the class definition."
      ]
    },
    {
      "cell_type": "code",
      "metadata": {
        "id": "X8Hnji5XCRkd",
        "colab_type": "code",
        "colab": {}
      },
      "source": [
        "class Foo(object):\n",
        "    def __init__(self):\n",
        "        self.x = 100\n",
        "        self.y = [10, 20, 30]"
      ],
      "execution_count": 103,
      "outputs": []
    },
    {
      "cell_type": "code",
      "metadata": {
        "id": "8mVliHf9CnVd",
        "colab_type": "code",
        "colab": {
          "base_uri": "https://localhost:8080/",
          "height": 0
        },
        "outputId": "28bcca0e-606b-4d1c-af77-acf887bdeba3"
      },
      "source": [
        "f = Foo()\n",
        "vars(f)"
      ],
      "execution_count": 104,
      "outputs": [
        {
          "output_type": "execute_result",
          "data": {
            "text/plain": [
              "{'x': 100, 'y': [10, 20, 30]}"
            ]
          },
          "metadata": {
            "tags": []
          },
          "execution_count": 104
        }
      ]
    },
    {
      "cell_type": "code",
      "metadata": {
        "id": "sVomH0wACvQV",
        "colab_type": "code",
        "colab": {
          "base_uri": "https://localhost:8080/",
          "height": 0
        },
        "outputId": "312db804-d161-4f37-e620-0c3aa8476fe5"
      },
      "source": [
        "g = Foo()\n",
        "vars(g)"
      ],
      "execution_count": 105,
      "outputs": [
        {
          "output_type": "execute_result",
          "data": {
            "text/plain": [
              "{'x': 100, 'y': [10, 20, 30]}"
            ]
          },
          "metadata": {
            "tags": []
          },
          "execution_count": 105
        }
      ]
    },
    {
      "cell_type": "code",
      "metadata": {
        "id": "YYGyje4CFbRy",
        "colab_type": "code",
        "colab": {
          "base_uri": "https://localhost:8080/",
          "height": 0
        },
        "outputId": "e819f143-a694-42ee-cb28-6a0f345e2601"
      },
      "source": [
        "f.x"
      ],
      "execution_count": 106,
      "outputs": [
        {
          "output_type": "execute_result",
          "data": {
            "text/plain": [
              "100"
            ]
          },
          "metadata": {
            "tags": []
          },
          "execution_count": 106
        }
      ]
    },
    {
      "cell_type": "code",
      "metadata": {
        "id": "Heoqp2KbFd2d",
        "colab_type": "code",
        "colab": {
          "base_uri": "https://localhost:8080/",
          "height": 0
        },
        "outputId": "1389604a-ad8f-447c-f808-80b936d01204"
      },
      "source": [
        "f.x = 200\n",
        "vars(f)"
      ],
      "execution_count": 107,
      "outputs": [
        {
          "output_type": "execute_result",
          "data": {
            "text/plain": [
              "{'x': 200, 'y': [10, 20, 30]}"
            ]
          },
          "metadata": {
            "tags": []
          },
          "execution_count": 107
        }
      ]
    },
    {
      "cell_type": "code",
      "metadata": {
        "id": "seCqdNwPFj41",
        "colab_type": "code",
        "colab": {
          "base_uri": "https://localhost:8080/",
          "height": 0
        },
        "outputId": "eef9e4fd-de16-4c7f-c220-8e328c0b7bf6"
      },
      "source": [
        "f.y.append(40)\n",
        "vars(f)"
      ],
      "execution_count": 108,
      "outputs": [
        {
          "output_type": "execute_result",
          "data": {
            "text/plain": [
              "{'x': 200, 'y': [10, 20, 30, 40]}"
            ]
          },
          "metadata": {
            "tags": []
          },
          "execution_count": 108
        }
      ]
    },
    {
      "cell_type": "markdown",
      "metadata": {
        "id": "M8fOKQEKGK6T",
        "colab_type": "text"
      },
      "source": [
        "## dunder init and parameters"
      ]
    },
    {
      "cell_type": "markdown",
      "metadata": {
        "id": "EhJBCCvYGRQ_",
        "colab_type": "text"
      },
      "source": [
        "* take the local variables of x and y \n",
        "* assign their values to the attributes x and y of Foo.\n",
        "* self is required as the first positional argument in every method.\n",
        "* dunder init method is just like a function besides self.\n",
        "* a * by args means it's a tuple.\n",
        "* In other languages you can write a method with several signatures."
      ]
    },
    {
      "cell_type": "code",
      "metadata": {
        "id": "eTSAIaERGR8G",
        "colab_type": "code",
        "colab": {}
      },
      "source": [
        "class Foo(object):\n",
        "    def __init__(self, x, y):\n",
        "        self.x = x\n",
        "        self.y = y"
      ],
      "execution_count": 109,
      "outputs": []
    },
    {
      "cell_type": "code",
      "metadata": {
        "id": "8-7CMiloHP6S",
        "colab_type": "code",
        "colab": {}
      },
      "source": [
        "f = Foo(10, 20)"
      ],
      "execution_count": 110,
      "outputs": []
    },
    {
      "cell_type": "code",
      "metadata": {
        "id": "Vh7fw0vCHXYg",
        "colab_type": "code",
        "colab": {
          "base_uri": "https://localhost:8080/",
          "height": 35
        },
        "outputId": "d2c40edc-2c3a-44da-f7f6-5c9916cad302"
      },
      "source": [
        "vars(f)"
      ],
      "execution_count": 111,
      "outputs": [
        {
          "output_type": "execute_result",
          "data": {
            "text/plain": [
              "{'x': 10, 'y': 20}"
            ]
          },
          "metadata": {
            "tags": []
          },
          "execution_count": 111
        }
      ]
    },
    {
      "cell_type": "code",
      "metadata": {
        "id": "WXz1xC8fHcLX",
        "colab_type": "code",
        "colab": {
          "base_uri": "https://localhost:8080/",
          "height": 172
        },
        "outputId": "d58b0b4b-ed42-4e8c-a9b3-e2f233069782"
      },
      "source": [
        "f = Foo()"
      ],
      "execution_count": 112,
      "outputs": [
        {
          "output_type": "error",
          "ename": "TypeError",
          "evalue": "ignored",
          "traceback": [
            "\u001b[0;31m---------------------------------------------------------------------------\u001b[0m",
            "\u001b[0;31mTypeError\u001b[0m                                 Traceback (most recent call last)",
            "\u001b[0;32m<ipython-input-112-79a961337674>\u001b[0m in \u001b[0;36m<module>\u001b[0;34m()\u001b[0m\n\u001b[0;32m----> 1\u001b[0;31m \u001b[0mf\u001b[0m \u001b[0;34m=\u001b[0m \u001b[0mFoo\u001b[0m\u001b[0;34m(\u001b[0m\u001b[0;34m)\u001b[0m\u001b[0;34m\u001b[0m\u001b[0;34m\u001b[0m\u001b[0m\n\u001b[0m",
            "\u001b[0;31mTypeError\u001b[0m: __init__() missing 2 required positional arguments: 'x' and 'y'"
          ]
        }
      ]
    },
    {
      "cell_type": "code",
      "metadata": {
        "id": "afNYJQVvHq8J",
        "colab_type": "code",
        "colab": {
          "base_uri": "https://localhost:8080/",
          "height": 172
        },
        "outputId": "6e2106ef-a0c5-4e56-b95b-804415e05057"
      },
      "source": [
        "f = Foo(10)"
      ],
      "execution_count": 113,
      "outputs": [
        {
          "output_type": "error",
          "ename": "TypeError",
          "evalue": "ignored",
          "traceback": [
            "\u001b[0;31m---------------------------------------------------------------------------\u001b[0m",
            "\u001b[0;31mTypeError\u001b[0m                                 Traceback (most recent call last)",
            "\u001b[0;32m<ipython-input-113-ddeb02584573>\u001b[0m in \u001b[0;36m<module>\u001b[0;34m()\u001b[0m\n\u001b[0;32m----> 1\u001b[0;31m \u001b[0mf\u001b[0m \u001b[0;34m=\u001b[0m \u001b[0mFoo\u001b[0m\u001b[0;34m(\u001b[0m\u001b[0;36m10\u001b[0m\u001b[0;34m)\u001b[0m\u001b[0;34m\u001b[0m\u001b[0;34m\u001b[0m\u001b[0m\n\u001b[0m",
            "\u001b[0;31mTypeError\u001b[0m: __init__() missing 1 required positional argument: 'y'"
          ]
        }
      ]
    },
    {
      "cell_type": "code",
      "metadata": {
        "id": "LVAZ8N-HHwVs",
        "colab_type": "code",
        "colab": {}
      },
      "source": [
        "class Foo(object):\n",
        "    def __init__(self, x=888, y=999):\n",
        "        self.x = x\n",
        "        self.y = y"
      ],
      "execution_count": 114,
      "outputs": []
    },
    {
      "cell_type": "code",
      "metadata": {
        "id": "-1zsNg5nHvIi",
        "colab_type": "code",
        "colab": {
          "base_uri": "https://localhost:8080/",
          "height": 35
        },
        "outputId": "8095f39f-5074-430b-98a0-ef5b597f556b"
      },
      "source": [
        "f = Foo()\n",
        "vars(f)"
      ],
      "execution_count": 115,
      "outputs": [
        {
          "output_type": "execute_result",
          "data": {
            "text/plain": [
              "{'x': 888, 'y': 999}"
            ]
          },
          "metadata": {
            "tags": []
          },
          "execution_count": 115
        }
      ]
    },
    {
      "cell_type": "code",
      "metadata": {
        "id": "2_zjZ0SDIVfK",
        "colab_type": "code",
        "colab": {}
      },
      "source": [
        "class Foo(object):\n",
        "    def __init__(self, x, *args):\n",
        "        self.x = x \n",
        "        self.args = args"
      ],
      "execution_count": 116,
      "outputs": []
    },
    {
      "cell_type": "code",
      "metadata": {
        "id": "0d6gC2ijI0bl",
        "colab_type": "code",
        "colab": {
          "base_uri": "https://localhost:8080/",
          "height": 35
        },
        "outputId": "20159d5a-11f5-4528-fc0f-e343b68702b0"
      },
      "source": [
        "f = Foo(10, 20, 30, 40, 50)\n",
        "vars(f)"
      ],
      "execution_count": 117,
      "outputs": [
        {
          "output_type": "execute_result",
          "data": {
            "text/plain": [
              "{'args': (20, 30, 40, 50), 'x': 10}"
            ]
          },
          "metadata": {
            "tags": []
          },
          "execution_count": 117
        }
      ]
    },
    {
      "cell_type": "markdown",
      "metadata": {
        "id": "TN_OiWLHKkWv",
        "colab_type": "text"
      },
      "source": [
        "## More examples of objects "
      ]
    },
    {
      "cell_type": "markdown",
      "metadata": {
        "id": "zxN-2tivKsGu",
        "colab_type": "text"
      },
      "source": [
        "* The whole point of data structures is to store data efficiently for the computer and easy for humans to understand."
      ]
    },
    {
      "cell_type": "code",
      "metadata": {
        "id": "7U7VsX6_Kjyb",
        "colab_type": "code",
        "colab": {}
      },
      "source": [
        "computers = [{'brand': 'Apple', 'year':2014},\n",
        "             {'brand': 'HP', 'year':2016},\n",
        "             {'brand': 'Lenovo', 'year':2016},\n",
        "             {'brand': 'Apple', 'year':2010}]"
      ],
      "execution_count": 118,
      "outputs": []
    },
    {
      "cell_type": "code",
      "metadata": {
        "id": "17qSD5X9Lqza",
        "colab_type": "code",
        "colab": {
          "base_uri": "https://localhost:8080/",
          "height": 89
        },
        "outputId": "e9b17451-7654-4cbf-948a-8df0e4c6c433"
      },
      "source": [
        "for one_computer in computers:\n",
        "    print(f\"{one_computer['brand']}, from {one_computer['year']}\")"
      ],
      "execution_count": 119,
      "outputs": [
        {
          "output_type": "stream",
          "text": [
            "Apple, from 2014\n",
            "HP, from 2016\n",
            "Lenovo, from 2016\n",
            "Apple, from 2010\n"
          ],
          "name": "stdout"
        }
      ]
    },
    {
      "cell_type": "code",
      "metadata": {
        "id": "ug8qW8HjMgpG",
        "colab_type": "code",
        "colab": {
          "base_uri": "https://localhost:8080/",
          "height": 53
        },
        "outputId": "d2667f4a-9dea-4855-8bfe-736d87aebbd1"
      },
      "source": [
        "for one_computer in computers:\n",
        "    if one_computer['year'] == 2016:  \n",
        "      print(f\"{one_computer['brand']}, from {one_computer['year']}\")"
      ],
      "execution_count": 120,
      "outputs": [
        {
          "output_type": "stream",
          "text": [
            "HP, from 2016\n",
            "Lenovo, from 2016\n"
          ],
          "name": "stdout"
        }
      ]
    },
    {
      "cell_type": "markdown",
      "metadata": {
        "id": "YawBGHyKM2gH",
        "colab_type": "text"
      },
      "source": [
        "* The problem with this approach is that it is low level.\n",
        "* Semantically things are nicer. So is the interface. "
      ]
    },
    {
      "cell_type": "code",
      "metadata": {
        "id": "_nwXpxQkM8X_",
        "colab_type": "code",
        "colab": {}
      },
      "source": [
        " class Computer(object):\n",
        "    def __init__(self, brand, year):\n",
        "        self.brand = brand\n",
        "        self.year = year\n",
        "\n",
        "c1 = Computer('Apple', 2014)\n",
        "c2 = Computer('HP', 2016)\n",
        "c3 = Computer('Lenovo', 2016)\n",
        "c4 = Computer('Apple', 2010)"
      ],
      "execution_count": 121,
      "outputs": []
    },
    {
      "cell_type": "code",
      "metadata": {
        "id": "kflp3nu-O2Ev",
        "colab_type": "code",
        "colab": {
          "base_uri": "https://localhost:8080/",
          "height": 89
        },
        "outputId": "de976683-16bb-490c-c505-25343e6901b0"
      },
      "source": [
        "my_computers = [c1, c2, c3, c4]\n",
        "\n",
        "for one_computer in my_computers:\n",
        "    print(f\"{one_computer.brand}, from {one_computer.year}\")"
      ],
      "execution_count": 122,
      "outputs": [
        {
          "output_type": "stream",
          "text": [
            "Apple, from 2014\n",
            "HP, from 2016\n",
            "Lenovo, from 2016\n",
            "Apple, from 2010\n"
          ],
          "name": "stdout"
        }
      ]
    },
    {
      "cell_type": "code",
      "metadata": {
        "id": "iINb59HXPnRH",
        "colab_type": "code",
        "colab": {
          "base_uri": "https://localhost:8080/",
          "height": 53
        },
        "outputId": "07abf751-3ca5-4c84-c069-c3aa09a48e9a"
      },
      "source": [
        "class Book(object):\n",
        "    def __init__(self, title, author, price):\n",
        "        self.title = title\n",
        "        self.author = author\n",
        "        self.price = price\n",
        "\n",
        "all_books = []\n",
        "while True:\n",
        "  title = input(\"Enter title (or <enter> to stop): \").strip()\n",
        "  if not title:\n",
        "      break\n",
        "  author = input(\"Enter author: \").strip()\n",
        "  price = float(input(\"Enter price: \"))\n",
        "\n",
        "  all_books.append(Book(title, author, price))\n",
        "\n",
        "print(all_books)"
      ],
      "execution_count": 123,
      "outputs": [
        {
          "output_type": "stream",
          "text": [
            "Enter title (or <enter> to stop): \n",
            "[]\n"
          ],
          "name": "stdout"
        }
      ]
    },
    {
      "cell_type": "markdown",
      "metadata": {
        "id": "rWmrbbVaTrVU",
        "colab_type": "text"
      },
      "source": [
        "## Class Exercises"
      ]
    },
    {
      "cell_type": "markdown",
      "metadata": {
        "id": "piaANT6kUcq1",
        "colab_type": "text"
      },
      "source": [
        "**Exercise one:** \n",
        "\n",
        "Scoop class -- each instance is one scoop of ice cream\n",
        "\n",
        "s1 = Scoop('chocolate')\n",
        "s2 = Scoop('vanilla')\n",
        "s3 = Scoop('coffee')\n",
        "\n",
        "print(s1.flavor)  # chocolate\n",
        "\n",
        "for one_scoop in [s1, s2, s3]:\n",
        "    print(one_scoop.flavor)  # chocolate, vanilla, coffee"
      ]
    },
    {
      "cell_type": "code",
      "metadata": {
        "id": "TfVFyYZ3Ut15",
        "colab_type": "code",
        "colab": {
          "base_uri": "https://localhost:8080/",
          "height": 89
        },
        "outputId": "b6e9fc4c-b47b-4bfe-debc-22b21b4f82b2"
      },
      "source": [
        "class Scoop(object):\n",
        "    def __init__(self, flavor):\n",
        "        self.flavor = flavor\n",
        "\n",
        "s1 = Scoop('chocolate')\n",
        "s2 = Scoop('vanilla')\n",
        "s3 = Scoop('coffee')\n",
        "\n",
        "print(s1.flavor)\n",
        "\n",
        "for one_scoop in [s1, s2, s3]:\n",
        "    print(one_scoop.flavor)"
      ],
      "execution_count": 124,
      "outputs": [
        {
          "output_type": "stream",
          "text": [
            "chocolate\n",
            "chocolate\n",
            "vanilla\n",
            "coffee\n"
          ],
          "name": "stdout"
        }
      ]
    },
    {
      "cell_type": "markdown",
      "metadata": {
        "id": "u67FHkLTV4Lt",
        "colab_type": "text"
      },
      "source": [
        "**Exercise two:**\n",
        "\n",
        "Person class -- name, e-mail address, and phone number\n",
        "\n",
        "    Create several people, and iterate over them in a list\n",
        "    and print their names (similar to a phone book)\n",
        "\n",
        "    Change the e-mail address of one person, and show\n",
        "    that it has changed by printing your list a second time\n"
      ]
    },
    {
      "cell_type": "code",
      "metadata": {
        "id": "zHwTJ0xrWlyh",
        "colab_type": "code",
        "colab": {
          "base_uri": "https://localhost:8080/",
          "height": 125
        },
        "outputId": "c18bdba4-0aea-40c2-d2e4-1b493ca5b312"
      },
      "source": [
        "class Person(object):\n",
        "    def __init__(self, name, email, phonenumber):\n",
        "        self.name = name\n",
        "        self.email = email\n",
        "        self.phonenumber = phonenumber\n",
        "\n",
        "p1 = Person(\"Jane Doe\", 'jdoe@gmail.com', '123-456-7891')\n",
        "p2 = Person(\"Al Bundy\", 'abundy@gmail.com', '321-654-9187')\n",
        "p3 = Person('Mike Trout', 'mtrout@gmail.com', '213-546-8791')\n",
        "\n",
        "\n",
        "all_people = [p1, p2, p3]\n",
        "\n",
        "for one_person in all_people:\n",
        "    print(f\"{one_person.name}, email {one_person.email}, phone {one_person.phonenumber}\")\n",
        "\n",
        "p2.email = 'bundya@gmail.com'\n",
        "\n",
        "for one_person in all_people:\n",
        "    print(f\"{one_person.name}, email {one_person.email}, phone {one_person.phonenumber}\")"
      ],
      "execution_count": 125,
      "outputs": [
        {
          "output_type": "stream",
          "text": [
            "Jane Doe, email jdoe@gmail.com, phone 123-456-7891\n",
            "Al Bundy, email abundy@gmail.com, phone 321-654-9187\n",
            "Mike Trout, email mtrout@gmail.com, phone 213-546-8791\n",
            "Jane Doe, email jdoe@gmail.com, phone 123-456-7891\n",
            "Al Bundy, email bundya@gmail.com, phone 321-654-9187\n",
            "Mike Trout, email mtrout@gmail.com, phone 213-546-8791\n"
          ],
          "name": "stdout"
        }
      ]
    },
    {
      "cell_type": "markdown",
      "metadata": {
        "id": "t2GM68tEavvS",
        "colab_type": "text"
      },
      "source": [
        "**Exercise 3:**\n",
        "\n",
        " Create a BankAccount class. It'll have a single\n",
        "    attribute (per instance), transactions -- a list of floats\n",
        "\n",
        "    Every time you deposit, append a positive float\n",
        "    Every time you withdraw, append a negative float\n",
        "\n",
        "    (a) create two different accounts\n",
        "    (b) add a number of transactions +/- to each account\n",
        "    (c) show, for each account, the number of transactions\n",
        "    and the average amount per transaction, as well as\n",
        "    the current balance.  (assume it starts at 0)\n"
      ]
    },
    {
      "cell_type": "code",
      "metadata": {
        "id": "DZ7bOBzsnFOA",
        "colab_type": "code",
        "colab": {}
      },
      "source": [
        "class BankAccount(object):\n",
        "    def __init__(self):\n",
        "        self.transactions = []\n",
        "\n",
        "checking = BankAccount()\n",
        "savings = BankAccount()\n",
        "\n",
        "\n",
        "\n",
        "\n"
      ],
      "execution_count": 126,
      "outputs": []
    },
    {
      "cell_type": "code",
      "metadata": {
        "id": "oFcLDRHdvFIl",
        "colab_type": "code",
        "colab": {}
      },
      "source": [
        "checking.transactions.append(100)"
      ],
      "execution_count": 127,
      "outputs": []
    },
    {
      "cell_type": "code",
      "metadata": {
        "id": "FizVlak0vSmq",
        "colab_type": "code",
        "colab": {}
      },
      "source": [
        "checking.transactions.append(-50)"
      ],
      "execution_count": 128,
      "outputs": []
    },
    {
      "cell_type": "code",
      "metadata": {
        "id": "IZ7ykL12vcxd",
        "colab_type": "code",
        "colab": {}
      },
      "source": [
        "checking.transactions.append(500)"
      ],
      "execution_count": 129,
      "outputs": []
    },
    {
      "cell_type": "code",
      "metadata": {
        "id": "fGARgWqDvYSD",
        "colab_type": "code",
        "colab": {}
      },
      "source": [
        "checking.transactions.append(-250)"
      ],
      "execution_count": 130,
      "outputs": []
    },
    {
      "cell_type": "code",
      "metadata": {
        "id": "oUOk_aHBvbsm",
        "colab_type": "code",
        "colab": {
          "base_uri": "https://localhost:8080/",
          "height": 35
        },
        "outputId": "c6b84b8c-675f-4606-b151-28f012cce2db"
      },
      "source": [
        "sum(checking.transactions)\n"
      ],
      "execution_count": 131,
      "outputs": [
        {
          "output_type": "execute_result",
          "data": {
            "text/plain": [
              "300"
            ]
          },
          "metadata": {
            "tags": []
          },
          "execution_count": 131
        }
      ]
    },
    {
      "cell_type": "code",
      "metadata": {
        "id": "E_YDdUCFwrD7",
        "colab_type": "code",
        "colab": {
          "base_uri": "https://localhost:8080/",
          "height": 35
        },
        "outputId": "7fea4efb-1976-4dd7-e44d-e4e8a955a14a"
      },
      "source": [
        " len(checking.transactions)"
      ],
      "execution_count": 132,
      "outputs": [
        {
          "output_type": "execute_result",
          "data": {
            "text/plain": [
              "4"
            ]
          },
          "metadata": {
            "tags": []
          },
          "execution_count": 132
        }
      ]
    },
    {
      "cell_type": "code",
      "metadata": {
        "id": "LnsBGKd3xUAV",
        "colab_type": "code",
        "colab": {
          "base_uri": "https://localhost:8080/",
          "height": 35
        },
        "outputId": "1e5e75f1-eb52-4553-9e1f-24856b3b0cb7"
      },
      "source": [
        "sum(checking.transactions) / len(checking.transactions)"
      ],
      "execution_count": 133,
      "outputs": [
        {
          "output_type": "execute_result",
          "data": {
            "text/plain": [
              "75.0"
            ]
          },
          "metadata": {
            "tags": []
          },
          "execution_count": 133
        }
      ]
    },
    {
      "cell_type": "code",
      "metadata": {
        "id": "f5TnaG_bxmTF",
        "colab_type": "code",
        "colab": {
          "base_uri": "https://localhost:8080/",
          "height": 35
        },
        "outputId": "a0b4ce01-ff19-42fb-a22b-be21a67b1437"
      },
      "source": [
        "sum(savings.transactions)"
      ],
      "execution_count": 134,
      "outputs": [
        {
          "output_type": "execute_result",
          "data": {
            "text/plain": [
              "0"
            ]
          },
          "metadata": {
            "tags": []
          },
          "execution_count": 134
        }
      ]
    },
    {
      "cell_type": "code",
      "metadata": {
        "id": "xTn-LUcirAbA",
        "colab_type": "code",
        "colab": {}
      },
      "source": [
        "savings.transactions.append(1000)"
      ],
      "execution_count": 135,
      "outputs": []
    },
    {
      "cell_type": "code",
      "metadata": {
        "id": "heN_IWjtrF1a",
        "colab_type": "code",
        "colab": {}
      },
      "source": [
        "savings.transactions.append(2000)"
      ],
      "execution_count": 136,
      "outputs": []
    },
    {
      "cell_type": "code",
      "metadata": {
        "id": "Zs_6iHpHrlE2",
        "colab_type": "code",
        "colab": {}
      },
      "source": [
        "savings.transactions.append(-100)"
      ],
      "execution_count": 137,
      "outputs": []
    },
    {
      "cell_type": "code",
      "metadata": {
        "id": "44NCVVSJrpct",
        "colab_type": "code",
        "colab": {
          "base_uri": "https://localhost:8080/",
          "height": 35
        },
        "outputId": "2c637ccc-7fba-4141-d711-d105831d22b4"
      },
      "source": [
        "sum(savings.transactions)"
      ],
      "execution_count": 138,
      "outputs": [
        {
          "output_type": "execute_result",
          "data": {
            "text/plain": [
              "2900"
            ]
          },
          "metadata": {
            "tags": []
          },
          "execution_count": 138
        }
      ]
    },
    {
      "cell_type": "code",
      "metadata": {
        "id": "DPNdsQHIruKh",
        "colab_type": "code",
        "colab": {
          "base_uri": "https://localhost:8080/",
          "height": 35
        },
        "outputId": "ee43f2f8-29dd-462c-d0ef-a0fb263bd6e1"
      },
      "source": [
        "sum(savings.transactions) / len(savings.transactions)"
      ],
      "execution_count": 139,
      "outputs": [
        {
          "output_type": "execute_result",
          "data": {
            "text/plain": [
              "966.6666666666666"
            ]
          },
          "metadata": {
            "tags": []
          },
          "execution_count": 139
        }
      ]
    },
    {
      "cell_type": "markdown",
      "metadata": {
        "id": "uXq9dbZgsfLt",
        "colab_type": "text"
      },
      "source": [
        "## Three Methods"
      ]
    },
    {
      "cell_type": "markdown",
      "metadata": {
        "id": "q9Zjf8bDtSUJ",
        "colab_type": "text"
      },
      "source": [
        "* Behind the scenese Python invokes the x2 method on our object f of type Foo.\n",
        "* Calling a method is the preferable as it's analogous to sending a message to our object.\n",
        "* The attribute x is defined on our object self.\n",
        "* This simplifies the scoping rules within Python.\n",
        "* Getter and setter methods are not considered Pythonic."
      ]
    },
    {
      "cell_type": "code",
      "metadata": {
        "id": "06jOZxf3snCw",
        "colab_type": "code",
        "colab": {}
      },
      "source": [
        "class Foo(object):\n",
        "    def __init__(self, x):\n",
        "        self.x = x\n",
        "\n",
        "    def x2(self):\n",
        "        return self.x * 2"
      ],
      "execution_count": null,
      "outputs": []
    },
    {
      "cell_type": "code",
      "metadata": {
        "id": "PTTskPhvtAUy",
        "colab_type": "code",
        "colab": {}
      },
      "source": [
        "f = Foo(10)"
      ],
      "execution_count": null,
      "outputs": []
    },
    {
      "cell_type": "code",
      "metadata": {
        "id": "a8Qt6JpgtDSd",
        "colab_type": "code",
        "colab": {}
      },
      "source": [
        "vars(f)"
      ],
      "execution_count": null,
      "outputs": []
    },
    {
      "cell_type": "code",
      "metadata": {
        "id": "Or2T7v3gtIrs",
        "colab_type": "code",
        "colab": {}
      },
      "source": [
        "f.x2() # invokes the method x2 on f object"
      ],
      "execution_count": null,
      "outputs": []
    },
    {
      "cell_type": "code",
      "metadata": {
        "id": "KyZjn8WeuMY5",
        "colab_type": "code",
        "colab": {}
      },
      "source": [
        "Foo.x2(f) # the above line, f.x2(), is secretly rewritten to look like this!"
      ],
      "execution_count": null,
      "outputs": []
    },
    {
      "cell_type": "code",
      "metadata": {
        "id": "i3TYLSIBu6Y-",
        "colab_type": "code",
        "colab": {}
      },
      "source": [
        "class Foo(object):\n",
        "    def __init__(self, x):\n",
        "        self.x = x\n",
        "\n",
        "    def x2(self):\n",
        "        return x * 2"
      ],
      "execution_count": null,
      "outputs": []
    },
    {
      "cell_type": "code",
      "metadata": {
        "id": "PyDvmqkau_n2",
        "colab_type": "code",
        "colab": {}
      },
      "source": [
        "f = Foo(10)\n",
        "f.x2()"
      ],
      "execution_count": null,
      "outputs": []
    },
    {
      "cell_type": "code",
      "metadata": {
        "id": "HDwcjLcHv31C",
        "colab_type": "code",
        "colab": {}
      },
      "source": [
        "class Foo(object):\n",
        "    def __init__(self, x):\n",
        "        self.x = x\n",
        "\n",
        "    def get_x(self):\n",
        "        return self.x\n",
        "\n",
        "    def set_x(self, new_x):\n",
        "        self.x = new_x\n",
        "\n",
        "f = Foo(10)\n",
        "print(f.get_x())\n",
        "f.set_x(20)\n",
        "print(f.get_x())"
      ],
      "execution_count": null,
      "outputs": []
    },
    {
      "cell_type": "code",
      "metadata": {
        "id": "ra2oT_Eow2yA",
        "colab_type": "code",
        "colab": {}
      },
      "source": [
        "class Foo(object):\n",
        "    def __init__(self, x):\n",
        "        self.x = x\n",
        "\n",
        "#    def get_x(self):   # getter or accesor\n",
        "#        return self.x\n",
        "\n",
        "#    def set_x(self, new_x): # setter or mutator\n",
        "#        self.x = new_x\n",
        "\n",
        "f = Foo(10)\n",
        "print(f.x)\n",
        "f.x = 20 \n",
        "print(f.x)"
      ],
      "execution_count": null,
      "outputs": []
    },
    {
      "cell_type": "markdown",
      "metadata": {
        "id": "ZTq-SuHWyWvh",
        "colab_type": "text"
      },
      "source": [
        "## Method examples"
      ]
    },
    {
      "cell_type": "markdown",
      "metadata": {
        "id": "3dOwhj9RzLqR",
        "colab_type": "text"
      },
      "source": [
        "* Methods can contain defualt argument values just like any other functions.\n",
        "* splat args give a tuple of all the arguments the method call that were passed that nobody took.\n",
        "* Can have composition of objects.\n",
        "* Differences between methods and other functions\n",
        "  * Methods only work on certian types of objects\n",
        "  * Self is always our first argument with methods"
      ]
    },
    {
      "cell_type": "code",
      "metadata": {
        "id": "DYRGUIkuyaO9",
        "colab_type": "code",
        "colab": {}
      },
      "source": [
        "class Book(object):\n",
        "    def __init__(self, title, author, price=30):\n",
        "        self.title = title\n",
        "        self.author = author\n",
        "        self.price = price\n",
        "\n",
        "    def nice_author_name(self):\n",
        "        return ', '.join(reversed(self.author.split()))\n",
        "\n",
        "    def price_with_tax(self):\n",
        "        return self.price * 1.15\n",
        "\n",
        "b1 = Book('Title1', \"John Smith\")\n",
        "b2 = Book('Title2', 'David Cohen')\n",
        "b3 = Book('Title3', 'David Cohen', 25)"
      ],
      "execution_count": null,
      "outputs": []
    },
    {
      "cell_type": "code",
      "metadata": {
        "id": "KbZ7bO2QzBKO",
        "colab_type": "code",
        "colab": {}
      },
      "source": [
        "b1.price"
      ],
      "execution_count": null,
      "outputs": []
    },
    {
      "cell_type": "code",
      "metadata": {
        "id": "oGJBfs5azgEp",
        "colab_type": "code",
        "colab": {}
      },
      "source": [
        "b2.price"
      ],
      "execution_count": null,
      "outputs": []
    },
    {
      "cell_type": "code",
      "metadata": {
        "id": "fQpq1NcazhvN",
        "colab_type": "code",
        "colab": {}
      },
      "source": [
        "b2.price"
      ],
      "execution_count": null,
      "outputs": []
    },
    {
      "cell_type": "code",
      "metadata": {
        "id": "Z4a_cl-Pz4Uq",
        "colab_type": "code",
        "colab": {}
      },
      "source": [
        "b1.author"
      ],
      "execution_count": null,
      "outputs": []
    },
    {
      "cell_type": "code",
      "metadata": {
        "id": "QT4KfYHSz8u5",
        "colab_type": "code",
        "colab": {}
      },
      "source": [
        "b2.author"
      ],
      "execution_count": null,
      "outputs": []
    },
    {
      "cell_type": "code",
      "metadata": {
        "id": "IVnWRZTW0AyH",
        "colab_type": "code",
        "colab": {}
      },
      "source": [
        "b3.author"
      ],
      "execution_count": null,
      "outputs": []
    },
    {
      "cell_type": "code",
      "metadata": {
        "id": "i5M6LXN_0YOO",
        "colab_type": "code",
        "colab": {}
      },
      "source": [
        "b1.nice_author_name()"
      ],
      "execution_count": null,
      "outputs": []
    },
    {
      "cell_type": "code",
      "metadata": {
        "id": "SxxkoVHL059z",
        "colab_type": "code",
        "colab": {}
      },
      "source": [
        "b2.nice_author_name()"
      ],
      "execution_count": null,
      "outputs": []
    },
    {
      "cell_type": "code",
      "metadata": {
        "id": "DhYIY7rq2Ayt",
        "colab_type": "code",
        "colab": {}
      },
      "source": [
        "b1.price_with_tax()"
      ],
      "execution_count": null,
      "outputs": []
    },
    {
      "cell_type": "code",
      "metadata": {
        "id": "7MLPNleg2H-9",
        "colab_type": "code",
        "colab": {}
      },
      "source": [
        "b2.price_with_tax()"
      ],
      "execution_count": null,
      "outputs": []
    },
    {
      "cell_type": "code",
      "metadata": {
        "id": "eEkbPw6G2NQy",
        "colab_type": "code",
        "colab": {}
      },
      "source": [
        "b3.price_with_tax()"
      ],
      "execution_count": null,
      "outputs": []
    },
    {
      "cell_type": "code",
      "metadata": {
        "id": "qZn2e4T-2ZTr",
        "colab_type": "code",
        "colab": {}
      },
      "source": [
        "# has-a relationship -- composition\n",
        "# Bookshelf has-a book\n",
        "\n",
        "class Bookshelf(object):\n",
        "    def __init__(self):\n",
        "        self.books = [ ]\n",
        "    \n",
        "    def add_books(self, *args):\n",
        "        self.books += args\n",
        "\n",
        "    def total_price(self):\n",
        "        return sum([one_book.price\n",
        "                for one_book in shelf.books])\n",
        "\n",
        "shelf = Bookshelf()\n",
        "shelf.add_books(b1, b2)\n",
        "shelf.add_books(b3)"
      ],
      "execution_count": null,
      "outputs": []
    },
    {
      "cell_type": "code",
      "metadata": {
        "id": "UsmygUC73hYk",
        "colab_type": "code",
        "colab": {}
      },
      "source": [
        "shelf.books"
      ],
      "execution_count": null,
      "outputs": []
    },
    {
      "cell_type": "code",
      "metadata": {
        "id": "yo4HWQQd3l9U",
        "colab_type": "code",
        "colab": {}
      },
      "source": [
        "shelf.books[0].title"
      ],
      "execution_count": null,
      "outputs": []
    },
    {
      "cell_type": "code",
      "metadata": {
        "id": "Nebrjfvu3tzE",
        "colab_type": "code",
        "colab": {}
      },
      "source": [
        "shelf.total_price()"
      ],
      "execution_count": null,
      "outputs": []
    },
    {
      "cell_type": "markdown",
      "metadata": {
        "id": "RB6wqEhrGpnZ",
        "colab_type": "text"
      },
      "source": [
        "## Methods Exercises"
      ]
    },
    {
      "cell_type": "markdown",
      "metadata": {
        "id": "lzNkqFMKGvM8",
        "colab_type": "text"
      },
      "source": [
        "Exercise 1:\n",
        "\n",
        "(1) Create a Bowl class.  We can put scoops in the bowl!\n",
        "\n",
        "    b = Bowl()\n",
        "    b.add_scoops(s1, s2)\n",
        "    b.add_scoops(s3)\n",
        "    b.flavors()  # returns a string of \"chocolate, vanilla, coffee\""
      ]
    },
    {
      "cell_type": "code",
      "metadata": {
        "id": "fO2R9RUHG6n4",
        "colab_type": "code",
        "colab": {}
      },
      "source": [
        "class Bowl(object):\n",
        "  def __init__(self):\n",
        "      self.scoops = [ ]\n",
        "      \n",
        "  def add_scoops(self, *args):\n",
        "      self.scoops += args\n",
        "\n",
        "  def flavors(self):\n",
        "    return ', '.join([a_scoop.flavor\n",
        "                      for a_scoop in self.scoops])\n",
        "  # ', '.join()\n",
        "\n",
        "b = Bowl()\n",
        "b.add_scoops(s1, s2)\n",
        "b.add_scoops(s3)\n",
        "b.flavors()\n",
        "\n",
        "# come back and rework method expects string needs to join items from our list\n",
        "# use scoops attribute\n",
        "# for a_scoop in [s1, s2, s3]:\n",
        "#  ', '.join(a_scoop.flavor)"
      ],
      "execution_count": null,
      "outputs": []
    },
    {
      "cell_type": "markdown",
      "metadata": {
        "id": "8563htkeVsmF",
        "colab_type": "text"
      },
      "source": [
        "Exercise 2: \n",
        "(2) Use our existing Person and BankAccount classes.  Make it possible\n",
        "    for a person to have one or more bank accounts.  So we can say:\n",
        "\n",
        "    p1.add_account(ba1)\n",
        "    p1.add_account(ba2)\n",
        "\n",
        "    p1.all_balances()           # returns a list of floats representing balances\n",
        "    p1.current_total_balance()  # gives the total balance across all accounts\n",
        "    \n",
        "    p1.average_transaction_amount()  # returns the average amount of transactions across all accounts\n"
      ]
    },
    {
      "cell_type": "code",
      "metadata": {
        "colab_type": "code",
        "id": "JlL7_h3xWNCS",
        "colab": {}
      },
      "source": [
        "class Person(object):\n",
        "    def __init__(self, name, email, phonenumber):\n",
        "        self.name = name\n",
        "        self.email = email\n",
        "        self.phonenumber = phonenumber\n",
        "        self.accounts = [ ]\n",
        "\n",
        "    def add_account(self, *args):\n",
        "        self.accounts += args\n",
        "\n",
        "    def all_balances(self):\n",
        "        return self.accounts.transactions\n",
        "    def current_total_balances(self):\n",
        "        pass\n",
        "\n",
        "    def average_transaction_amount(self):\n",
        "        pass  \n",
        "\n",
        "p1 = Person(\"Jane Doe\", 'jdoe@gmail.com', '123-456-7891')\n",
        "p2 = Person(\"Al Bundy\", 'abundy@gmail.com', '321-654-9187')\n",
        "p3 = Person('Mike Trout', 'mtrout@gmail.com', '213-546-8791')\n",
        "\n",
        "\n",
        "all_people = [p1, p2, p3]\n",
        "\n",
        "for one_person in all_people:\n",
        "    print(f\"{one_person.name}, email {one_person.email}, phone {one_person.phonenumber}\")\n",
        "\n",
        "p2.email = 'bundya@gmail.com'\n",
        "\n",
        "for one_person in all_people:\n",
        "    print(f\"{one_person.name}, email {one_person.email}, phone {one_person.phonenumber}\")\n",
        "\n",
        "class BankAccount(object):\n",
        "    def __init__(self):\n",
        "        self.transactions = []\n",
        "\n",
        "checking = BankAccount()\n",
        "savings = BankAccount()\n",
        "\n",
        "p1.add_account(checking)\n",
        "p1.add_account(savings)\n",
        "\n",
        "p1.all_balances()"
      ],
      "execution_count": null,
      "outputs": []
    },
    {
      "cell_type": "markdown",
      "metadata": {
        "id": "RocPU96FhFcR",
        "colab_type": "text"
      },
      "source": [
        "(3) Create a ShoppingCart class.\n",
        "\n",
        "    sc = ShoppingCart()\n",
        "    sc.add('book', 30, 1)    # name, price-per-unit, quantity\n",
        "    sc.add('toothbrush', 3, 4)\n",
        "\n",
        "    sc.remove('toothbrush')   # removes one toothbrush -- or removes\n",
        "                              # the item altogether if the quantity is 0\n",
        "    \n",
        "    sc.total()  # returns the total price of items in the shopping cart"
      ]
    },
    {
      "cell_type": "code",
      "metadata": {
        "id": "jMk9Li_O5J_S",
        "colab_type": "code",
        "colab": {}
      },
      "source": [
        "class Shoppingcart(object):\n",
        "    def __init__(self):\n",
        "       self.items = []\n",
        "\n",
        "    def add(self, *args):\n",
        "      self.items += args\n",
        "        \n",
        "    \n",
        "    def remove(self):\n",
        "        pass\n",
        "        ## if items.count() == 0:\n",
        "        ## remove item method\n",
        "\n",
        "    \n",
        "    def total(self):\n",
        "        pass"
      ],
      "execution_count": null,
      "outputs": []
    }
  ]
}