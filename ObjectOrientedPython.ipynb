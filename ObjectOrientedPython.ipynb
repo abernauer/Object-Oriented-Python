{
  "nbformat": 4,
  "nbformat_minor": 0,
  "metadata": {
    "colab": {
      "name": "ObjectOrientedPython.ipynb",
      "provenance": [],
      "collapsed_sections": [
        "BRVMlclX5zlj",
        "2oRx4yQ78Mid",
        "f1MTtmMG-1pw",
        "N6sRQDAfBWod",
        "M8fOKQEKGK6T",
        "TN_OiWLHKkWv"
      ],
      "authorship_tag": "ABX9TyNZyMX7ax0SnB6trK3bV7gD",
      "include_colab_link": true
    },
    "kernelspec": {
      "name": "python3",
      "display_name": "Python 3"
    }
  },
  "cells": [
    {
      "cell_type": "markdown",
      "metadata": {
        "id": "view-in-github",
        "colab_type": "text"
      },
      "source": [
        "<a href=\"https://colab.research.google.com/github/abernauer/Object-Oriented-Python/blob/master/ObjectOrientedPython.ipynb\" target=\"_parent\"><img src=\"https://colab.research.google.com/assets/colab-badge.svg\" alt=\"Open In Colab\"/></a>"
      ]
    },
    {
      "cell_type": "markdown",
      "metadata": {
        "id": "YJkFQmvZsNVS",
        "colab_type": "text"
      },
      "source": [
        "# What is object oriented progamming?"
      ]
    },
    {
      "cell_type": "markdown",
      "metadata": {
        "id": "vsOYq3IwsUyF",
        "colab_type": "text"
      },
      "source": [
        "Background info:\n",
        "* In the late 1970s software became difficult to mantain and read. \n",
        "* Alan Kay a researcher at Xerox part came up with the idea of modeling programs after physical objects or complex systems.\n",
        "* Analogy of the body havinn different cells each having their own functions, but are still able to work together.\n",
        "* Many different objects with different functions that talk together. \n",
        "* Kay came up with the small talk language which was the first object oriented language. \n",
        "* Structured system where the whole system is consistent. \n",
        "* The messages were methods and the types of objects were called classes. \n",
        "* Ruby is inspired by small talk and the contemporary version of the language. \n",
        "* Python's object system is also influenced by small talk. \n",
        "* The design of object oriented programming was to think differently. \n",
        "* Java claims to be a purely object oriented program which is not technically true. \n",
        "* In python everything except the keywords in the language are objects.\n",
        "* Allows us to create new objects that behave in a certain way.\n",
        "\n"
      ]
    },
    {
      "cell_type": "markdown",
      "metadata": {
        "id": "ngLzuI75vvVu",
        "colab_type": "text"
      },
      "source": [
        "## What are Python objects?"
      ]
    },
    {
      "cell_type": "code",
      "metadata": {
        "id": "swbymEd4vz4i",
        "colab_type": "code",
        "colab": {}
      },
      "source": [
        "# everything is an object means:\n",
        "# (1) everything has a type/class\n",
        "# (2) everything has attributes\n",
        "\n"
      ],
      "execution_count": null,
      "outputs": []
    },
    {
      "cell_type": "markdown",
      "metadata": {
        "id": "UgXXzDUrw4-c",
        "colab_type": "text"
      },
      "source": [
        "* Everything behaves in a similar fashion.\n",
        "* Branding, Starbucks, you have an expectation of the taste of their coffee.\n",
        "* Type an Class are mostly interchangably in speech in Python.\n",
        "* Type is a function and Class is a keyword."
      ]
    },
    {
      "cell_type": "code",
      "metadata": {
        "id": "JSs32nnAwND5",
        "colab_type": "code",
        "colab": {
          "base_uri": "https://localhost:8080/",
          "height": 35
        },
        "outputId": "fb2742bb-d976-4ba7-ed01-6f0daa5059bc"
      },
      "source": [
        "x = 100\n",
        "type(x)"
      ],
      "execution_count": null,
      "outputs": [
        {
          "output_type": "execute_result",
          "data": {
            "text/plain": [
              "int"
            ]
          },
          "metadata": {
            "tags": []
          },
          "execution_count": 133
        }
      ]
    },
    {
      "cell_type": "code",
      "metadata": {
        "id": "AqLy8l9KxsFk",
        "colab_type": "code",
        "colab": {
          "base_uri": "https://localhost:8080/",
          "height": 35
        },
        "outputId": "229704fc-cd9a-4827-a77c-7606bb9b26db"
      },
      "source": [
        "x = 'abcd'\n",
        "type(x)"
      ],
      "execution_count": null,
      "outputs": [
        {
          "output_type": "execute_result",
          "data": {
            "text/plain": [
              "str"
            ]
          },
          "metadata": {
            "tags": []
          },
          "execution_count": 134
        }
      ]
    },
    {
      "cell_type": "code",
      "metadata": {
        "id": "_6PNDwlkxw7D",
        "colab_type": "code",
        "colab": {
          "base_uri": "https://localhost:8080/",
          "height": 35
        },
        "outputId": "c38bf2bb-ff71-413e-fb23-b4caafb312ed"
      },
      "source": [
        "x = [10, 20, 30]\n",
        "type(x)"
      ],
      "execution_count": null,
      "outputs": [
        {
          "output_type": "execute_result",
          "data": {
            "text/plain": [
              "list"
            ]
          },
          "metadata": {
            "tags": []
          },
          "execution_count": 135
        }
      ]
    },
    {
      "cell_type": "markdown",
      "metadata": {
        "id": "4rkNSdefx8Y5",
        "colab_type": "text"
      },
      "source": [
        "* In each case we are saying x points to some certain kind of object of x and type.\n",
        "* In staticly typed languages your type is defined at the definition.\n",
        "* In Python when you get the class back it allows you to create new objects.\n",
        "* Constructor or function class creates an object of that type."
      ]
    },
    {
      "cell_type": "markdown",
      "metadata": {
        "id": "yRM0KTSfyxNA",
        "colab_type": "text"
      },
      "source": [
        "Revisit later for better notes."
      ]
    },
    {
      "cell_type": "code",
      "metadata": {
        "id": "T1_lGi1sx5eN",
        "colab_type": "code",
        "colab": {
          "base_uri": "https://localhost:8080/",
          "height": 35
        },
        "outputId": "e4ad5f9f-0dc6-4357-bab0-65a62b536090"
      },
      "source": [
        "int('123')"
      ],
      "execution_count": null,
      "outputs": [
        {
          "output_type": "execute_result",
          "data": {
            "text/plain": [
              "123"
            ]
          },
          "metadata": {
            "tags": []
          },
          "execution_count": 136
        }
      ]
    },
    {
      "cell_type": "code",
      "metadata": {
        "id": "C1EUPfoFy7fV",
        "colab_type": "code",
        "colab": {
          "base_uri": "https://localhost:8080/",
          "height": 35
        },
        "outputId": "dd6ff6ab-4872-4573-d9b2-6963e8e57751"
      },
      "source": [
        "str(123)"
      ],
      "execution_count": null,
      "outputs": [
        {
          "output_type": "execute_result",
          "data": {
            "application/vnd.google.colaboratory.intrinsic+json": {
              "type": "string"
            },
            "text/plain": [
              "'123'"
            ]
          },
          "metadata": {
            "tags": []
          },
          "execution_count": 137
        }
      ]
    },
    {
      "cell_type": "code",
      "metadata": {
        "id": "2_9zq1nkzNar",
        "colab_type": "code",
        "colab": {
          "base_uri": "https://localhost:8080/",
          "height": 35
        },
        "outputId": "6832550c-55fc-441a-d816-19e75228382d"
      },
      "source": [
        "list('abcd')"
      ],
      "execution_count": null,
      "outputs": [
        {
          "output_type": "execute_result",
          "data": {
            "text/plain": [
              "['a', 'b', 'c', 'd']"
            ]
          },
          "metadata": {
            "tags": []
          },
          "execution_count": 138
        }
      ]
    },
    {
      "cell_type": "markdown",
      "metadata": {
        "id": "lFFV6DHVzSHM",
        "colab_type": "text"
      },
      "source": [
        "* In many languages these classes are not objects themselves.\n",
        "* In Python this is not the case.\n",
        "* Classes are objects.\n"
      ]
    },
    {
      "cell_type": "code",
      "metadata": {
        "id": "aMLdunv0zsRo",
        "colab_type": "code",
        "colab": {
          "base_uri": "https://localhost:8080/",
          "height": 35
        },
        "outputId": "cdddfae4-0a43-4ea9-e77c-43cd09fed78c"
      },
      "source": [
        "type(int)"
      ],
      "execution_count": null,
      "outputs": [
        {
          "output_type": "execute_result",
          "data": {
            "text/plain": [
              "type"
            ]
          },
          "metadata": {
            "tags": []
          },
          "execution_count": 139
        }
      ]
    },
    {
      "cell_type": "code",
      "metadata": {
        "id": "ycILOBVizx3M",
        "colab_type": "code",
        "colab": {
          "base_uri": "https://localhost:8080/",
          "height": 35
        },
        "outputId": "53541e17-406a-4402-b017-8dcc94b14dfd"
      },
      "source": [
        "type(str)"
      ],
      "execution_count": null,
      "outputs": [
        {
          "output_type": "execute_result",
          "data": {
            "text/plain": [
              "type"
            ]
          },
          "metadata": {
            "tags": []
          },
          "execution_count": 140
        }
      ]
    },
    {
      "cell_type": "code",
      "metadata": {
        "id": "9yuCulgxz6vE",
        "colab_type": "code",
        "colab": {
          "base_uri": "https://localhost:8080/",
          "height": 35
        },
        "outputId": "85ed29ec-c662-4229-b94a-ee4b1074f163"
      },
      "source": [
        "type(list)"
      ],
      "execution_count": null,
      "outputs": [
        {
          "output_type": "execute_result",
          "data": {
            "text/plain": [
              "type"
            ]
          },
          "metadata": {
            "tags": []
          },
          "execution_count": 141
        }
      ]
    },
    {
      "cell_type": "markdown",
      "metadata": {
        "id": "GbqEoiBB1AF2",
        "colab_type": "text"
      },
      "source": [
        "* Types are themselves instances of object type.\n"
      ]
    },
    {
      "cell_type": "code",
      "metadata": {
        "id": "fZeqcvIP1J2O",
        "colab_type": "code",
        "colab": {}
      },
      "source": [
        "# factory's factory = type -- every class's type is \"type\""
      ],
      "execution_count": null,
      "outputs": []
    },
    {
      "cell_type": "code",
      "metadata": {
        "id": "9F_I8vpq1cg6",
        "colab_type": "code",
        "colab": {
          "base_uri": "https://localhost:8080/",
          "height": 35
        },
        "outputId": "72559378-d6e2-4998-c553-51cccbca2be4"
      },
      "source": [
        "type(type)"
      ],
      "execution_count": null,
      "outputs": [
        {
          "output_type": "execute_result",
          "data": {
            "text/plain": [
              "type"
            ]
          },
          "metadata": {
            "tags": []
          },
          "execution_count": 143
        }
      ]
    },
    {
      "cell_type": "markdown",
      "metadata": {
        "id": "Hk77AdYw1p6t",
        "colab_type": "text"
      },
      "source": [
        "* Attributes are essential to understanding objects in Python.\n",
        "* Attributes are objects.\n",
        "* Many objects in Python are shared in memory\n",
        "* The dir() function tells us what the attributes or methods of an object are.\n",
        "* dir() returns a list"
      ]
    },
    {
      "cell_type": "code",
      "metadata": {
        "id": "DjwQB3Mk1q2m",
        "colab_type": "code",
        "colab": {
          "base_uri": "https://localhost:8080/",
          "height": 1000
        },
        "outputId": "ba851451-8536-4db0-ad90-c86ff9ffb116"
      },
      "source": [
        "#a # identifier = name = variable or function.. an object of some sort\n",
        "  # search is LEGB Local, Enclosing, Global, Built-in\n",
        "# a.b # .b means: Look for the name (\"attribute\") b inside of the object a\n",
        "\n",
        "a = 'abcd'\n",
        "dir(a) # \"dunders\" -- double underscore"
      ],
      "execution_count": null,
      "outputs": [
        {
          "output_type": "execute_result",
          "data": {
            "text/plain": [
              "['__add__',\n",
              " '__class__',\n",
              " '__contains__',\n",
              " '__delattr__',\n",
              " '__dir__',\n",
              " '__doc__',\n",
              " '__eq__',\n",
              " '__format__',\n",
              " '__ge__',\n",
              " '__getattribute__',\n",
              " '__getitem__',\n",
              " '__getnewargs__',\n",
              " '__gt__',\n",
              " '__hash__',\n",
              " '__init__',\n",
              " '__init_subclass__',\n",
              " '__iter__',\n",
              " '__le__',\n",
              " '__len__',\n",
              " '__lt__',\n",
              " '__mod__',\n",
              " '__mul__',\n",
              " '__ne__',\n",
              " '__new__',\n",
              " '__reduce__',\n",
              " '__reduce_ex__',\n",
              " '__repr__',\n",
              " '__rmod__',\n",
              " '__rmul__',\n",
              " '__setattr__',\n",
              " '__sizeof__',\n",
              " '__str__',\n",
              " '__subclasshook__',\n",
              " 'capitalize',\n",
              " 'casefold',\n",
              " 'center',\n",
              " 'count',\n",
              " 'encode',\n",
              " 'endswith',\n",
              " 'expandtabs',\n",
              " 'find',\n",
              " 'format',\n",
              " 'format_map',\n",
              " 'index',\n",
              " 'isalnum',\n",
              " 'isalpha',\n",
              " 'isdecimal',\n",
              " 'isdigit',\n",
              " 'isidentifier',\n",
              " 'islower',\n",
              " 'isnumeric',\n",
              " 'isprintable',\n",
              " 'isspace',\n",
              " 'istitle',\n",
              " 'isupper',\n",
              " 'join',\n",
              " 'ljust',\n",
              " 'lower',\n",
              " 'lstrip',\n",
              " 'maketrans',\n",
              " 'partition',\n",
              " 'replace',\n",
              " 'rfind',\n",
              " 'rindex',\n",
              " 'rjust',\n",
              " 'rpartition',\n",
              " 'rsplit',\n",
              " 'rstrip',\n",
              " 'split',\n",
              " 'splitlines',\n",
              " 'startswith',\n",
              " 'strip',\n",
              " 'swapcase',\n",
              " 'title',\n",
              " 'translate',\n",
              " 'upper',\n",
              " 'zfill']"
            ]
          },
          "metadata": {
            "tags": []
          },
          "execution_count": 144
        }
      ]
    },
    {
      "cell_type": "markdown",
      "metadata": {
        "id": "IJifAJCm4HmE",
        "colab_type": "text"
      },
      "source": [
        "* a.upper() asking does a have the method upper and we invoke it with the closing parenthesis\n",
        "* . signals we're looking for an attribute."
      ]
    },
    {
      "cell_type": "code",
      "metadata": {
        "id": "OMp8ZG32343s",
        "colab_type": "code",
        "colab": {
          "base_uri": "https://localhost:8080/",
          "height": 35
        },
        "outputId": "ee992a52-87d7-45b0-8767-654434e04dbe"
      },
      "source": [
        "a.upper()"
      ],
      "execution_count": null,
      "outputs": [
        {
          "output_type": "execute_result",
          "data": {
            "application/vnd.google.colaboratory.intrinsic+json": {
              "type": "string"
            },
            "text/plain": [
              "'ABCD'"
            ]
          },
          "metadata": {
            "tags": []
          },
          "execution_count": 145
        }
      ]
    },
    {
      "cell_type": "code",
      "metadata": {
        "id": "N8mzEFZn4eOl",
        "colab_type": "code",
        "colab": {}
      },
      "source": [
        "import os"
      ],
      "execution_count": null,
      "outputs": []
    },
    {
      "cell_type": "code",
      "metadata": {
        "id": "j4Wup9z64xJo",
        "colab_type": "code",
        "colab": {
          "base_uri": "https://localhost:8080/",
          "height": 35
        },
        "outputId": "6404f391-9800-4262-abf3-f0c73283f982"
      },
      "source": [
        "os.sep"
      ],
      "execution_count": null,
      "outputs": [
        {
          "output_type": "execute_result",
          "data": {
            "application/vnd.google.colaboratory.intrinsic+json": {
              "type": "string"
            },
            "text/plain": [
              "'/'"
            ]
          },
          "metadata": {
            "tags": []
          },
          "execution_count": 147
        }
      ]
    },
    {
      "cell_type": "code",
      "metadata": {
        "id": "rSMkmcAQ42u6",
        "colab_type": "code",
        "colab": {}
      },
      "source": [
        "os.sep = 'hahaha'"
      ],
      "execution_count": null,
      "outputs": []
    },
    {
      "cell_type": "code",
      "metadata": {
        "id": "KIIRUFwy47Wy",
        "colab_type": "code",
        "colab": {
          "base_uri": "https://localhost:8080/",
          "height": 35
        },
        "outputId": "31a723ef-6a90-4b4f-f8fc-1bc11b55ea06"
      },
      "source": [
        "os.sep"
      ],
      "execution_count": null,
      "outputs": [
        {
          "output_type": "execute_result",
          "data": {
            "application/vnd.google.colaboratory.intrinsic+json": {
              "type": "string"
            },
            "text/plain": [
              "'hahaha'"
            ]
          },
          "metadata": {
            "tags": []
          },
          "execution_count": 149
        }
      ]
    },
    {
      "cell_type": "markdown",
      "metadata": {
        "id": "YMzsfa3B490V",
        "colab_type": "text"
      },
      "source": [
        "* You can set the value of an attribute in memory.\n",
        "* The exception is things written in C. "
      ]
    },
    {
      "cell_type": "code",
      "metadata": {
        "id": "yklp-sFP5Exd",
        "colab_type": "code",
        "colab": {}
      },
      "source": [
        "os.my_course_name = 'Python objects'"
      ],
      "execution_count": null,
      "outputs": []
    },
    {
      "cell_type": "code",
      "metadata": {
        "id": "HlZL031Y5O-v",
        "colab_type": "code",
        "colab": {
          "base_uri": "https://localhost:8080/",
          "height": 35
        },
        "outputId": "589212ed-0743-4c4e-b47c-3318157a2940"
      },
      "source": [
        "os.my_course_name"
      ],
      "execution_count": null,
      "outputs": [
        {
          "output_type": "execute_result",
          "data": {
            "application/vnd.google.colaboratory.intrinsic+json": {
              "type": "string"
            },
            "text/plain": [
              "'Python objects'"
            ]
          },
          "metadata": {
            "tags": []
          },
          "execution_count": 151
        }
      ]
    },
    {
      "cell_type": "code",
      "metadata": {
        "id": "Rnd8RYuO5XGg",
        "colab_type": "code",
        "colab": {}
      },
      "source": [
        ""
      ],
      "execution_count": null,
      "outputs": []
    },
    {
      "cell_type": "markdown",
      "metadata": {
        "id": "BRVMlclX5zlj",
        "colab_type": "text"
      },
      "source": [
        "### Methods vs. functions"
      ]
    },
    {
      "cell_type": "code",
      "metadata": {
        "id": "si16nOs654lm",
        "colab_type": "code",
        "colab": {
          "base_uri": "https://localhost:8080/",
          "height": 35
        },
        "outputId": "08969aa2-3b3d-41c1-dc1a-e5139be6c503"
      },
      "source": [
        "mylist = [10, 20, 30]\n",
        "sum(mylist)  # \"sum\" is a function, takes a list as an argument or iterable"
      ],
      "execution_count": null,
      "outputs": [
        {
          "output_type": "execute_result",
          "data": {
            "text/plain": [
              "60"
            ]
          },
          "metadata": {
            "tags": []
          },
          "execution_count": 152
        }
      ]
    },
    {
      "cell_type": "code",
      "metadata": {
        "id": "KjscYj_k6Q41",
        "colab_type": "code",
        "colab": {}
      },
      "source": [
        "# function syntax\n",
        "# f(x)"
      ],
      "execution_count": null,
      "outputs": []
    },
    {
      "cell_type": "markdown",
      "metadata": {
        "id": "TgVw55kf6Ymm",
        "colab_type": "text"
      },
      "source": [
        "* A function just exists as a variable or name. "
      ]
    },
    {
      "cell_type": "code",
      "metadata": {
        "id": "xoW7h78H6VgM",
        "colab_type": "code",
        "colab": {
          "base_uri": "https://localhost:8080/",
          "height": 172
        },
        "outputId": "6918914e-58a0-4ac5-a7f8-b34e63a5444b"
      },
      "source": [
        "mylist.sum() # this will not work!"
      ],
      "execution_count": null,
      "outputs": [
        {
          "output_type": "error",
          "ename": "AttributeError",
          "evalue": "ignored",
          "traceback": [
            "\u001b[0;31m---------------------------------------------------------------------------\u001b[0m",
            "\u001b[0;31mAttributeError\u001b[0m                            Traceback (most recent call last)",
            "\u001b[0;32m<ipython-input-154-14f7a001c4fd>\u001b[0m in \u001b[0;36m<module>\u001b[0;34m()\u001b[0m\n\u001b[0;32m----> 1\u001b[0;31m \u001b[0mmylist\u001b[0m\u001b[0;34m.\u001b[0m\u001b[0msum\u001b[0m\u001b[0;34m(\u001b[0m\u001b[0;34m)\u001b[0m \u001b[0;31m# this will not work!\u001b[0m\u001b[0;34m\u001b[0m\u001b[0;34m\u001b[0m\u001b[0m\n\u001b[0m",
            "\u001b[0;31mAttributeError\u001b[0m: 'list' object has no attribute 'sum'"
          ]
        }
      ]
    },
    {
      "cell_type": "code",
      "metadata": {
        "id": "5a0H6oV464Rx",
        "colab_type": "code",
        "colab": {
          "base_uri": "https://localhost:8080/",
          "height": 35
        },
        "outputId": "d618b6e6-e71c-414a-fd62-e62900f483e1"
      },
      "source": [
        "mylist.pop()"
      ],
      "execution_count": null,
      "outputs": [
        {
          "output_type": "execute_result",
          "data": {
            "text/plain": [
              "30"
            ]
          },
          "metadata": {
            "tags": []
          },
          "execution_count": 155
        }
      ]
    },
    {
      "cell_type": "code",
      "metadata": {
        "id": "AV8e85UD6-UL",
        "colab_type": "code",
        "colab": {
          "base_uri": "https://localhost:8080/",
          "height": 35
        },
        "outputId": "24bb372f-b9de-4036-9421-02ea65d1d643"
      },
      "source": [
        "mylist"
      ],
      "execution_count": null,
      "outputs": [
        {
          "output_type": "execute_result",
          "data": {
            "text/plain": [
              "[10, 20]"
            ]
          },
          "metadata": {
            "tags": []
          },
          "execution_count": 156
        }
      ]
    },
    {
      "cell_type": "code",
      "metadata": {
        "id": "ctdunBPH7BEp",
        "colab_type": "code",
        "colab": {}
      },
      "source": [
        "# syntax of a method\n",
        "# o.m(x)"
      ],
      "execution_count": null,
      "outputs": []
    },
    {
      "cell_type": "markdown",
      "metadata": {
        "id": "5gyByMog7Wwe",
        "colab_type": "text"
      },
      "source": [
        "* Almost everything is a method in Python.\n",
        "* A single function was implemented to work across different objects.\n",
        "* Always look for methods.\n",
        "* Help is a good way to look for methods."
      ]
    },
    {
      "cell_type": "code",
      "metadata": {
        "id": "jjRdGVLg7MK3",
        "colab_type": "code",
        "colab": {
          "base_uri": "https://localhost:8080/",
          "height": 35
        },
        "outputId": "1cb63ded-d246-4a71-d173-00d8ea52ca6c"
      },
      "source": [
        "len(mylist)"
      ],
      "execution_count": null,
      "outputs": [
        {
          "output_type": "execute_result",
          "data": {
            "text/plain": [
              "2"
            ]
          },
          "metadata": {
            "tags": []
          },
          "execution_count": 158
        }
      ]
    },
    {
      "cell_type": "code",
      "metadata": {
        "id": "q5I20JUf7nby",
        "colab_type": "code",
        "colab": {
          "base_uri": "https://localhost:8080/",
          "height": 845
        },
        "outputId": "cafebddb-7c45-479b-f6be-b3845640fd06"
      },
      "source": [
        "dir(mylist)"
      ],
      "execution_count": null,
      "outputs": [
        {
          "output_type": "execute_result",
          "data": {
            "text/plain": [
              "['__add__',\n",
              " '__class__',\n",
              " '__contains__',\n",
              " '__delattr__',\n",
              " '__delitem__',\n",
              " '__dir__',\n",
              " '__doc__',\n",
              " '__eq__',\n",
              " '__format__',\n",
              " '__ge__',\n",
              " '__getattribute__',\n",
              " '__getitem__',\n",
              " '__gt__',\n",
              " '__hash__',\n",
              " '__iadd__',\n",
              " '__imul__',\n",
              " '__init__',\n",
              " '__init_subclass__',\n",
              " '__iter__',\n",
              " '__le__',\n",
              " '__len__',\n",
              " '__lt__',\n",
              " '__mul__',\n",
              " '__ne__',\n",
              " '__new__',\n",
              " '__reduce__',\n",
              " '__reduce_ex__',\n",
              " '__repr__',\n",
              " '__reversed__',\n",
              " '__rmul__',\n",
              " '__setattr__',\n",
              " '__setitem__',\n",
              " '__sizeof__',\n",
              " '__str__',\n",
              " '__subclasshook__',\n",
              " 'append',\n",
              " 'clear',\n",
              " 'copy',\n",
              " 'count',\n",
              " 'extend',\n",
              " 'index',\n",
              " 'insert',\n",
              " 'pop',\n",
              " 'remove',\n",
              " 'reverse',\n",
              " 'sort']"
            ]
          },
          "metadata": {
            "tags": []
          },
          "execution_count": 159
        }
      ]
    },
    {
      "cell_type": "code",
      "metadata": {
        "id": "iLBWaD4P7rga",
        "colab_type": "code",
        "colab": {
          "base_uri": "https://localhost:8080/",
          "height": 1000
        },
        "outputId": "1596b090-372e-4de0-e8e8-6a43f3b09808"
      },
      "source": [
        "help(list)"
      ],
      "execution_count": null,
      "outputs": [
        {
          "output_type": "stream",
          "text": [
            "Help on class list in module builtins:\n",
            "\n",
            "class list(object)\n",
            " |  list() -> new empty list\n",
            " |  list(iterable) -> new list initialized from iterable's items\n",
            " |  \n",
            " |  Methods defined here:\n",
            " |  \n",
            " |  __add__(self, value, /)\n",
            " |      Return self+value.\n",
            " |  \n",
            " |  __contains__(self, key, /)\n",
            " |      Return key in self.\n",
            " |  \n",
            " |  __delitem__(self, key, /)\n",
            " |      Delete self[key].\n",
            " |  \n",
            " |  __eq__(self, value, /)\n",
            " |      Return self==value.\n",
            " |  \n",
            " |  __ge__(self, value, /)\n",
            " |      Return self>=value.\n",
            " |  \n",
            " |  __getattribute__(self, name, /)\n",
            " |      Return getattr(self, name).\n",
            " |  \n",
            " |  __getitem__(...)\n",
            " |      x.__getitem__(y) <==> x[y]\n",
            " |  \n",
            " |  __gt__(self, value, /)\n",
            " |      Return self>value.\n",
            " |  \n",
            " |  __iadd__(self, value, /)\n",
            " |      Implement self+=value.\n",
            " |  \n",
            " |  __imul__(self, value, /)\n",
            " |      Implement self*=value.\n",
            " |  \n",
            " |  __init__(self, /, *args, **kwargs)\n",
            " |      Initialize self.  See help(type(self)) for accurate signature.\n",
            " |  \n",
            " |  __iter__(self, /)\n",
            " |      Implement iter(self).\n",
            " |  \n",
            " |  __le__(self, value, /)\n",
            " |      Return self<=value.\n",
            " |  \n",
            " |  __len__(self, /)\n",
            " |      Return len(self).\n",
            " |  \n",
            " |  __lt__(self, value, /)\n",
            " |      Return self<value.\n",
            " |  \n",
            " |  __mul__(self, value, /)\n",
            " |      Return self*value.\n",
            " |  \n",
            " |  __ne__(self, value, /)\n",
            " |      Return self!=value.\n",
            " |  \n",
            " |  __new__(*args, **kwargs) from builtins.type\n",
            " |      Create and return a new object.  See help(type) for accurate signature.\n",
            " |  \n",
            " |  __repr__(self, /)\n",
            " |      Return repr(self).\n",
            " |  \n",
            " |  __reversed__(...)\n",
            " |      L.__reversed__() -- return a reverse iterator over the list\n",
            " |  \n",
            " |  __rmul__(self, value, /)\n",
            " |      Return value*self.\n",
            " |  \n",
            " |  __setitem__(self, key, value, /)\n",
            " |      Set self[key] to value.\n",
            " |  \n",
            " |  __sizeof__(...)\n",
            " |      L.__sizeof__() -- size of L in memory, in bytes\n",
            " |  \n",
            " |  append(...)\n",
            " |      L.append(object) -> None -- append object to end\n",
            " |  \n",
            " |  clear(...)\n",
            " |      L.clear() -> None -- remove all items from L\n",
            " |  \n",
            " |  copy(...)\n",
            " |      L.copy() -> list -- a shallow copy of L\n",
            " |  \n",
            " |  count(...)\n",
            " |      L.count(value) -> integer -- return number of occurrences of value\n",
            " |  \n",
            " |  extend(...)\n",
            " |      L.extend(iterable) -> None -- extend list by appending elements from the iterable\n",
            " |  \n",
            " |  index(...)\n",
            " |      L.index(value, [start, [stop]]) -> integer -- return first index of value.\n",
            " |      Raises ValueError if the value is not present.\n",
            " |  \n",
            " |  insert(...)\n",
            " |      L.insert(index, object) -- insert object before index\n",
            " |  \n",
            " |  pop(...)\n",
            " |      L.pop([index]) -> item -- remove and return item at index (default last).\n",
            " |      Raises IndexError if list is empty or index is out of range.\n",
            " |  \n",
            " |  remove(...)\n",
            " |      L.remove(value) -> None -- remove first occurrence of value.\n",
            " |      Raises ValueError if the value is not present.\n",
            " |  \n",
            " |  reverse(...)\n",
            " |      L.reverse() -- reverse *IN PLACE*\n",
            " |  \n",
            " |  sort(...)\n",
            " |      L.sort(key=None, reverse=False) -> None -- stable sort *IN PLACE*\n",
            " |  \n",
            " |  ----------------------------------------------------------------------\n",
            " |  Data and other attributes defined here:\n",
            " |  \n",
            " |  __hash__ = None\n",
            "\n"
          ],
          "name": "stdout"
        }
      ]
    },
    {
      "cell_type": "markdown",
      "metadata": {
        "id": "2oRx4yQ78Mid",
        "colab_type": "text"
      },
      "source": [
        "### The simplest Python class"
      ]
    },
    {
      "cell_type": "markdown",
      "metadata": {
        "id": "0LB55Riq8WAf",
        "colab_type": "text"
      },
      "source": [
        "* It's not necessary to write classes in Python.\n",
        "* Higher level abstractions are a benefit of writing classes.\n",
        "* Functionality that depends on the data structures.\n",
        "* To create a new type of data you can use the class keyword.\n",
        "* In python three object is optional in a class definition.\n"
      ]
    },
    {
      "cell_type": "code",
      "metadata": {
        "id": "P43fpRp08Szv",
        "colab_type": "code",
        "colab": {}
      },
      "source": [
        "class Foo(object):\n",
        "    pass"
      ],
      "execution_count": null,
      "outputs": []
    },
    {
      "cell_type": "code",
      "metadata": {
        "id": "qzLUGkcb9udt",
        "colab_type": "code",
        "colab": {
          "base_uri": "https://localhost:8080/",
          "height": 35
        },
        "outputId": "082d0350-6424-4465-ca00-cc043754ab6b"
      },
      "source": [
        "type(Foo)"
      ],
      "execution_count": null,
      "outputs": [
        {
          "output_type": "execute_result",
          "data": {
            "text/plain": [
              "type"
            ]
          },
          "metadata": {
            "tags": []
          },
          "execution_count": 162
        }
      ]
    },
    {
      "cell_type": "code",
      "metadata": {
        "id": "f3Eh3Qqt9yhW",
        "colab_type": "code",
        "colab": {
          "base_uri": "https://localhost:8080/",
          "height": 35
        },
        "outputId": "8e988aad-51e0-4c41-886c-57daf4333a3f"
      },
      "source": [
        "int('123')"
      ],
      "execution_count": null,
      "outputs": [
        {
          "output_type": "execute_result",
          "data": {
            "text/plain": [
              "123"
            ]
          },
          "metadata": {
            "tags": []
          },
          "execution_count": 163
        }
      ]
    },
    {
      "cell_type": "code",
      "metadata": {
        "id": "Fu_ehTsF91pR",
        "colab_type": "code",
        "colab": {
          "base_uri": "https://localhost:8080/",
          "height": 35
        },
        "outputId": "975ff5f7-2a08-46dd-bbe8-9bbd35bcd548"
      },
      "source": [
        "int()"
      ],
      "execution_count": null,
      "outputs": [
        {
          "output_type": "execute_result",
          "data": {
            "text/plain": [
              "0"
            ]
          },
          "metadata": {
            "tags": []
          },
          "execution_count": 164
        }
      ]
    },
    {
      "cell_type": "code",
      "metadata": {
        "id": "6QMy43Gj95BC",
        "colab_type": "code",
        "colab": {
          "base_uri": "https://localhost:8080/",
          "height": 35
        },
        "outputId": "ac47f4ec-9660-4404-9271-c7fdef732a6c"
      },
      "source": [
        "str(123)"
      ],
      "execution_count": null,
      "outputs": [
        {
          "output_type": "execute_result",
          "data": {
            "application/vnd.google.colaboratory.intrinsic+json": {
              "type": "string"
            },
            "text/plain": [
              "'123'"
            ]
          },
          "metadata": {
            "tags": []
          },
          "execution_count": 165
        }
      ]
    },
    {
      "cell_type": "code",
      "metadata": {
        "id": "s-1UBW9E971a",
        "colab_type": "code",
        "colab": {
          "base_uri": "https://localhost:8080/",
          "height": 35
        },
        "outputId": "4343576d-e177-4afc-b844-42fabb272cd4"
      },
      "source": [
        "str()"
      ],
      "execution_count": null,
      "outputs": [
        {
          "output_type": "execute_result",
          "data": {
            "application/vnd.google.colaboratory.intrinsic+json": {
              "type": "string"
            },
            "text/plain": [
              "''"
            ]
          },
          "metadata": {
            "tags": []
          },
          "execution_count": 166
        }
      ]
    },
    {
      "cell_type": "code",
      "metadata": {
        "id": "s9mTp9zZ99pP",
        "colab_type": "code",
        "colab": {
          "base_uri": "https://localhost:8080/",
          "height": 35
        },
        "outputId": "a46601e1-8adb-419a-e056-ad2c8afa97e8"
      },
      "source": [
        "Foo()"
      ],
      "execution_count": null,
      "outputs": [
        {
          "output_type": "execute_result",
          "data": {
            "text/plain": [
              "<__main__.Foo at 0x7f85d736a320>"
            ]
          },
          "metadata": {
            "tags": []
          },
          "execution_count": 167
        }
      ]
    },
    {
      "cell_type": "code",
      "metadata": {
        "id": "EIwxsgcH9_ub",
        "colab_type": "code",
        "colab": {}
      },
      "source": [
        "f = Foo()"
      ],
      "execution_count": null,
      "outputs": []
    },
    {
      "cell_type": "markdown",
      "metadata": {
        "id": "AbPgImhm-Gfo",
        "colab_type": "text"
      },
      "source": [
        "* f is an object of type Foo"
      ]
    },
    {
      "cell_type": "code",
      "metadata": {
        "id": "aWAQPOZS-EAx",
        "colab_type": "code",
        "colab": {
          "base_uri": "https://localhost:8080/",
          "height": 35
        },
        "outputId": "9c5f6044-1528-4092-9427-74838623b532"
      },
      "source": [
        "type(f)"
      ],
      "execution_count": null,
      "outputs": [
        {
          "output_type": "execute_result",
          "data": {
            "text/plain": [
              "__main__.Foo"
            ]
          },
          "metadata": {
            "tags": []
          },
          "execution_count": 169
        }
      ]
    },
    {
      "cell_type": "code",
      "metadata": {
        "id": "u21zRY0k-WcE",
        "colab_type": "code",
        "colab": {
          "base_uri": "https://localhost:8080/",
          "height": 485
        },
        "outputId": "09081ad6-3651-4fb5-bc77-0b3ae529b2ff"
      },
      "source": [
        "dir(Foo)"
      ],
      "execution_count": null,
      "outputs": [
        {
          "output_type": "execute_result",
          "data": {
            "text/plain": [
              "['__class__',\n",
              " '__delattr__',\n",
              " '__dict__',\n",
              " '__dir__',\n",
              " '__doc__',\n",
              " '__eq__',\n",
              " '__format__',\n",
              " '__ge__',\n",
              " '__getattribute__',\n",
              " '__gt__',\n",
              " '__hash__',\n",
              " '__init__',\n",
              " '__init_subclass__',\n",
              " '__le__',\n",
              " '__lt__',\n",
              " '__module__',\n",
              " '__ne__',\n",
              " '__new__',\n",
              " '__reduce__',\n",
              " '__reduce_ex__',\n",
              " '__repr__',\n",
              " '__setattr__',\n",
              " '__sizeof__',\n",
              " '__str__',\n",
              " '__subclasshook__',\n",
              " '__weakref__']"
            ]
          },
          "metadata": {
            "tags": []
          },
          "execution_count": 170
        }
      ]
    },
    {
      "cell_type": "code",
      "metadata": {
        "id": "YKjHsLb9-dqh",
        "colab_type": "code",
        "colab": {
          "base_uri": "https://localhost:8080/",
          "height": 485
        },
        "outputId": "16b0a32f-e4f4-4424-ed35-5dc2e2b5c4c9"
      },
      "source": [
        "dir(f)"
      ],
      "execution_count": null,
      "outputs": [
        {
          "output_type": "execute_result",
          "data": {
            "text/plain": [
              "['__class__',\n",
              " '__delattr__',\n",
              " '__dict__',\n",
              " '__dir__',\n",
              " '__doc__',\n",
              " '__eq__',\n",
              " '__format__',\n",
              " '__ge__',\n",
              " '__getattribute__',\n",
              " '__gt__',\n",
              " '__hash__',\n",
              " '__init__',\n",
              " '__init_subclass__',\n",
              " '__le__',\n",
              " '__lt__',\n",
              " '__module__',\n",
              " '__ne__',\n",
              " '__new__',\n",
              " '__reduce__',\n",
              " '__reduce_ex__',\n",
              " '__repr__',\n",
              " '__setattr__',\n",
              " '__sizeof__',\n",
              " '__str__',\n",
              " '__subclasshook__',\n",
              " '__weakref__']"
            ]
          },
          "metadata": {
            "tags": []
          },
          "execution_count": 171
        }
      ]
    },
    {
      "cell_type": "markdown",
      "metadata": {
        "id": "f1MTtmMG-1pw",
        "colab_type": "text"
      },
      "source": [
        "## Adding attributes"
      ]
    },
    {
      "cell_type": "code",
      "metadata": {
        "id": "Mizo-1Sh-9R5",
        "colab_type": "code",
        "colab": {}
      },
      "source": [
        "f = Foo()"
      ],
      "execution_count": null,
      "outputs": []
    },
    {
      "cell_type": "code",
      "metadata": {
        "id": "T7DKyGqg_H6a",
        "colab_type": "code",
        "colab": {}
      },
      "source": [
        "vars() # globals()  returns dict of global variables\n",
        "def bar():\n",
        "    vars() # locals() returns dict of local variables"
      ],
      "execution_count": null,
      "outputs": []
    },
    {
      "cell_type": "code",
      "metadata": {
        "id": "iHLl-KCI_ri2",
        "colab_type": "code",
        "colab": {
          "base_uri": "https://localhost:8080/",
          "height": 35
        },
        "outputId": "a8108ebd-0b0e-4378-f56c-f1f114ae970a"
      },
      "source": [
        "vars(f)"
      ],
      "execution_count": null,
      "outputs": [
        {
          "output_type": "execute_result",
          "data": {
            "text/plain": [
              "{}"
            ]
          },
          "metadata": {
            "tags": []
          },
          "execution_count": 174
        }
      ]
    },
    {
      "cell_type": "code",
      "metadata": {
        "id": "jByF5Uet_yhj",
        "colab_type": "code",
        "colab": {
          "base_uri": "https://localhost:8080/",
          "height": 521
        },
        "outputId": "208cc26e-4c71-458f-d51b-b6afd8570d2f"
      },
      "source": [
        "f.x = 100\n",
        "f.y = [10, 20, 30]\n",
        "\n",
        "dir(f)"
      ],
      "execution_count": null,
      "outputs": [
        {
          "output_type": "execute_result",
          "data": {
            "text/plain": [
              "['__class__',\n",
              " '__delattr__',\n",
              " '__dict__',\n",
              " '__dir__',\n",
              " '__doc__',\n",
              " '__eq__',\n",
              " '__format__',\n",
              " '__ge__',\n",
              " '__getattribute__',\n",
              " '__gt__',\n",
              " '__hash__',\n",
              " '__init__',\n",
              " '__init_subclass__',\n",
              " '__le__',\n",
              " '__lt__',\n",
              " '__module__',\n",
              " '__ne__',\n",
              " '__new__',\n",
              " '__reduce__',\n",
              " '__reduce_ex__',\n",
              " '__repr__',\n",
              " '__setattr__',\n",
              " '__sizeof__',\n",
              " '__str__',\n",
              " '__subclasshook__',\n",
              " '__weakref__',\n",
              " 'x',\n",
              " 'y']"
            ]
          },
          "metadata": {
            "tags": []
          },
          "execution_count": 175
        }
      ]
    },
    {
      "cell_type": "markdown",
      "metadata": {
        "id": "JhClv0NfAB1F",
        "colab_type": "text"
      },
      "source": [
        "* Vars() showing names and values associated with f\n",
        "* f is an instance of object Foo"
      ]
    },
    {
      "cell_type": "code",
      "metadata": {
        "id": "PlHRtQHr__Eu",
        "colab_type": "code",
        "colab": {
          "base_uri": "https://localhost:8080/",
          "height": 35
        },
        "outputId": "4161c707-c213-4391-b1dd-cbae5682f1ca"
      },
      "source": [
        "vars(f)"
      ],
      "execution_count": null,
      "outputs": [
        {
          "output_type": "execute_result",
          "data": {
            "text/plain": [
              "{'x': 100, 'y': [10, 20, 30]}"
            ]
          },
          "metadata": {
            "tags": []
          },
          "execution_count": 176
        }
      ]
    },
    {
      "cell_type": "code",
      "metadata": {
        "id": "ozrsMkphAVQR",
        "colab_type": "code",
        "colab": {}
      },
      "source": [
        "g = Foo()"
      ],
      "execution_count": null,
      "outputs": []
    },
    {
      "cell_type": "code",
      "metadata": {
        "id": "Rlp38RAbAZ8H",
        "colab_type": "code",
        "colab": {
          "base_uri": "https://localhost:8080/",
          "height": 35
        },
        "outputId": "847d896f-9571-4288-e2ba-d1ce9d87c1ad"
      },
      "source": [
        "g.a = {'a':1, 'b':2, 'c':3}\n",
        "g.b = {10, 20, 30, 40, 50}\n",
        "\n",
        "vars(g)"
      ],
      "execution_count": null,
      "outputs": [
        {
          "output_type": "execute_result",
          "data": {
            "text/plain": [
              "{'a': {'a': 1, 'b': 2, 'c': 3}, 'b': {10, 20, 30, 40, 50}}"
            ]
          },
          "metadata": {
            "tags": []
          },
          "execution_count": 178
        }
      ]
    },
    {
      "cell_type": "code",
      "metadata": {
        "id": "BHQtX_A_A1c5",
        "colab_type": "code",
        "colab": {
          "base_uri": "https://localhost:8080/",
          "height": 35
        },
        "outputId": "b5096f5c-09d2-42f2-fb39-f638e5288063"
      },
      "source": [
        "vars(f)"
      ],
      "execution_count": null,
      "outputs": [
        {
          "output_type": "execute_result",
          "data": {
            "text/plain": [
              "{'x': 100, 'y': [10, 20, 30]}"
            ]
          },
          "metadata": {
            "tags": []
          },
          "execution_count": 179
        }
      ]
    },
    {
      "cell_type": "markdown",
      "metadata": {
        "id": "AiakkKyVA5gU",
        "colab_type": "text"
      },
      "source": [
        "* Python allows us to do this though it's not a good idea or best practices.\n",
        "* Everytime we create an object of type foo we want a consistent set of names or constructor.\n"
      ]
    },
    {
      "cell_type": "markdown",
      "metadata": {
        "id": "N6sRQDAfBWod",
        "colab_type": "text"
      },
      "source": [
        "## dunder init"
      ]
    },
    {
      "cell_type": "markdown",
      "metadata": {
        "id": "-zBchxb6B6kD",
        "colab_type": "text"
      },
      "source": [
        "* Constructor function that is invoked when the object is created.\n",
        "* The terminology in Python is important to understanding how the language works.\n",
        "* Python adopted some of the object system from small talk.\n",
        "* In small talk you create an object with a method called new.\n",
        "* And then add attributes to an object with an intialize method.\n",
        "* After the new method creates the object Python looks for init to add attributes.\n",
        "* self is the only parameter to dunder init in Python.\n",
        "* Similar to this keyword in C++.\n",
        "* self is a convention in Python. \n",
        "* self is the instance of the new object.\n",
        "* self and dunder new point to the same object in memory.\n",
        "* don't set attributes outside the class definition."
      ]
    },
    {
      "cell_type": "code",
      "metadata": {
        "id": "X8Hnji5XCRkd",
        "colab_type": "code",
        "colab": {}
      },
      "source": [
        "class Foo(object):\n",
        "    def __init__(self):\n",
        "        self.x = 100\n",
        "        self.y = [10, 20, 30]"
      ],
      "execution_count": null,
      "outputs": []
    },
    {
      "cell_type": "code",
      "metadata": {
        "id": "8mVliHf9CnVd",
        "colab_type": "code",
        "colab": {
          "base_uri": "https://localhost:8080/"
        },
        "outputId": "1c60aa2b-49cf-4acd-b9ff-769f8a788657"
      },
      "source": [
        "f = Foo()\n",
        "vars(f)"
      ],
      "execution_count": null,
      "outputs": [
        {
          "output_type": "execute_result",
          "data": {
            "text/plain": [
              "{'x': 100, 'y': [10, 20, 30]}"
            ]
          },
          "metadata": {
            "tags": []
          },
          "execution_count": 181
        }
      ]
    },
    {
      "cell_type": "code",
      "metadata": {
        "id": "sVomH0wACvQV",
        "colab_type": "code",
        "colab": {
          "base_uri": "https://localhost:8080/"
        },
        "outputId": "9915a290-a0bb-452f-b435-e6fbd1ee040e"
      },
      "source": [
        "g = Foo()\n",
        "vars(g)"
      ],
      "execution_count": null,
      "outputs": [
        {
          "output_type": "execute_result",
          "data": {
            "text/plain": [
              "{'x': 100, 'y': [10, 20, 30]}"
            ]
          },
          "metadata": {
            "tags": []
          },
          "execution_count": 182
        }
      ]
    },
    {
      "cell_type": "code",
      "metadata": {
        "id": "YYGyje4CFbRy",
        "colab_type": "code",
        "colab": {
          "base_uri": "https://localhost:8080/"
        },
        "outputId": "7be564d0-8575-4491-f16f-42b82e4d600a"
      },
      "source": [
        "f.x"
      ],
      "execution_count": null,
      "outputs": [
        {
          "output_type": "execute_result",
          "data": {
            "text/plain": [
              "100"
            ]
          },
          "metadata": {
            "tags": []
          },
          "execution_count": 183
        }
      ]
    },
    {
      "cell_type": "code",
      "metadata": {
        "id": "Heoqp2KbFd2d",
        "colab_type": "code",
        "colab": {
          "base_uri": "https://localhost:8080/"
        },
        "outputId": "38554438-ade0-41e9-8f54-6724d2bd7c3b"
      },
      "source": [
        "f.x = 200\n",
        "vars(f)"
      ],
      "execution_count": null,
      "outputs": [
        {
          "output_type": "execute_result",
          "data": {
            "text/plain": [
              "{'x': 200, 'y': [10, 20, 30]}"
            ]
          },
          "metadata": {
            "tags": []
          },
          "execution_count": 184
        }
      ]
    },
    {
      "cell_type": "code",
      "metadata": {
        "id": "seCqdNwPFj41",
        "colab_type": "code",
        "colab": {
          "base_uri": "https://localhost:8080/"
        },
        "outputId": "6b4cca14-010d-4e77-df96-4e8d1f2451e3"
      },
      "source": [
        "f.y.append(40)\n",
        "vars(f)"
      ],
      "execution_count": null,
      "outputs": [
        {
          "output_type": "execute_result",
          "data": {
            "text/plain": [
              "{'x': 200, 'y': [10, 20, 30, 40]}"
            ]
          },
          "metadata": {
            "tags": []
          },
          "execution_count": 185
        }
      ]
    },
    {
      "cell_type": "markdown",
      "metadata": {
        "id": "M8fOKQEKGK6T",
        "colab_type": "text"
      },
      "source": [
        "## dunder init and parameters"
      ]
    },
    {
      "cell_type": "markdown",
      "metadata": {
        "id": "EhJBCCvYGRQ_",
        "colab_type": "text"
      },
      "source": [
        "* take the local variables of x and y \n",
        "* assign their values to the attributes x and y of Foo.\n",
        "* self is required as the first positional argument in every method.\n",
        "* dunder init method is just like a function besides self.\n",
        "* a * by args means it's a tuple.\n",
        "* In other languages you can write a method with several signatures."
      ]
    },
    {
      "cell_type": "code",
      "metadata": {
        "id": "eTSAIaERGR8G",
        "colab_type": "code",
        "colab": {}
      },
      "source": [
        "class Foo(object):\n",
        "    def __init__(self, x, y):\n",
        "        self.x = x\n",
        "        self.y = y"
      ],
      "execution_count": null,
      "outputs": []
    },
    {
      "cell_type": "code",
      "metadata": {
        "id": "8-7CMiloHP6S",
        "colab_type": "code",
        "colab": {}
      },
      "source": [
        "f = Foo(10, 20)"
      ],
      "execution_count": null,
      "outputs": []
    },
    {
      "cell_type": "code",
      "metadata": {
        "id": "Vh7fw0vCHXYg",
        "colab_type": "code",
        "colab": {
          "base_uri": "https://localhost:8080/",
          "height": 35
        },
        "outputId": "0638301b-ec86-452c-a0f7-070f45bc17be"
      },
      "source": [
        "vars(f)"
      ],
      "execution_count": null,
      "outputs": [
        {
          "output_type": "execute_result",
          "data": {
            "text/plain": [
              "{'x': 10, 'y': 20}"
            ]
          },
          "metadata": {
            "tags": []
          },
          "execution_count": 188
        }
      ]
    },
    {
      "cell_type": "code",
      "metadata": {
        "id": "WXz1xC8fHcLX",
        "colab_type": "code",
        "colab": {
          "base_uri": "https://localhost:8080/",
          "height": 172
        },
        "outputId": "d11d5ea2-25d4-401a-8868-010444716251"
      },
      "source": [
        "f = Foo()"
      ],
      "execution_count": null,
      "outputs": [
        {
          "output_type": "error",
          "ename": "TypeError",
          "evalue": "ignored",
          "traceback": [
            "\u001b[0;31m---------------------------------------------------------------------------\u001b[0m",
            "\u001b[0;31mTypeError\u001b[0m                                 Traceback (most recent call last)",
            "\u001b[0;32m<ipython-input-189-79a961337674>\u001b[0m in \u001b[0;36m<module>\u001b[0;34m()\u001b[0m\n\u001b[0;32m----> 1\u001b[0;31m \u001b[0mf\u001b[0m \u001b[0;34m=\u001b[0m \u001b[0mFoo\u001b[0m\u001b[0;34m(\u001b[0m\u001b[0;34m)\u001b[0m\u001b[0;34m\u001b[0m\u001b[0;34m\u001b[0m\u001b[0m\n\u001b[0m",
            "\u001b[0;31mTypeError\u001b[0m: __init__() missing 2 required positional arguments: 'x' and 'y'"
          ]
        }
      ]
    },
    {
      "cell_type": "code",
      "metadata": {
        "id": "afNYJQVvHq8J",
        "colab_type": "code",
        "colab": {
          "base_uri": "https://localhost:8080/",
          "height": 172
        },
        "outputId": "f9acd801-11b4-4d9e-c169-c0e88f9a2f7b"
      },
      "source": [
        "f = Foo(10)"
      ],
      "execution_count": null,
      "outputs": [
        {
          "output_type": "error",
          "ename": "TypeError",
          "evalue": "ignored",
          "traceback": [
            "\u001b[0;31m---------------------------------------------------------------------------\u001b[0m",
            "\u001b[0;31mTypeError\u001b[0m                                 Traceback (most recent call last)",
            "\u001b[0;32m<ipython-input-190-ddeb02584573>\u001b[0m in \u001b[0;36m<module>\u001b[0;34m()\u001b[0m\n\u001b[0;32m----> 1\u001b[0;31m \u001b[0mf\u001b[0m \u001b[0;34m=\u001b[0m \u001b[0mFoo\u001b[0m\u001b[0;34m(\u001b[0m\u001b[0;36m10\u001b[0m\u001b[0;34m)\u001b[0m\u001b[0;34m\u001b[0m\u001b[0;34m\u001b[0m\u001b[0m\n\u001b[0m",
            "\u001b[0;31mTypeError\u001b[0m: __init__() missing 1 required positional argument: 'y'"
          ]
        }
      ]
    },
    {
      "cell_type": "code",
      "metadata": {
        "id": "LVAZ8N-HHwVs",
        "colab_type": "code",
        "colab": {}
      },
      "source": [
        "class Foo(object):\n",
        "    def __init__(self, x=888, y=999):\n",
        "        self.x = x\n",
        "        self.y = y"
      ],
      "execution_count": null,
      "outputs": []
    },
    {
      "cell_type": "code",
      "metadata": {
        "id": "-1zsNg5nHvIi",
        "colab_type": "code",
        "colab": {
          "base_uri": "https://localhost:8080/",
          "height": 35
        },
        "outputId": "58e3ec9a-7d4d-441a-a352-cce1d79a51ad"
      },
      "source": [
        "f = Foo()\n",
        "vars(f)"
      ],
      "execution_count": null,
      "outputs": [
        {
          "output_type": "execute_result",
          "data": {
            "text/plain": [
              "{'x': 888, 'y': 999}"
            ]
          },
          "metadata": {
            "tags": []
          },
          "execution_count": 192
        }
      ]
    },
    {
      "cell_type": "code",
      "metadata": {
        "id": "2_zjZ0SDIVfK",
        "colab_type": "code",
        "colab": {}
      },
      "source": [
        "class Foo(object):\n",
        "    def __init__(self, x, *args):\n",
        "        self.x = x \n",
        "        self.args = args"
      ],
      "execution_count": null,
      "outputs": []
    },
    {
      "cell_type": "code",
      "metadata": {
        "id": "0d6gC2ijI0bl",
        "colab_type": "code",
        "colab": {
          "base_uri": "https://localhost:8080/",
          "height": 35
        },
        "outputId": "b169eeb2-dfca-496a-b535-e5c45b1e8b5b"
      },
      "source": [
        "f = Foo(10, 20, 30, 40, 50)\n",
        "vars(f)"
      ],
      "execution_count": null,
      "outputs": [
        {
          "output_type": "execute_result",
          "data": {
            "text/plain": [
              "{'args': (20, 30, 40, 50), 'x': 10}"
            ]
          },
          "metadata": {
            "tags": []
          },
          "execution_count": 194
        }
      ]
    },
    {
      "cell_type": "markdown",
      "metadata": {
        "id": "TN_OiWLHKkWv",
        "colab_type": "text"
      },
      "source": [
        "## More examples of objects "
      ]
    },
    {
      "cell_type": "markdown",
      "metadata": {
        "id": "zxN-2tivKsGu",
        "colab_type": "text"
      },
      "source": [
        "* The whole point of data structures is to store data efficiently for the computer and easy for humans to understand."
      ]
    },
    {
      "cell_type": "code",
      "metadata": {
        "id": "7U7VsX6_Kjyb",
        "colab_type": "code",
        "colab": {}
      },
      "source": [
        "computers = [{'brand': 'Apple', 'year':2014},\n",
        "             {'brand': 'HP', 'year':2016},\n",
        "             {'brand': 'Lenovo', 'year':2016},\n",
        "             {'brand': 'Apple', 'year':2010}]"
      ],
      "execution_count": null,
      "outputs": []
    },
    {
      "cell_type": "code",
      "metadata": {
        "id": "17qSD5X9Lqza",
        "colab_type": "code",
        "colab": {
          "base_uri": "https://localhost:8080/",
          "height": 89
        },
        "outputId": "f6e4376a-b7d6-4cda-ea01-029edc01d6bf"
      },
      "source": [
        "for one_computer in computers:\n",
        "    print(f\"{one_computer['brand']}, from {one_computer['year']}\")"
      ],
      "execution_count": null,
      "outputs": [
        {
          "output_type": "stream",
          "text": [
            "Apple, from 2014\n",
            "HP, from 2016\n",
            "Lenovo, from 2016\n",
            "Apple, from 2010\n"
          ],
          "name": "stdout"
        }
      ]
    },
    {
      "cell_type": "code",
      "metadata": {
        "id": "ug8qW8HjMgpG",
        "colab_type": "code",
        "colab": {
          "base_uri": "https://localhost:8080/",
          "height": 53
        },
        "outputId": "5c5d39bf-e7a7-4f71-8fa6-84612446f864"
      },
      "source": [
        "for one_computer in computers:\n",
        "    if one_computer['year'] == 2016:  \n",
        "      print(f\"{one_computer['brand']}, from {one_computer['year']}\")"
      ],
      "execution_count": null,
      "outputs": [
        {
          "output_type": "stream",
          "text": [
            "HP, from 2016\n",
            "Lenovo, from 2016\n"
          ],
          "name": "stdout"
        }
      ]
    },
    {
      "cell_type": "markdown",
      "metadata": {
        "id": "YawBGHyKM2gH",
        "colab_type": "text"
      },
      "source": [
        "* The problem with this approach is that it is low level.\n",
        "* Semantically things are nicer. So is the interface. "
      ]
    },
    {
      "cell_type": "code",
      "metadata": {
        "id": "_nwXpxQkM8X_",
        "colab_type": "code",
        "colab": {}
      },
      "source": [
        " class Computer(object):\n",
        "    def __init__(self, brand, year):\n",
        "        self.brand = brand\n",
        "        self.year = year\n",
        "\n",
        "c1 = Computer('Apple', 2014)\n",
        "c2 = Computer('HP', 2016)\n",
        "c3 = Computer('Lenovo', 2016)\n",
        "c4 = Computer('Apple', 2010)"
      ],
      "execution_count": null,
      "outputs": []
    },
    {
      "cell_type": "code",
      "metadata": {
        "id": "kflp3nu-O2Ev",
        "colab_type": "code",
        "colab": {
          "base_uri": "https://localhost:8080/",
          "height": 89
        },
        "outputId": "134d693f-4f99-4093-c1e0-3133eb5822b2"
      },
      "source": [
        "my_computers = [c1, c2, c3, c4]\n",
        "\n",
        "for one_computer in my_computers:\n",
        "    print(f\"{one_computer.brand}, from {one_computer.year}\")"
      ],
      "execution_count": null,
      "outputs": [
        {
          "output_type": "stream",
          "text": [
            "Apple, from 2014\n",
            "HP, from 2016\n",
            "Lenovo, from 2016\n",
            "Apple, from 2010\n"
          ],
          "name": "stdout"
        }
      ]
    },
    {
      "cell_type": "code",
      "metadata": {
        "id": "iINb59HXPnRH",
        "colab_type": "code",
        "colab": {
          "base_uri": "https://localhost:8080/",
          "height": 53
        },
        "outputId": "7820aaa1-5a2b-4e73-dc06-611ebf2a2ebb"
      },
      "source": [
        "class Book(object):\n",
        "    def __init__(self, title, author, price):\n",
        "        self.title = title\n",
        "        self.author = author\n",
        "        self.price = price\n",
        "\n",
        "all_books = []\n",
        "while True:\n",
        "  title = input(\"Enter title (or <enter> to stop): \").strip()\n",
        "  if not title:\n",
        "      break\n",
        "  author = input(\"Enter author: \").strip()\n",
        "  price = float(input(\"Enter price: \"))\n",
        "\n",
        "  all_books.append(Book(title, author, price))\n",
        "\n",
        "print(all_books)"
      ],
      "execution_count": null,
      "outputs": [
        {
          "output_type": "stream",
          "text": [
            "Enter title (or <enter> to stop): \n",
            "[]\n"
          ],
          "name": "stdout"
        }
      ]
    },
    {
      "cell_type": "markdown",
      "metadata": {
        "id": "rWmrbbVaTrVU",
        "colab_type": "text"
      },
      "source": [
        "## Class Exercises"
      ]
    },
    {
      "cell_type": "markdown",
      "metadata": {
        "id": "piaANT6kUcq1",
        "colab_type": "text"
      },
      "source": [
        "**Exercise one:** \n",
        "\n",
        "Scoop class -- each instance is one scoop of ice cream\n",
        "\n",
        "s1 = Scoop('chocolate')\n",
        "s2 = Scoop('vanilla')\n",
        "s3 = Scoop('coffee')\n",
        "\n",
        "print(s1.flavor)  # chocolate\n",
        "\n",
        "for one_scoop in [s1, s2, s3]:\n",
        "    print(one_scoop.flavor)  # chocolate, vanilla, coffee"
      ]
    },
    {
      "cell_type": "code",
      "metadata": {
        "id": "TfVFyYZ3Ut15",
        "colab_type": "code",
        "colab": {
          "base_uri": "https://localhost:8080/",
          "height": 89
        },
        "outputId": "090730a8-58fd-4f85-8b2c-f38a4b6966f3"
      },
      "source": [
        "class Scoop(object):\n",
        "    def __init__(self, flavor):\n",
        "        self.flavor = flavor\n",
        "\n",
        "s1 = Scoop('chocolate')\n",
        "s2 = Scoop('vanilla')\n",
        "s3 = Scoop('coffee')\n",
        "\n",
        "print(s1.flavor)\n",
        "\n",
        "for one_scoop in [s1, s2, s3]:\n",
        "    print(one_scoop.flavor)"
      ],
      "execution_count": null,
      "outputs": [
        {
          "output_type": "stream",
          "text": [
            "chocolate\n",
            "chocolate\n",
            "vanilla\n",
            "coffee\n"
          ],
          "name": "stdout"
        }
      ]
    },
    {
      "cell_type": "markdown",
      "metadata": {
        "id": "u67FHkLTV4Lt",
        "colab_type": "text"
      },
      "source": [
        "**Exercise two:**\n",
        "\n",
        "Person class -- name, e-mail address, and phone number\n",
        "\n",
        "    Create several people, and iterate over them in a list\n",
        "    and print their names (similar to a phone book)\n",
        "\n",
        "    Change the e-mail address of one person, and show\n",
        "    that it has changed by printing your list a second time\n"
      ]
    },
    {
      "cell_type": "code",
      "metadata": {
        "id": "zHwTJ0xrWlyh",
        "colab_type": "code",
        "colab": {
          "base_uri": "https://localhost:8080/",
          "height": 125
        },
        "outputId": "eefd18bc-0439-479c-fc8a-3a4ab970aeed"
      },
      "source": [
        "class Person(object):\n",
        "    def __init__(self, name, email, phonenumber):\n",
        "        self.name = name\n",
        "        self.email = email\n",
        "        self.phonenumber = phonenumber\n",
        "\n",
        "p1 = Person(\"Jane Doe\", 'jdoe@gmail.com', '123-456-7891')\n",
        "p2 = Person(\"Al Bundy\", 'abundy@gmail.com', '321-654-9187')\n",
        "p3 = Person('Mike Trout', 'mtrout@gmail.com', '213-546-8791')\n",
        "\n",
        "\n",
        "all_people = [p1, p2, p3]\n",
        "\n",
        "for one_person in all_people:\n",
        "    print(f\"{one_person.name}, email {one_person.email}, phone {one_person.phonenumber}\")\n",
        "\n",
        "p2.email = 'bundya@gmail.com'\n",
        "\n",
        "for one_person in all_people:\n",
        "    print(f\"{one_person.name}, email {one_person.email}, phone {one_person.phonenumber}\")"
      ],
      "execution_count": null,
      "outputs": [
        {
          "output_type": "stream",
          "text": [
            "Jane Doe, email jdoe@gmail.com, phone 123-456-7891\n",
            "Al Bundy, email abundy@gmail.com, phone 321-654-9187\n",
            "Mike Trout, email mtrout@gmail.com, phone 213-546-8791\n",
            "Jane Doe, email jdoe@gmail.com, phone 123-456-7891\n",
            "Al Bundy, email bundya@gmail.com, phone 321-654-9187\n",
            "Mike Trout, email mtrout@gmail.com, phone 213-546-8791\n"
          ],
          "name": "stdout"
        }
      ]
    },
    {
      "cell_type": "markdown",
      "metadata": {
        "id": "t2GM68tEavvS",
        "colab_type": "text"
      },
      "source": [
        "**Exercise 3:**\n",
        "\n",
        " Create a BankAccount class. It'll have a single\n",
        "    attribute (per instance), transactions -- a list of floats\n",
        "\n",
        "    Every time you deposit, append a positive float\n",
        "    Every time you withdraw, append a negative float\n",
        "\n",
        "    (a) create two different accounts\n",
        "    (b) add a number of transactions +/- to each account\n",
        "    (c) show, for each account, the number of transactions\n",
        "    and the average amount per transaction, as well as\n",
        "    the current balance.  (assume it starts at 0)\n"
      ]
    },
    {
      "cell_type": "code",
      "metadata": {
        "id": "DZ7bOBzsnFOA",
        "colab_type": "code",
        "colab": {}
      },
      "source": [
        "class BankAccount(object):\n",
        "    def __init__(self):\n",
        "        self.transactions = []\n",
        "\n",
        "checking = BankAccount()\n",
        "savings = BankAccount()\n",
        "\n",
        "\n",
        "\n",
        "\n"
      ],
      "execution_count": null,
      "outputs": []
    },
    {
      "cell_type": "code",
      "metadata": {
        "id": "oFcLDRHdvFIl",
        "colab_type": "code",
        "colab": {}
      },
      "source": [
        "checking.transactions.append(100)"
      ],
      "execution_count": null,
      "outputs": []
    },
    {
      "cell_type": "code",
      "metadata": {
        "id": "FizVlak0vSmq",
        "colab_type": "code",
        "colab": {}
      },
      "source": [
        "checking.transactions.append(-50)"
      ],
      "execution_count": null,
      "outputs": []
    },
    {
      "cell_type": "code",
      "metadata": {
        "id": "IZ7ykL12vcxd",
        "colab_type": "code",
        "colab": {}
      },
      "source": [
        "checking.transactions.append(500)"
      ],
      "execution_count": null,
      "outputs": []
    },
    {
      "cell_type": "code",
      "metadata": {
        "id": "fGARgWqDvYSD",
        "colab_type": "code",
        "colab": {}
      },
      "source": [
        "checking.transactions.append(-250)"
      ],
      "execution_count": null,
      "outputs": []
    },
    {
      "cell_type": "code",
      "metadata": {
        "id": "oUOk_aHBvbsm",
        "colab_type": "code",
        "colab": {
          "base_uri": "https://localhost:8080/",
          "height": 35
        },
        "outputId": "0fb6ce41-0a68-48bc-def2-b460b181f4ca"
      },
      "source": [
        "sum(checking.transactions)\n"
      ],
      "execution_count": null,
      "outputs": [
        {
          "output_type": "execute_result",
          "data": {
            "text/plain": [
              "300"
            ]
          },
          "metadata": {
            "tags": []
          },
          "execution_count": 250
        }
      ]
    },
    {
      "cell_type": "code",
      "metadata": {
        "id": "E_YDdUCFwrD7",
        "colab_type": "code",
        "colab": {
          "base_uri": "https://localhost:8080/",
          "height": 35
        },
        "outputId": "91961753-c7fd-408a-bbf4-1cf4c75e62d4"
      },
      "source": [
        " len(checking.transactions)"
      ],
      "execution_count": null,
      "outputs": [
        {
          "output_type": "execute_result",
          "data": {
            "text/plain": [
              "4"
            ]
          },
          "metadata": {
            "tags": []
          },
          "execution_count": 251
        }
      ]
    },
    {
      "cell_type": "code",
      "metadata": {
        "id": "LnsBGKd3xUAV",
        "colab_type": "code",
        "colab": {
          "base_uri": "https://localhost:8080/",
          "height": 35
        },
        "outputId": "d5fe2f30-64a3-43c3-e244-cfdfbd892c03"
      },
      "source": [
        "sum(checking.transactions) / len(checking.transactions)"
      ],
      "execution_count": null,
      "outputs": [
        {
          "output_type": "execute_result",
          "data": {
            "text/plain": [
              "75.0"
            ]
          },
          "metadata": {
            "tags": []
          },
          "execution_count": 252
        }
      ]
    },
    {
      "cell_type": "code",
      "metadata": {
        "id": "f5TnaG_bxmTF",
        "colab_type": "code",
        "colab": {
          "base_uri": "https://localhost:8080/",
          "height": 35
        },
        "outputId": "6f46779b-d11f-46ec-d6ac-6293b8b44410"
      },
      "source": [
        "sum(savings.transactions)"
      ],
      "execution_count": null,
      "outputs": [
        {
          "output_type": "execute_result",
          "data": {
            "text/plain": [
              "0"
            ]
          },
          "metadata": {
            "tags": []
          },
          "execution_count": 253
        }
      ]
    },
    {
      "cell_type": "code",
      "metadata": {
        "id": "xTn-LUcirAbA",
        "colab_type": "code",
        "colab": {}
      },
      "source": [
        "savings.transactions.append(1000)"
      ],
      "execution_count": null,
      "outputs": []
    },
    {
      "cell_type": "code",
      "metadata": {
        "id": "heN_IWjtrF1a",
        "colab_type": "code",
        "colab": {}
      },
      "source": [
        "savings.transactions.append(2000)"
      ],
      "execution_count": null,
      "outputs": []
    },
    {
      "cell_type": "code",
      "metadata": {
        "id": "Zs_6iHpHrlE2",
        "colab_type": "code",
        "colab": {}
      },
      "source": [
        "savings.transactions.append(-100)"
      ],
      "execution_count": null,
      "outputs": []
    },
    {
      "cell_type": "code",
      "metadata": {
        "id": "44NCVVSJrpct",
        "colab_type": "code",
        "colab": {
          "base_uri": "https://localhost:8080/",
          "height": 35
        },
        "outputId": "447cdbd5-e6d7-4d2b-8189-aa8dffb1e387"
      },
      "source": [
        "sum(savings.transactions)"
      ],
      "execution_count": null,
      "outputs": [
        {
          "output_type": "execute_result",
          "data": {
            "text/plain": [
              "2900"
            ]
          },
          "metadata": {
            "tags": []
          },
          "execution_count": 257
        }
      ]
    },
    {
      "cell_type": "code",
      "metadata": {
        "id": "DPNdsQHIruKh",
        "colab_type": "code",
        "colab": {
          "base_uri": "https://localhost:8080/",
          "height": 35
        },
        "outputId": "9a3e0b6b-1bbf-46a5-f3db-0c5cf1faaa3d"
      },
      "source": [
        "sum(savings.transactions) / len(savings.transactions)"
      ],
      "execution_count": null,
      "outputs": [
        {
          "output_type": "execute_result",
          "data": {
            "text/plain": [
              "966.6666666666666"
            ]
          },
          "metadata": {
            "tags": []
          },
          "execution_count": 258
        }
      ]
    },
    {
      "cell_type": "markdown",
      "metadata": {
        "id": "uXq9dbZgsfLt",
        "colab_type": "text"
      },
      "source": [
        "## Three Methods"
      ]
    },
    {
      "cell_type": "markdown",
      "metadata": {
        "id": "q9Zjf8bDtSUJ",
        "colab_type": "text"
      },
      "source": [
        "* Behind the scenese Python invokes the x2 method on our object f of type Foo.\n",
        "* Calling a method is the preferable as it's analogous to sending a message to our object.\n",
        "* The attribute x is defined on our object self.\n",
        "* This simplifies the scoping rules within Python.\n",
        "* Getter and setter methods are not considered Pythonic."
      ]
    },
    {
      "cell_type": "code",
      "metadata": {
        "id": "06jOZxf3snCw",
        "colab_type": "code",
        "colab": {}
      },
      "source": [
        "class Foo(object):\n",
        "    def __init__(self, x):\n",
        "        self.x = x\n",
        "\n",
        "    def x2(self):\n",
        "        return self.x * 2"
      ],
      "execution_count": null,
      "outputs": []
    },
    {
      "cell_type": "code",
      "metadata": {
        "id": "PTTskPhvtAUy",
        "colab_type": "code",
        "colab": {}
      },
      "source": [
        "f = Foo(10)"
      ],
      "execution_count": null,
      "outputs": []
    },
    {
      "cell_type": "code",
      "metadata": {
        "id": "a8Qt6JpgtDSd",
        "colab_type": "code",
        "colab": {
          "base_uri": "https://localhost:8080/"
        },
        "outputId": "fa60ae5a-4b40-4331-f1aa-8826bfa69e86"
      },
      "source": [
        "vars(f)"
      ],
      "execution_count": null,
      "outputs": [
        {
          "output_type": "execute_result",
          "data": {
            "text/plain": [
              "{'x': 10}"
            ]
          },
          "metadata": {
            "tags": []
          },
          "execution_count": 219
        }
      ]
    },
    {
      "cell_type": "code",
      "metadata": {
        "id": "Or2T7v3gtIrs",
        "colab_type": "code",
        "colab": {
          "base_uri": "https://localhost:8080/"
        },
        "outputId": "40d302e9-85fc-4d0f-fb5d-8203ffebe774"
      },
      "source": [
        "f.x2() # invokes the method x2 on f object"
      ],
      "execution_count": null,
      "outputs": [
        {
          "output_type": "execute_result",
          "data": {
            "text/plain": [
              "20"
            ]
          },
          "metadata": {
            "tags": []
          },
          "execution_count": 220
        }
      ]
    },
    {
      "cell_type": "code",
      "metadata": {
        "id": "KyZjn8WeuMY5",
        "colab_type": "code",
        "colab": {
          "base_uri": "https://localhost:8080/"
        },
        "outputId": "48ca46e9-8fa6-4895-de2b-f3e7796db250"
      },
      "source": [
        "Foo.x2(f) # the above line, f.x2(), is secretly rewritten to look like this!"
      ],
      "execution_count": null,
      "outputs": [
        {
          "output_type": "execute_result",
          "data": {
            "text/plain": [
              "20"
            ]
          },
          "metadata": {
            "tags": []
          },
          "execution_count": 221
        }
      ]
    },
    {
      "cell_type": "code",
      "metadata": {
        "id": "i3TYLSIBu6Y-",
        "colab_type": "code",
        "colab": {}
      },
      "source": [
        "class Foo(object):\n",
        "    def __init__(self, x):\n",
        "        self.x = x\n",
        "\n",
        "    def x2(self):\n",
        "        return x * 2"
      ],
      "execution_count": null,
      "outputs": []
    },
    {
      "cell_type": "code",
      "metadata": {
        "id": "PyDvmqkau_n2",
        "colab_type": "code",
        "colab": {
          "base_uri": "https://localhost:8080/"
        },
        "outputId": "fede4d19-80ad-4c9c-ee9a-2de154c579e2"
      },
      "source": [
        "f = Foo(10)\n",
        "f.x2()"
      ],
      "execution_count": null,
      "outputs": [
        {
          "output_type": "execute_result",
          "data": {
            "text/plain": [
              "[10, 20, 30, 10, 20, 30]"
            ]
          },
          "metadata": {
            "tags": []
          },
          "execution_count": 223
        }
      ]
    },
    {
      "cell_type": "code",
      "metadata": {
        "id": "HDwcjLcHv31C",
        "colab_type": "code",
        "colab": {
          "base_uri": "https://localhost:8080/"
        },
        "outputId": "e8a463ef-b901-4fdd-a5cd-a2f2ca818932"
      },
      "source": [
        "class Foo(object):\n",
        "    def __init__(self, x):\n",
        "        self.x = x\n",
        "\n",
        "    def get_x(self):\n",
        "        return self.x\n",
        "\n",
        "    def set_x(self, new_x):\n",
        "        self.x = new_x\n",
        "\n",
        "f = Foo(10)\n",
        "print(f.get_x())\n",
        "f.set_x(20)\n",
        "print(f.get_x())"
      ],
      "execution_count": null,
      "outputs": [
        {
          "output_type": "stream",
          "text": [
            "10\n",
            "20\n"
          ],
          "name": "stdout"
        }
      ]
    },
    {
      "cell_type": "code",
      "metadata": {
        "id": "ra2oT_Eow2yA",
        "colab_type": "code",
        "colab": {
          "base_uri": "https://localhost:8080/"
        },
        "outputId": "1021816f-3202-4316-91b2-9a677eb7276e"
      },
      "source": [
        "class Foo(object):\n",
        "    def __init__(self, x):\n",
        "        self.x = x\n",
        "\n",
        "#    def get_x(self):   # getter or accesor\n",
        "#        return self.x\n",
        "\n",
        "#    def set_x(self, new_x): # setter or mutator\n",
        "#        self.x = new_x\n",
        "\n",
        "f = Foo(10)\n",
        "print(f.x)\n",
        "f.x = 20 \n",
        "print(f.x)"
      ],
      "execution_count": null,
      "outputs": [
        {
          "output_type": "stream",
          "text": [
            "10\n",
            "20\n"
          ],
          "name": "stdout"
        }
      ]
    },
    {
      "cell_type": "markdown",
      "metadata": {
        "id": "ZTq-SuHWyWvh",
        "colab_type": "text"
      },
      "source": [
        "## Method examples"
      ]
    },
    {
      "cell_type": "markdown",
      "metadata": {
        "id": "3dOwhj9RzLqR",
        "colab_type": "text"
      },
      "source": [
        "* Methods can contain defualt argument values just like any other functions.\n",
        "* splat args give a tuple of all the arguments the method call that were passed that nobody took.\n",
        "* Can have composition of objects.\n",
        "* Differences between methods and other functions\n",
        "  * Methods only work on certian types of objects\n",
        "  * Self is always our first argument with methods"
      ]
    },
    {
      "cell_type": "code",
      "metadata": {
        "id": "DYRGUIkuyaO9",
        "colab_type": "code",
        "colab": {}
      },
      "source": [
        "class Book(object):\n",
        "    def __init__(self, title, author, price=30):\n",
        "        self.title = title\n",
        "        self.author = author\n",
        "        self.price = price\n",
        "\n",
        "    def nice_author_name(self):\n",
        "        return ', '.join(reversed(self.author.split()))\n",
        "\n",
        "    def price_with_tax(self):\n",
        "        return self.price * 1.15\n",
        "\n",
        "b1 = Book('Title1', \"John Smith\")\n",
        "b2 = Book('Title2', 'David Cohen')\n",
        "b3 = Book('Title3', 'David Cohen', 25)"
      ],
      "execution_count": null,
      "outputs": []
    },
    {
      "cell_type": "code",
      "metadata": {
        "id": "KbZ7bO2QzBKO",
        "colab_type": "code",
        "colab": {
          "base_uri": "https://localhost:8080/"
        },
        "outputId": "2343157e-6d8f-45bd-f151-8292f1556d5e"
      },
      "source": [
        "b1.price"
      ],
      "execution_count": null,
      "outputs": [
        {
          "output_type": "execute_result",
          "data": {
            "text/plain": [
              "30"
            ]
          },
          "metadata": {
            "tags": []
          },
          "execution_count": 227
        }
      ]
    },
    {
      "cell_type": "code",
      "metadata": {
        "id": "oGJBfs5azgEp",
        "colab_type": "code",
        "colab": {
          "base_uri": "https://localhost:8080/"
        },
        "outputId": "fd809a83-a004-4aca-f973-3264d4476467"
      },
      "source": [
        "b2.price"
      ],
      "execution_count": null,
      "outputs": [
        {
          "output_type": "execute_result",
          "data": {
            "text/plain": [
              "30"
            ]
          },
          "metadata": {
            "tags": []
          },
          "execution_count": 228
        }
      ]
    },
    {
      "cell_type": "code",
      "metadata": {
        "id": "fQpq1NcazhvN",
        "colab_type": "code",
        "colab": {
          "base_uri": "https://localhost:8080/"
        },
        "outputId": "9810aea1-69f7-40d8-9f45-a0b648d85771"
      },
      "source": [
        "b2.price"
      ],
      "execution_count": null,
      "outputs": [
        {
          "output_type": "execute_result",
          "data": {
            "text/plain": [
              "30"
            ]
          },
          "metadata": {
            "tags": []
          },
          "execution_count": 229
        }
      ]
    },
    {
      "cell_type": "code",
      "metadata": {
        "id": "Z4a_cl-Pz4Uq",
        "colab_type": "code",
        "colab": {
          "base_uri": "https://localhost:8080/"
        },
        "outputId": "607b8080-affc-4ae4-cfb6-43805602184b"
      },
      "source": [
        "b1.author"
      ],
      "execution_count": null,
      "outputs": [
        {
          "output_type": "execute_result",
          "data": {
            "application/vnd.google.colaboratory.intrinsic+json": {
              "type": "string"
            },
            "text/plain": [
              "'John Smith'"
            ]
          },
          "metadata": {
            "tags": []
          },
          "execution_count": 230
        }
      ]
    },
    {
      "cell_type": "code",
      "metadata": {
        "id": "QT4KfYHSz8u5",
        "colab_type": "code",
        "colab": {
          "base_uri": "https://localhost:8080/"
        },
        "outputId": "47ed7f32-aabd-4dc6-a172-c1cf1933bd7d"
      },
      "source": [
        "b2.author"
      ],
      "execution_count": null,
      "outputs": [
        {
          "output_type": "execute_result",
          "data": {
            "application/vnd.google.colaboratory.intrinsic+json": {
              "type": "string"
            },
            "text/plain": [
              "'David Cohen'"
            ]
          },
          "metadata": {
            "tags": []
          },
          "execution_count": 231
        }
      ]
    },
    {
      "cell_type": "code",
      "metadata": {
        "id": "IVnWRZTW0AyH",
        "colab_type": "code",
        "colab": {
          "base_uri": "https://localhost:8080/"
        },
        "outputId": "c6cd1c97-cafe-4828-b57f-1f599911614e"
      },
      "source": [
        "b3.author"
      ],
      "execution_count": null,
      "outputs": [
        {
          "output_type": "execute_result",
          "data": {
            "application/vnd.google.colaboratory.intrinsic+json": {
              "type": "string"
            },
            "text/plain": [
              "'David Cohen'"
            ]
          },
          "metadata": {
            "tags": []
          },
          "execution_count": 232
        }
      ]
    },
    {
      "cell_type": "code",
      "metadata": {
        "id": "i5M6LXN_0YOO",
        "colab_type": "code",
        "colab": {
          "base_uri": "https://localhost:8080/"
        },
        "outputId": "fbfbfa84-c5dc-4d39-c627-53848d91890a"
      },
      "source": [
        "b1.nice_author_name()"
      ],
      "execution_count": null,
      "outputs": [
        {
          "output_type": "execute_result",
          "data": {
            "application/vnd.google.colaboratory.intrinsic+json": {
              "type": "string"
            },
            "text/plain": [
              "'Smith, John'"
            ]
          },
          "metadata": {
            "tags": []
          },
          "execution_count": 233
        }
      ]
    },
    {
      "cell_type": "code",
      "metadata": {
        "id": "SxxkoVHL059z",
        "colab_type": "code",
        "colab": {
          "base_uri": "https://localhost:8080/"
        },
        "outputId": "434c8daa-8aab-4ba8-e344-178610512b84"
      },
      "source": [
        "b2.nice_author_name()"
      ],
      "execution_count": null,
      "outputs": [
        {
          "output_type": "execute_result",
          "data": {
            "application/vnd.google.colaboratory.intrinsic+json": {
              "type": "string"
            },
            "text/plain": [
              "'Cohen, David'"
            ]
          },
          "metadata": {
            "tags": []
          },
          "execution_count": 234
        }
      ]
    },
    {
      "cell_type": "code",
      "metadata": {
        "id": "DhYIY7rq2Ayt",
        "colab_type": "code",
        "colab": {
          "base_uri": "https://localhost:8080/"
        },
        "outputId": "3b012e9f-85fb-4b60-a954-56745d7267f7"
      },
      "source": [
        "b1.price_with_tax()"
      ],
      "execution_count": null,
      "outputs": [
        {
          "output_type": "execute_result",
          "data": {
            "text/plain": [
              "34.5"
            ]
          },
          "metadata": {
            "tags": []
          },
          "execution_count": 235
        }
      ]
    },
    {
      "cell_type": "code",
      "metadata": {
        "id": "7MLPNleg2H-9",
        "colab_type": "code",
        "colab": {
          "base_uri": "https://localhost:8080/"
        },
        "outputId": "c3a309c8-46bd-4bce-b94b-73ff4d86e7cc"
      },
      "source": [
        "b2.price_with_tax()"
      ],
      "execution_count": null,
      "outputs": [
        {
          "output_type": "execute_result",
          "data": {
            "text/plain": [
              "34.5"
            ]
          },
          "metadata": {
            "tags": []
          },
          "execution_count": 236
        }
      ]
    },
    {
      "cell_type": "code",
      "metadata": {
        "id": "eEkbPw6G2NQy",
        "colab_type": "code",
        "colab": {
          "base_uri": "https://localhost:8080/"
        },
        "outputId": "233193c9-fedb-46bc-b6fa-4050a772a6d5"
      },
      "source": [
        "b3.price_with_tax()"
      ],
      "execution_count": null,
      "outputs": [
        {
          "output_type": "execute_result",
          "data": {
            "text/plain": [
              "28.749999999999996"
            ]
          },
          "metadata": {
            "tags": []
          },
          "execution_count": 237
        }
      ]
    },
    {
      "cell_type": "code",
      "metadata": {
        "id": "qZn2e4T-2ZTr",
        "colab_type": "code",
        "colab": {}
      },
      "source": [
        "# has-a relationship -- composition\n",
        "# Bookshelf has-a book\n",
        "\n",
        "class Bookshelf(object):\n",
        "    def __init__(self):\n",
        "        self.books = [ ]\n",
        "    \n",
        "    def add_books(self, *args):\n",
        "        self.books += args\n",
        "\n",
        "    def total_price(self):\n",
        "        return sum([one_book.price\n",
        "                for one_book in shelf.books])\n",
        "\n",
        "shelf = Bookshelf()\n",
        "shelf.add_books(b1, b2)\n",
        "shelf.add_books(b3)"
      ],
      "execution_count": null,
      "outputs": []
    },
    {
      "cell_type": "code",
      "metadata": {
        "id": "UsmygUC73hYk",
        "colab_type": "code",
        "colab": {
          "base_uri": "https://localhost:8080/"
        },
        "outputId": "352aaa58-66bb-43cb-91e4-c4682243a59e"
      },
      "source": [
        "shelf.books"
      ],
      "execution_count": null,
      "outputs": [
        {
          "output_type": "execute_result",
          "data": {
            "text/plain": [
              "[<__main__.Book at 0x7f85d722ca20>,\n",
              " <__main__.Book at 0x7f85d722c438>,\n",
              " <__main__.Book at 0x7f85d722c128>]"
            ]
          },
          "metadata": {
            "tags": []
          },
          "execution_count": 239
        }
      ]
    },
    {
      "cell_type": "code",
      "metadata": {
        "id": "yo4HWQQd3l9U",
        "colab_type": "code",
        "colab": {
          "base_uri": "https://localhost:8080/"
        },
        "outputId": "98038663-7d86-42e3-b1a7-b57182f51128"
      },
      "source": [
        "shelf.books[0].title"
      ],
      "execution_count": null,
      "outputs": [
        {
          "output_type": "execute_result",
          "data": {
            "application/vnd.google.colaboratory.intrinsic+json": {
              "type": "string"
            },
            "text/plain": [
              "'Title1'"
            ]
          },
          "metadata": {
            "tags": []
          },
          "execution_count": 240
        }
      ]
    },
    {
      "cell_type": "code",
      "metadata": {
        "id": "Nebrjfvu3tzE",
        "colab_type": "code",
        "colab": {
          "base_uri": "https://localhost:8080/"
        },
        "outputId": "3076b3a7-9907-4623-ea5e-b913d37a4b0f"
      },
      "source": [
        "shelf.total_price()"
      ],
      "execution_count": null,
      "outputs": [
        {
          "output_type": "execute_result",
          "data": {
            "text/plain": [
              "85"
            ]
          },
          "metadata": {
            "tags": []
          },
          "execution_count": 241
        }
      ]
    },
    {
      "cell_type": "markdown",
      "metadata": {
        "id": "RB6wqEhrGpnZ",
        "colab_type": "text"
      },
      "source": [
        "## Methods Exercises"
      ]
    },
    {
      "cell_type": "markdown",
      "metadata": {
        "id": "lzNkqFMKGvM8",
        "colab_type": "text"
      },
      "source": [
        "Exercise 1:\n",
        "\n",
        "(1) Create a Bowl class.  We can put scoops in the bowl!\n",
        "\n",
        "    b = Bowl()\n",
        "    b.add_scoops(s1, s2)\n",
        "    b.add_scoops(s3)\n",
        "    b.flavors()  # returns a string of \"chocolate, vanilla, coffee\""
      ]
    },
    {
      "cell_type": "code",
      "metadata": {
        "id": "fO2R9RUHG6n4",
        "colab_type": "code",
        "colab": {
          "base_uri": "https://localhost:8080/",
          "height": 35
        },
        "outputId": "c9474b94-1733-47ec-dbc7-6204652d17ea"
      },
      "source": [
        "class Scoop(object):\n",
        "    def __init__(self, flavor):\n",
        "        self.flavor = flavor\n",
        "\n",
        "s1 = Scoop('chocolate')\n",
        "s2 = Scoop('vanilla')\n",
        "s3 = Scoop('coffee')\n",
        "\n",
        "class Bowl(object):\n",
        "  def __init__(self):\n",
        "      self.scoops = [ ]\n",
        "      \n",
        "  def add_scoops(self, *new_scoops):\n",
        "      self.scoops += new_scoops\n",
        "\n",
        "  def flavors(self):\n",
        "    return ', '.join([a_scoop.flavor\n",
        "                      for a_scoop in self.scoops])\n",
        "  # ', '.join()\n",
        "\n",
        "b = Bowl()\n",
        "b.add_scoops(s1, s2)\n",
        "b.add_scoops(s3)\n",
        "b.flavors()\n",
        "\n",
        "# come back and rework method expects string needs to join items from our list\n",
        "# use scoops attribute\n",
        "# for a_scoop in [s1, s2, s3]:\n",
        "#  ', '.join(a_scoop.flavor)"
      ],
      "execution_count": null,
      "outputs": [
        {
          "output_type": "execute_result",
          "data": {
            "application/vnd.google.colaboratory.intrinsic+json": {
              "type": "string"
            },
            "text/plain": [
              "'chocolate, vanilla, coffee'"
            ]
          },
          "metadata": {
            "tags": []
          },
          "execution_count": 260
        }
      ]
    },
    {
      "cell_type": "code",
      "metadata": {
        "id": "yo0JHauoYDPo",
        "colab_type": "code",
        "colab": {
          "base_uri": "https://localhost:8080/",
          "height": 71
        },
        "outputId": "96a7d7d9-2b34-4c7b-fe3c-5aa93fc65714"
      },
      "source": [
        "b.scoops"
      ],
      "execution_count": null,
      "outputs": [
        {
          "output_type": "execute_result",
          "data": {
            "text/plain": [
              "[<__main__.Scoop at 0x7f85d736abe0>,\n",
              " <__main__.Scoop at 0x7f85d736a8d0>,\n",
              " <__main__.Scoop at 0x7f85d736a940>]"
            ]
          },
          "metadata": {
            "tags": []
          },
          "execution_count": 261
        }
      ]
    },
    {
      "cell_type": "markdown",
      "metadata": {
        "id": "8563htkeVsmF",
        "colab_type": "text"
      },
      "source": [
        "Exercise 2: \n",
        "(2) Use our existing Person and BankAccount classes.  Make it possible\n",
        "    for a person to have one or more bank accounts.  So we can say:\n",
        "\n",
        "    p1.add_account(ba1)\n",
        "    p1.add_account(ba2)\n",
        "\n",
        "    p1.all_balances()           # returns a list of floats representing balances\n",
        "    p1.current_total_balance()  # gives the total balance across all accounts\n",
        "    \n",
        "    p1.average_transaction_amount()  # returns the average amount of transactions across all accounts\n"
      ]
    },
    {
      "cell_type": "code",
      "metadata": {
        "colab_type": "code",
        "id": "JlL7_h3xWNCS",
        "colab": {
          "base_uri": "https://localhost:8080/",
          "height": 125
        },
        "outputId": "2fa63e75-76d7-4c2e-b062-a12968c3804e"
      },
      "source": [
        "class Person(object):\n",
        "    def __init__(self, name, email, phonenumber):\n",
        "        self.name = name\n",
        "        self.email = email\n",
        "        self.phonenumber = phonenumber\n",
        "        self.accounts = []\n",
        "\n",
        "    def add_account(self, *args): # alternative can use append\n",
        "        self.accounts += args\n",
        "\n",
        "    def all_balances(self):\n",
        "        return [sum(one_transaction.transactions)\n",
        "                for one_transaction in self.accounts]\n",
        "    \n",
        "    def current_total_balances(self):\n",
        "        return sum([sum(one_transaction.transactions)\n",
        "                for one_transaction in self.accounts])\n",
        "\n",
        "    def average_transaction_amount(self):\n",
        "         return sum([sum(one_transaction.transactions)\n",
        "                for one_transaction in self.accounts]) / sum([len(one_transaction.transactions)\n",
        "                for one_transaction in self.accounts])\n",
        "\n",
        "p1 = Person(\"Jane Doe\", 'jdoe@gmail.com', '123-456-7891')\n",
        "p2 = Person(\"Al Bundy\", 'abundy@gmail.com', '321-654-9187')\n",
        "p3 = Person('Mike Trout', 'mtrout@gmail.com', '213-546-8791')\n",
        "\n",
        "\n",
        "all_people = [p1, p2, p3]\n",
        "\n",
        "for one_person in all_people:\n",
        "    print(f\"{one_person.name}, email {one_person.email}, phone {one_person.phonenumber}\")\n",
        "\n",
        "p2.email = 'bundya@gmail.com'\n",
        "\n",
        "for one_person in all_people:\n",
        "    print(f\"{one_person.name}, email {one_person.email}, phone {one_person.phonenumber}\")\n",
        "\n",
        "class BankAccount(object):\n",
        "    def __init__(self):\n",
        "        self.transactions = []\n",
        "\n",
        "checking = BankAccount()\n",
        "savings = BankAccount()\n",
        "# adding transactions to checking\n",
        "checking.transactions.append(100)\n",
        "checking.transactions.append(-50)\n",
        "checking.transactions.append(500)\n",
        "checking.transactions.append(-250)\n",
        "# adding transactions to savings\n",
        "savings.transactions.append(1000)\n",
        "savings.transactions.append(2000)\n",
        "savings.transactions.append(-100)\n",
        "\n",
        "p1.add_account(checking)\n",
        "p1.add_account(savings)\n",
        "\n",
        "\n",
        "#print(p1.accounts[0].transactions)\n",
        "#print(p1.accounts[1].transactions)\n",
        "\n",
        "# code for all_balances() method\n",
        "#[one_transaction.transactions\n",
        "# for one_transaction in p1.accounts ]\n",
        "\n",
        "# just need to iterate through the accounts sum transactions then sum results\n",
        "#sum(p1.accounts[0].transactions)\n",
        "#sum(p1.accounts[1].transactions)\n",
        "\n",
        "# sum([sum(one_transaction.transactions)\n",
        "# for one_transaction in p1.accounts ])\n",
        "#len(p1.accounts[0].transactions) + len(p1.accounts[1].transactions)\n"
      ],
      "execution_count": null,
      "outputs": [
        {
          "output_type": "stream",
          "text": [
            "Jane Doe, email jdoe@gmail.com, phone 123-456-7891\n",
            "Al Bundy, email abundy@gmail.com, phone 321-654-9187\n",
            "Mike Trout, email mtrout@gmail.com, phone 213-546-8791\n",
            "Jane Doe, email jdoe@gmail.com, phone 123-456-7891\n",
            "Al Bundy, email bundya@gmail.com, phone 321-654-9187\n",
            "Mike Trout, email mtrout@gmail.com, phone 213-546-8791\n"
          ],
          "name": "stdout"
        }
      ]
    },
    {
      "cell_type": "code",
      "metadata": {
        "id": "wo2TfpRH2bps",
        "colab_type": "code",
        "colab": {
          "base_uri": "https://localhost:8080/",
          "height": 35
        },
        "outputId": "ad01bd02-e93e-4cc2-f72c-9806e21d7dc6"
      },
      "source": [
        "p1.all_balances()"
      ],
      "execution_count": null,
      "outputs": [
        {
          "output_type": "execute_result",
          "data": {
            "text/plain": [
              "[300, 2900]"
            ]
          },
          "metadata": {
            "tags": []
          },
          "execution_count": 263
        }
      ]
    },
    {
      "cell_type": "code",
      "metadata": {
        "id": "MEKCBXk-2osN",
        "colab_type": "code",
        "colab": {
          "base_uri": "https://localhost:8080/",
          "height": 35
        },
        "outputId": "ed328287-7483-498b-d6c5-389e7bc058dc"
      },
      "source": [
        "p1.current_total_balances()"
      ],
      "execution_count": null,
      "outputs": [
        {
          "output_type": "execute_result",
          "data": {
            "text/plain": [
              "3200"
            ]
          },
          "metadata": {
            "tags": []
          },
          "execution_count": 264
        }
      ]
    },
    {
      "cell_type": "code",
      "metadata": {
        "id": "iau80wcQ4nXv",
        "colab_type": "code",
        "colab": {
          "base_uri": "https://localhost:8080/",
          "height": 35
        },
        "outputId": "277bbe5c-8681-4a48-b28e-59375bbb9069"
      },
      "source": [
        "p1.average_transaction_amount()"
      ],
      "execution_count": null,
      "outputs": [
        {
          "output_type": "execute_result",
          "data": {
            "text/plain": [
              "457.14285714285717"
            ]
          },
          "metadata": {
            "tags": []
          },
          "execution_count": 265
        }
      ]
    },
    {
      "cell_type": "markdown",
      "metadata": {
        "id": "RocPU96FhFcR",
        "colab_type": "text"
      },
      "source": [
        "(3) Create a ShoppingCart class.\n",
        "\n",
        "    sc = ShoppingCart()\n",
        "    sc.add('book', 30, 1)    # name, price-per-unit, quantity\n",
        "    sc.add('toothbrush', 3, 4)\n",
        "\n",
        "    sc.remove('toothbrush')   # removes one toothbrush -- or removes\n",
        "                              # the item altogether if the quantity is 0\n",
        "    \n",
        "    sc.total()  # returns the total price of items in the shopping cart"
      ]
    },
    {
      "cell_type": "code",
      "metadata": {
        "id": "jMk9Li_O5J_S",
        "colab_type": "code",
        "colab": {
          "base_uri": "https://localhost:8080/",
          "height": 35
        },
        "outputId": "0f55c97c-c3ab-400d-d359-643180e8fa9f"
      },
      "source": [
        "class Shoppingcart(object):\n",
        "    def __init__(self):\n",
        "       self.items = { }\n",
        "\n",
        "    def add(self, name, price, new_quantity):\n",
        "        if name in self.items:\n",
        "            price, previous_quantity = self.items[name]\n",
        "            self.items[name] = (price, previous_quantity + new_quantity)\n",
        "        else:\n",
        "            self.items[name] = (price, new_quantity)\n",
        "         \n",
        "        \n",
        "    \n",
        "    def remove(self, name):\n",
        "        if name in self.items:\n",
        "            price, quantity = self.items[name]\n",
        "            if quantity == 1:\n",
        "                del(self.items[name])\n",
        "            else:\n",
        "                self.items[name] = {price, quantity-1}\n",
        "\n",
        "    def total(self):\n",
        "        return sum([price * quantity\n",
        "                   for price, quantity in self.items.values()])\n",
        "        \n",
        "sc = Shoppingcart()\n",
        "sc.add('book', 30, 1)\n",
        "sc.add('toothbrush', 4, 3)\n",
        "sc.add('toothbrush', 4, 1)\n",
        "\n",
        "# sc.remove('toothbrush')\n",
        "\n",
        "sc.total()\n",
        "\n",
        "\n",
        "\n",
        "\n"
      ],
      "execution_count": null,
      "outputs": [
        {
          "output_type": "execute_result",
          "data": {
            "text/plain": [
              "46"
            ]
          },
          "metadata": {
            "tags": []
          },
          "execution_count": 129
        }
      ]
    },
    {
      "cell_type": "code",
      "metadata": {
        "id": "icAfE2QnVljr",
        "colab_type": "code",
        "colab": {
          "base_uri": "https://localhost:8080/",
          "height": 35
        },
        "outputId": "c66c2bb3-3860-469d-c2b9-db8d793d3c39"
      },
      "source": [
        "sc.items"
      ],
      "execution_count": null,
      "outputs": [
        {
          "output_type": "execute_result",
          "data": {
            "text/plain": [
              "{'book': (30, 1), 'toothbrush': (4, 4)}"
            ]
          },
          "metadata": {
            "tags": []
          },
          "execution_count": 130
        }
      ]
    },
    {
      "cell_type": "markdown",
      "metadata": {
        "id": "5Z7Fn_vYbRWx",
        "colab_type": "text"
      },
      "source": [
        "## Visualizing Methods"
      ]
    },
    {
      "cell_type": "markdown",
      "metadata": {
        "id": "76n8UK6bbUyM",
        "colab_type": "text"
      },
      "source": [
        "[python code visualization](http://www.pythontutor.com/visualize.html#mode=edit)\n",
        "* A class is like a factory for new types or objects.\n",
        "* init method runs when we create our new object with our class\n"
      ]
    },
    {
      "cell_type": "markdown",
      "metadata": {
        "id": "ko30IRVPsiHC",
        "colab_type": "text"
      },
      "source": [
        "## Classes vs. functions"
      ]
    },
    {
      "cell_type": "markdown",
      "metadata": {
        "id": "18jqminw_BGj",
        "colab_type": "text"
      },
      "source": [
        "* add comment about class definitions"
      ]
    },
    {
      "cell_type": "code",
      "metadata": {
        "id": "uzCM75tdslxz",
        "colab_type": "code",
        "colab": {
          "base_uri": "https://localhost:8080/",
          "height": 199
        },
        "outputId": "5f50503f-37cf-41e1-86b7-26dafe9ef8cb"
      },
      "source": [
        "print('A')\n",
        "class Person():\n",
        "    print('B')\n",
        "    def __init__(self, name):\n",
        "        print('C')\n",
        "        self.name = name\n",
        "\n",
        "    print('D')\n",
        "\n",
        "    def greet(self):\n",
        "        return f'Hello, {self.name}'\n",
        "print('E')\n",
        "\n",
        "print(dir(Person))\n",
        "\n",
        "p1 = Person('name1')\n",
        "p2 = Person('name2')\n",
        "\n",
        "print(p1.greet())\n",
        "print(p2.greet())"
      ],
      "execution_count": null,
      "outputs": [
        {
          "output_type": "stream",
          "text": [
            "A\n",
            "B\n",
            "D\n",
            "E\n",
            "['__class__', '__delattr__', '__dict__', '__dir__', '__doc__', '__eq__', '__format__', '__ge__', '__getattribute__', '__gt__', '__hash__', '__init__', '__init_subclass__', '__le__', '__lt__', '__module__', '__ne__', '__new__', '__reduce__', '__reduce_ex__', '__repr__', '__setattr__', '__sizeof__', '__str__', '__subclasshook__', '__weakref__', 'greet']\n",
            "C\n",
            "C\n",
            "Hello, name1\n",
            "Hello, name2\n"
          ],
          "name": "stdout"
        }
      ]
    },
    {
      "cell_type": "markdown",
      "metadata": {
        "id": "G9wYJkSiFsD4",
        "colab_type": "text"
      },
      "source": [
        "## Class attributes\n"
      ]
    },
    {
      "cell_type": "markdown",
      "metadata": {
        "id": "a7M_QuXuHO0Y",
        "colab_type": "text"
      },
      "source": [
        "* Local variables in Python are either parameters to a function in python or on the left side of assignment.\n",
        "* Using the global parameter in classes is a bad practice.\n",
        "* Anything that we define within the init method in a class is an attribute and not a variable.\n",
        "* Also must be an attribute of a global variable.\n",
        "* An attribute in Python is not analagous to a static member in other languages.\n",
        "* Never use a local or instance variable on a class attribute.\n",
        "* Python will look for a class attribute if the instance object doesn't have it."
      ]
    },
    {
      "cell_type": "code",
      "metadata": {
        "id": "TkV_uaLiFwPq",
        "colab_type": "code",
        "colab": {
          "base_uri": "https://localhost:8080/",
          "height": 89
        },
        "outputId": "d21df637-82cc-4246-da48-040e3e6fe8f0"
      },
      "source": [
        "class Person():\n",
        "    population = 0 # this defines Person.population = 0 -- class attribute\n",
        "    \n",
        "    def __init__(self, name):\n",
        "        Person.population += 1\n",
        "        # equivalent to population = population + 1\n",
        "        self.name = name\n",
        "\n",
        "\n",
        "print(f'Before, population = {Person.population}')\n",
        "p1 = Person('name1')\n",
        "p2 = Person('name2')\n",
        "print(f'After, population = {Person.population}')\n",
        "print(f'After, p1.population = {p1.population}')\n",
        "print(f'After, p2.population = {p2.population}')\n",
        "\n"
      ],
      "execution_count": null,
      "outputs": [
        {
          "output_type": "stream",
          "text": [
            "Before, population = 0\n",
            "After, population = 2\n",
            "After, p1.population = 2\n",
            "After, p2.population = 2\n"
          ],
          "name": "stdout"
        }
      ]
    },
    {
      "cell_type": "code",
      "metadata": {
        "id": "_RDaSzDLN5VQ",
        "colab_type": "code",
        "colab": {}
      },
      "source": [
        "# If I ask for a.b:\n",
        "# (1) looks for 'b' attribute on 'a'\n",
        "# (2) looks for 'b' attribute on type(a)\n",
        "# (3) looks for 'b' attribute on object"
      ],
      "execution_count": null,
      "outputs": []
    },
    {
      "cell_type": "markdown",
      "metadata": {
        "id": "HNYDDbjPPxXz",
        "colab_type": "text"
      },
      "source": [
        "## Class attributes exercises"
      ]
    },
    {
      "cell_type": "markdown",
      "metadata": {
        "id": "UWqOZXo2P1N_",
        "colab_type": "text"
      },
      "source": [
        "(1) Modify the Bowl class, such that adding a new scoop to the bowl\n",
        "    will only work if you have fewer than 3 scoops.  In other words: max 3\n",
        "    scoops per bowl.\n",
        "\n",
        "    Adding a new scoop to a bowl that is already full will be silently\n",
        "    ignored.\n"
      ]
    },
    {
      "cell_type": "code",
      "metadata": {
        "id": "-5GSkuG_P4Uy",
        "colab_type": "code",
        "colab": {
          "base_uri": "https://localhost:8080/",
          "height": 35
        },
        "outputId": "b52aee3f-3525-4c3e-fead-bf153d760e52"
      },
      "source": [
        "class Scoop():\n",
        "    def __init__(self, flavor):\n",
        "        self.flavor = flavor \n",
        "\n",
        "s1 = Scoop('chocolate')\n",
        "s2 = Scoop('vanilla')\n",
        "s3 = Scoop('coffee')\n",
        "\n",
        "class Bowl():\n",
        "    max_num_scoops = 3\n",
        "    \n",
        "    \n",
        "    def __init__(self):\n",
        "      self.scoops = [ ]\n",
        "      self.current_num_scoops = len(self.scoops)\n",
        "\n",
        "    def add_scoops(self, *new_scoops):\n",
        "      self.current_num_scoops += len(new_scoops)\n",
        "      if self.current_num_scoops <= Bowl.max_num_scoops:\n",
        "        self.scoops += new_scoops\n",
        "      else: \n",
        "       pass\n",
        "\n",
        "    def flavors(self):\n",
        "      return ', '.join([a_scoop.flavor\n",
        "                      for a_scoop in self.scoops])\n",
        "      \n",
        "b = Bowl()\n",
        "b.add_scoops(s1, s2)\n",
        "b.add_scoops(s3)\n",
        "b.flavors()"
      ],
      "execution_count": null,
      "outputs": [
        {
          "output_type": "execute_result",
          "data": {
            "application/vnd.google.colaboratory.intrinsic+json": {
              "type": "string"
            },
            "text/plain": [
              "'chocolate, vanilla, coffee'"
            ]
          },
          "metadata": {
            "tags": []
          },
          "execution_count": 2
        }
      ]
    },
    {
      "cell_type": "markdown",
      "metadata": {
        "id": "1eXr5Sx7FGn9",
        "colab_type": "text"
      },
      "source": [
        "Alternative approaches or solutions:"
      ]
    },
    {
      "cell_type": "code",
      "metadata": {
        "id": "TEdn3SQNFBn1",
        "colab_type": "code",
        "colab": {}
      },
      "source": [
        "# class Scoop():\n",
        "#    def __init__(self, flavor):\n",
        "#        self.flavor = flavor \n",
        "\n",
        "#s1 = Scoop('chocolate')\n",
        "#s2 = Scoop('vanilla')\n",
        "#s3 = Scoop('coffee')\n",
        "\n",
        "#class Bowl():\n",
        "#    max_num_scoops = 3\n",
        "    \n",
        "    \n",
        "#    def __init__(self):\n",
        "#      self.scoops = [ ]\n",
        "      \n",
        "\n",
        "#    def add_scoops(self, *new_scoops):\n",
        "#       for one_scoop in new_scoops:\n",
        "#         if len(self.scoops) >= Bowl.max_scoops:\n",
        "#             break\n",
        "#         self.scoops.append(one_scoop)      \n",
        "\n",
        "#    def flavors(self):\n",
        "#      return ', '.join([a_scoop.flavor\n",
        "#                      for a_scoop in self.scoops])\n",
        "      "
      ],
      "execution_count": null,
      "outputs": []
    },
    {
      "cell_type": "code",
      "metadata": {
        "id": "CDfAO99gGUFb",
        "colab_type": "code",
        "colab": {}
      },
      "source": [
        "# class Scoop():\n",
        "#    def __init__(self, flavor):\n",
        "#        self.flavor = flavor \n",
        "\n",
        "#s1 = Scoop('chocolate')\n",
        "#s2 = Scoop('vanilla')\n",
        "#s3 = Scoop('coffee')\n",
        "\n",
        "#class Bowl():\n",
        "#    max_num_scoops = 3\n",
        "    \n",
        "    \n",
        "#    def __init__(self):\n",
        "#      self.scoops = [ ]\n",
        "      \n",
        "\n",
        "#    def add_scoops(self, *new_scoops):\n",
        "#        self.scoops += new_scoops[:Bowl.max_scoops-len(self.scoops)]\n",
        "\n",
        "\n",
        "#    def flavors(self):\n",
        "#      return ', '.join([a_scoop.flavor\n",
        "#                      for a_scoop in self.scoops])\n",
        "      "
      ],
      "execution_count": null,
      "outputs": []
    },
    {
      "cell_type": "code",
      "metadata": {
        "id": "wN52EfKTdNh2",
        "colab_type": "code",
        "colab": {
          "base_uri": "https://localhost:8080/",
          "height": 35
        },
        "outputId": "9fda8cdd-b919-4602-ef07-a2871f2c76d7"
      },
      "source": [
        "s4 = Scoop('strawberry')\n",
        "b.add_scoops(s4)\n",
        "b.flavors()\n",
        "\n"
      ],
      "execution_count": null,
      "outputs": [
        {
          "output_type": "execute_result",
          "data": {
            "application/vnd.google.colaboratory.intrinsic+json": {
              "type": "string"
            },
            "text/plain": [
              "'chocolate, vanilla, coffee'"
            ]
          },
          "metadata": {
            "tags": []
          },
          "execution_count": 3
        }
      ]
    },
    {
      "cell_type": "markdown",
      "metadata": {
        "id": "GEm7scGEP45I",
        "colab_type": "text"
      },
      "source": [
        "(2) Create a Loan class. Each time someone creates a new Loan, it's\n",
        "    for a certain amount of money.  That money is taken from the\n",
        "    bank's available assets.\n",
        "\n",
        "    l1 = Loan(500)\n",
        "    l2 = Loan(200)\n",
        "    l3 = Loan(700)  # raises an exception -- ValueError to indicate no money\n",
        "    l1.repay(500)\n",
        "    l3 = Loan(700)  # now it'll work, because the bank has sufficient funds"
      ]
    },
    {
      "cell_type": "code",
      "metadata": {
        "id": "jSNKw-O0QAwy",
        "colab_type": "code",
        "colab": {}
      },
      "source": [
        "class AssetsDepletedError(ValueError):\n",
        "    pass\n",
        "\n",
        "class Loan():\n",
        "    assets = 1400\n",
        "\n",
        "    def __init__(self, amount):\n",
        "      if amount >= Loan.assets:\n",
        "         raise AssetsDepletedError\n",
        "      else:\n",
        "          self.amount_owed = amount \n",
        "          Loan.assets -= amount\n",
        "      \n",
        "    \n",
        "    def repay(self, amount):\n",
        "       self.amount_owed -= amount\n",
        "       Loan.assets += amount"
      ],
      "execution_count": 5,
      "outputs": []
    },
    {
      "cell_type": "code",
      "metadata": {
        "id": "3CAg2RND4Tg5",
        "colab_type": "code",
        "colab": {
          "base_uri": "https://localhost:8080/",
          "height": 334
        },
        "outputId": "22257e9a-7cf8-42ab-e948-abb88c752282"
      },
      "source": [
        "l1 = Loan(500)\n",
        "l2 = Loan(200)\n",
        "l3 = Loan(700)"
      ],
      "execution_count": 6,
      "outputs": [
        {
          "output_type": "error",
          "ename": "AssetsDepletedError",
          "evalue": "ignored",
          "traceback": [
            "\u001b[0;31m---------------------------------------------------------------------------\u001b[0m",
            "\u001b[0;31mAssetsDepletedError\u001b[0m                       Traceback (most recent call last)",
            "\u001b[0;32m<ipython-input-6-334535b12a9a>\u001b[0m in \u001b[0;36m<module>\u001b[0;34m()\u001b[0m\n\u001b[1;32m      1\u001b[0m \u001b[0ml1\u001b[0m \u001b[0;34m=\u001b[0m \u001b[0mLoan\u001b[0m\u001b[0;34m(\u001b[0m\u001b[0;36m500\u001b[0m\u001b[0;34m)\u001b[0m\u001b[0;34m\u001b[0m\u001b[0;34m\u001b[0m\u001b[0m\n\u001b[1;32m      2\u001b[0m \u001b[0ml2\u001b[0m \u001b[0;34m=\u001b[0m \u001b[0mLoan\u001b[0m\u001b[0;34m(\u001b[0m\u001b[0;36m200\u001b[0m\u001b[0;34m)\u001b[0m\u001b[0;34m\u001b[0m\u001b[0;34m\u001b[0m\u001b[0m\n\u001b[0;32m----> 3\u001b[0;31m \u001b[0ml3\u001b[0m \u001b[0;34m=\u001b[0m \u001b[0mLoan\u001b[0m\u001b[0;34m(\u001b[0m\u001b[0;36m700\u001b[0m\u001b[0;34m)\u001b[0m\u001b[0;34m\u001b[0m\u001b[0;34m\u001b[0m\u001b[0m\n\u001b[0m",
            "\u001b[0;32m<ipython-input-5-d54ceb17bd5c>\u001b[0m in \u001b[0;36m__init__\u001b[0;34m(self, amount)\u001b[0m\n\u001b[1;32m      7\u001b[0m     \u001b[0;32mdef\u001b[0m \u001b[0m__init__\u001b[0m\u001b[0;34m(\u001b[0m\u001b[0mself\u001b[0m\u001b[0;34m,\u001b[0m \u001b[0mamount\u001b[0m\u001b[0;34m)\u001b[0m\u001b[0;34m:\u001b[0m\u001b[0;34m\u001b[0m\u001b[0;34m\u001b[0m\u001b[0m\n\u001b[1;32m      8\u001b[0m       \u001b[0;32mif\u001b[0m \u001b[0mamount\u001b[0m \u001b[0;34m>=\u001b[0m \u001b[0mLoan\u001b[0m\u001b[0;34m.\u001b[0m\u001b[0massets\u001b[0m\u001b[0;34m:\u001b[0m\u001b[0;34m\u001b[0m\u001b[0;34m\u001b[0m\u001b[0m\n\u001b[0;32m----> 9\u001b[0;31m          \u001b[0;32mraise\u001b[0m \u001b[0mAssetsDepletedError\u001b[0m\u001b[0;34m\u001b[0m\u001b[0;34m\u001b[0m\u001b[0m\n\u001b[0m\u001b[1;32m     10\u001b[0m       \u001b[0;32melse\u001b[0m\u001b[0;34m:\u001b[0m\u001b[0;34m\u001b[0m\u001b[0;34m\u001b[0m\u001b[0m\n\u001b[1;32m     11\u001b[0m           \u001b[0mself\u001b[0m\u001b[0;34m.\u001b[0m\u001b[0mamount_owed\u001b[0m \u001b[0;34m=\u001b[0m \u001b[0mamount\u001b[0m\u001b[0;34m\u001b[0m\u001b[0;34m\u001b[0m\u001b[0m\n",
            "\u001b[0;31mAssetsDepletedError\u001b[0m: "
          ]
        }
      ]
    },
    {
      "cell_type": "code",
      "metadata": {
        "id": "1hEm8rQe5SUk",
        "colab_type": "code",
        "colab": {
          "base_uri": "https://localhost:8080/",
          "height": 35
        },
        "outputId": "27d01a1b-5f14-4b38-9542-a63d94be0b79"
      },
      "source": [
        "l1.repay(500)\n",
        "l3 = Loan(100)\n",
        "l1.amount_owed"
      ],
      "execution_count": 7,
      "outputs": [
        {
          "output_type": "execute_result",
          "data": {
            "text/plain": [
              "0"
            ]
          },
          "metadata": {
            "tags": []
          },
          "execution_count": 7
        }
      ]
    }
  ]
}